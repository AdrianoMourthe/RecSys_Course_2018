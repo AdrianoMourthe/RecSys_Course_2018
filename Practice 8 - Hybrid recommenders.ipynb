{
 "cells": [
  {
   "cell_type": "markdown",
   "metadata": {},
   "source": [
    "# Recommender Systems 2018/19\n",
    "\n",
    "### Practice 8 - Hybrid recommenders\n",
    "\n",
    "\n",
    "### The way to go to achieve the best recommendation quality"
   ]
  },
  {
   "cell_type": "markdown",
   "metadata": {},
   "source": [
    "## A few info about hybrids\n",
    "\n",
    "\n",
    "#### There are many different types of hibrids, in this practice we will see the following\n",
    "* Linear combination of item-based models\n",
    "* Linear combination of heterogeneous models\n",
    "* User-wise discrimination\n"
   ]
  },
  {
   "cell_type": "markdown",
   "metadata": {},
   "source": [
    "### Prerequisite: parameter tuning!\n",
    "\n",
    "#### Let's have an example. In the course repo you will find a BayesianSearch object in the ParameterTuning folder. That is a simple wrapper of another library and its purpose is to provide a very simple way to tune some of the most common parameters. To run heavy tuning on more complex problems or with more sofisiticated constraints you may refer to other libraries."
   ]
  },
  {
   "cell_type": "code",
   "execution_count": 3,
   "metadata": {},
   "outputs": [],
   "source": [
    "from urllib.request import urlretrieve\n",
    "import zipfile\n",
    "\n",
    "# skip the download\n",
    "#urlretrieve (\"http://files.grouplens.org/datasets/movielens/ml-10m.zip\", \"data/Movielens_10M/movielens_10m.zip\")\n",
    "dataFile = zipfile.ZipFile(\"data/Movielens_10M/movielens_10m.zip\")\n",
    "URM_path = dataFile.extract(\"ml-10M100K/ratings.dat\", path = \"data/Movielens_10M\")\n",
    "URM_file = open(URM_path, 'r')\n",
    "\n",
    "\n",
    "def rowSplit (rowString):\n",
    "    \n",
    "    split = rowString.split(\"::\")\n",
    "    split[3] = split[3].replace(\"\\n\",\"\")\n",
    "    \n",
    "    split[0] = int(split[0])\n",
    "    split[1] = int(split[1])\n",
    "    split[2] = float(split[2])\n",
    "    split[3] = int(split[3])\n",
    "    \n",
    "    result = tuple(split)\n",
    "    \n",
    "    return result\n",
    "\n",
    "\n",
    "URM_file.seek(0)\n",
    "URM_tuples = []\n",
    "\n",
    "for line in URM_file:\n",
    "   URM_tuples.append(rowSplit (line))\n",
    "\n",
    "userList, itemList, ratingList, timestampList = zip(*URM_tuples)\n",
    "\n",
    "userList = list(userList)\n",
    "itemList = list(itemList)\n",
    "ratingList = list(ratingList)\n",
    "timestampList = list(timestampList)\n",
    "\n",
    "import scipy.sparse as sps\n",
    "\n",
    "URM_all = sps.coo_matrix((ratingList, (userList, itemList)))\n",
    "URM_all = URM_all.tocsr()\n",
    "\n"
   ]
  },
  {
   "cell_type": "code",
   "execution_count": 45,
   "metadata": {},
   "outputs": [
    {
     "name": "stdout",
     "output_type": "stream",
     "text": [
      "Number of items\t 7601, Number of users\t 4009\n",
      "Number of tags\t 16529, Number of item-tag tuples 95580\n",
      "\n",
      "Data example:\n",
      "[15, 20, 20, 20, 20, 20, 20, 20, 20, 20]\n",
      "[4973, 1747, 1747, 2424, 2424, 2424, 2947, 2947, 3033, 3033]\n",
      "['excellent!', 'politics', 'satire', 'chick flick 212', 'hanks', 'ryan', 'action', 'bond', 'spoof', 'star wars']\n"
     ]
    }
   ],
   "source": [
    "ICM_path = dataFile.extract(\"ml-10M100K/tags.dat\", path = \"data/Movielens_10M\")\n",
    "ICM_file = open(ICM_path, 'r')\n",
    "\n",
    "def rowSplit (rowString):\n",
    "    split = rowString.split(\"::\")\n",
    "    split[3] = split[3].replace(\"\\n\",\"\")\n",
    "    \n",
    "    split[0] = int(split[0])\n",
    "    split[1] = int(split[1])\n",
    "    split[2] = str(split[2]) # tag is a string, not a float like the rating\n",
    "    split[3] = int(split[3])\n",
    "    \n",
    "    result = tuple(split)\n",
    "    \n",
    "    return result\n",
    "\n",
    "ICM_file.seek(0)\n",
    "ICM_tuples = []\n",
    "\n",
    "for line in ICM_file:\n",
    "    ICM_tuples.append(rowSplit(line))\n",
    "    \n",
    "userList_icm, itemList_icm, tagList_icm, timestampList_icm = zip(*ICM_tuples)\n",
    "\n",
    "userList_icm = list(userList_icm)\n",
    "itemList_icm = list(itemList_icm)\n",
    "tagList_icm = list(tagList_icm)\n",
    "timestampList_icm = list(timestampList_icm)\n",
    "\n",
    "userList_unique = list(set(userList_icm))\n",
    "itemList_unique = list(set(itemList_icm))\n",
    "tagList_unique = list(set(tagList_icm))\n",
    "\n",
    "numUsers = len(userList_unique)\n",
    "numItems = len(itemList_unique)\n",
    "numTags = len(tagList_unique)\n",
    "\n",
    "\n",
    "print (\"Number of items\\t {}, Number of users\\t {}\".format(numItems, numUsers))\n",
    "print (\"Number of tags\\t {}, Number of item-tag tuples {}\".format(numTags, len(tagList_icm)))\n",
    "\n",
    "print(\"\\nData example:\")\n",
    "print(userList_icm[0:10])\n",
    "print(itemList_icm[0:10])\n",
    "print(tagList_icm[0:10])\n",
    "\n",
    "\n",
    "from sklearn import preprocessing\n",
    "le = preprocessing.LabelEncoder()\n",
    "le.fit(tagList_icm)\n",
    "\n",
    "tagList_icm = le.transform(tagList_icm)\n",
    "\n",
    "import numpy as np\n",
    "\n",
    "ones = np.ones(len(tagList_icm))\n",
    "\n",
    "ICM_all = sps.coo_matrix((ones, (itemList_icm, tagList_icm)), shape=(URM_all.shape[1], tagList_icm.max()+1))\n",
    "ICM_all = ICM_all.tocsr()"
   ]
  },
  {
   "cell_type": "code",
   "execution_count": null,
   "metadata": {},
   "outputs": [],
   "source": [
    "\n",
    "from Notebooks_utils.data_splitter import train_test_holdout\n",
    "\n",
    "URM_train, URM_test = train_test_holdout(URM_all, train_perc = 0.8)\n",
    "URM_train, URM_validation = train_test_holdout(URM_train, train_perc = 0.9)"
   ]
  },
  {
   "cell_type": "markdown",
   "metadata": {},
   "source": [
    "### Step 1: Import the evaluator objects"
   ]
  },
  {
   "cell_type": "code",
   "execution_count": 6,
   "metadata": {},
   "outputs": [],
   "source": [
    "from ParameterTuning.AbstractClassSearch import EvaluatorWrapper\n",
    "from Base.Evaluation.Evaluator import SequentialEvaluator\n",
    "\n",
    "evaluator_validation = SequentialEvaluator(URM_validation, cutoff_list=[5])\n",
    "evaluator_test = SequentialEvaluator(URM_test, cutoff_list=[5, 10])\n",
    "\n",
    "evaluator_validation = EvaluatorWrapper(evaluator_validation)\n",
    "evaluator_test = EvaluatorWrapper(evaluator_test)\n"
   ]
  },
  {
   "cell_type": "markdown",
   "metadata": {},
   "source": [
    "### Step 2: Create BayesianSearch object"
   ]
  },
  {
   "cell_type": "code",
   "execution_count": 8,
   "metadata": {},
   "outputs": [],
   "source": [
    "from KNN.ItemKNNCFRecommender import ItemKNNCFRecommender\n",
    "from ParameterTuning.BayesianSearch import BayesianSearch\n",
    "\n",
    "\n",
    "recommender_class = ItemKNNCFRecommender\n",
    "\n",
    "parameterSearch = BayesianSearch(recommender_class,\n",
    "                                 evaluator_validation=evaluator_validation,\n",
    "                                 evaluator_test=evaluator_test)\n",
    "\n"
   ]
  },
  {
   "cell_type": "markdown",
   "metadata": {},
   "source": [
    "### Step 3: Define parameters range"
   ]
  },
  {
   "cell_type": "code",
   "execution_count": 9,
   "metadata": {},
   "outputs": [],
   "source": [
    "from ParameterTuning.AbstractClassSearch import DictionaryKeys\n",
    "\n",
    "hyperparamethers_range_dictionary = {}\n",
    "hyperparamethers_range_dictionary[\"topK\"] = [5, 10, 20, 50, 100, 150, 200, 300, 400, 500, 600, 700, 800]\n",
    "hyperparamethers_range_dictionary[\"shrink\"] = [0, 10, 50, 100, 200, 300, 500, 1000]\n",
    "hyperparamethers_range_dictionary[\"similarity\"] = [\"cosine\"]\n",
    "hyperparamethers_range_dictionary[\"normalize\"] = [True, False]\n",
    "\n",
    "\n",
    "recommenderDictionary = {DictionaryKeys.CONSTRUCTOR_POSITIONAL_ARGS: [URM_train],\n",
    "                         DictionaryKeys.CONSTRUCTOR_KEYWORD_ARGS: {},\n",
    "                         DictionaryKeys.FIT_POSITIONAL_ARGS: dict(),\n",
    "                         DictionaryKeys.FIT_KEYWORD_ARGS: dict(),\n",
    "                         DictionaryKeys.FIT_RANGE_KEYWORD_ARGS: hyperparamethers_range_dictionary}\n",
    "\n",
    "output_root_path = \"result_experiments/\"\n",
    "\n",
    "import os\n",
    "\n",
    "# If directory does not exist, create\n",
    "if not os.path.exists(output_root_path):\n",
    "    os.makedirs(output_root_path)\n",
    "\n"
   ]
  },
  {
   "cell_type": "markdown",
   "metadata": {},
   "source": [
    "### Step 4: Run!"
   ]
  },
  {
   "cell_type": "code",
   "execution_count": 11,
   "metadata": {},
   "outputs": [
    {
     "name": "stdout",
     "output_type": "stream",
     "text": [
      "\u001b[31mInitialization\u001b[0m\n",
      "\u001b[94m----------------------------------------------------------------------------------\u001b[0m\n",
      " Step |   Time |      Value |   normalize |    shrink |   similarity |      topK | \n",
      "BayesianSearch: Testing config: {'topK': 500, 'shrink': 100, 'similarity': 'cosine', 'normalize': False}\n",
      "Similarity column 44696 ( 69 % ), 1489.86 column/sec, elapsed time 0.50 min\n",
      "Similarity column 65134 ( 100 % ), 1701.74 column/sec, elapsed time 0.64 min\n",
      "SequentialEvaluator: Processed 12001 ( 17.17% ) in 31.61 seconds. Users per second: 380\n",
      "SequentialEvaluator: Processed 25001 ( 35.78% ) in 63.14 seconds. Users per second: 396\n",
      "SequentialEvaluator: Processed 37422 ( 53.55% ) in 93.15 seconds. Users per second: 402\n",
      "SequentialEvaluator: Processed 50001 ( 71.55% ) in 124.12 seconds. Users per second: 403\n",
      "SequentialEvaluator: Processed 63001 ( 90.16% ) in 155.92 seconds. Users per second: 404\n",
      "SequentialEvaluator: Processed 69878 ( 100.00% ) in 171.24 seconds. Users per second: 408\n",
      "BayesianSearch: New best config found. Config: {'topK': 500, 'shrink': 100, 'similarity': 'cosine', 'normalize': False} - results: {'ROC_AUC': 0.5060593701403387, 'PRECISION': 0.42691261913625606, 'RECALL': 0.05515651067095852, 'RECALL_TEST_LEN': 0.42691261913625606, 'MAP': 0.3519586557205873, 'MRR': 0.6239574687312226, 'NDCG': 0.12588174301152777, 'F1': 0.09769142629967821, 'HIT_RATE': 2.134505853058187, 'ARHR': 1.0455040689963468, 'NOVELTY': 0.0006441900459946743, 'DIVERSITY_MEAN_INTER_LIST': 0.5584129353257816, 'DIVERSITY_HERFINDAHL': 0.9116809888141035, 'COVERAGE_ITEM': 0.005588479135321031, 'COVERAGE_USER': 0.9763860943438408, 'DIVERSITY_GINI': 0.03556816635804006, 'SHANNON_ENTROPY': 3.9520737596029454}\n",
      "\n",
      "BayesianSearch: Saving model in result_experiments/\n",
      "\n",
      "ItemKNNCFRecommender: Saving model in file 'result_experiments/_best_model'\n",
      "ItemKNNCFRecommender: Saving complete\n",
      "ItemKNNCFRecommender: Loading model from file 'result_experiments/_best_model'\n",
      "ItemKNNCFRecommender: Loading complete\n",
      "SequentialEvaluator: Processed 10001 ( 14.31% ) in 30.99 seconds. Users per second: 323\n",
      "SequentialEvaluator: Processed 21001 ( 30.05% ) in 61.90 seconds. Users per second: 339\n",
      "SequentialEvaluator: Processed 32001 ( 45.80% ) in 92.92 seconds. Users per second: 344\n",
      "SequentialEvaluator: Processed 43001 ( 61.54% ) in 123.69 seconds. Users per second: 348\n",
      "SequentialEvaluator: Processed 54001 ( 77.28% ) in 154.61 seconds. Users per second: 349\n",
      "SequentialEvaluator: Processed 65001 ( 93.02% ) in 185.30 seconds. Users per second: 351\n",
      "SequentialEvaluator: Processed 69878 ( 100.00% ) in 197.09 seconds. Users per second: 355\n",
      "BayesianSearch: Best result evaluated on URM_test. Config: {'topK': 500, 'shrink': 100, 'similarity': 'cosine', 'normalize': False} - results: CUTOFF: 5 - ROC_AUC: 0.5060594, PRECISION: 0.4269126, RECALL: 0.0551565, RECALL_TEST_LEN: 0.4269126, MAP: 0.3519587, MRR: 0.6239575, NDCG: 0.1258817, F1: 0.0976914, HIT_RATE: 2.1345059, ARHR: 1.0455041, NOVELTY: 0.0006442, DIVERSITY_MEAN_INTER_LIST: 0.5584129, DIVERSITY_HERFINDAHL: 0.9116810, COVERAGE_ITEM: 0.0055885, COVERAGE_USER: 0.9763861, DIVERSITY_GINI: 0.0355682, SHANNON_ENTROPY: 3.9520738, \n",
      "CUTOFF: 10 - ROC_AUC: 0.5282152, PRECISION: 0.3903050, RECALL: 0.0986001, RECALL_TEST_LEN: 0.3903050, MAP: 0.2908916, MRR: 0.6352584, NDCG: 0.1705022, F1: 0.1574298, HIT_RATE: 3.8924697, ARHR: 1.2754423, NOVELTY: 0.0013052, DIVERSITY_MEAN_INTER_LIST: 0.5150266, DIVERSITY_HERFINDAHL: 0.9515019, COVERAGE_ITEM: 0.0087819, COVERAGE_USER: 0.9763861, DIVERSITY_GINI: 0.0365768, SHANNON_ENTROPY: 4.6883274, \n",
      "\n",
      "\n",
      "    1 | 06m48s | \u001b[35m   0.35196\u001b[0m | \u001b[32m     0.5162\u001b[0m | \u001b[32m   3.1932\u001b[0m | \u001b[32m      0.0000\u001b[0m | \u001b[32m   8.5193\u001b[0m | \n",
      "BayesianSearch: Testing config: {'topK': 800, 'shrink': 200, 'similarity': 'cosine', 'normalize': True}\n",
      "Similarity column 65134 ( 100 % ), 1455.18 column/sec, elapsed time 0.75 min\n",
      "SequentialEvaluator: Processed 15001 ( 21.47% ) in 31.11 seconds. Users per second: 482\n",
      "SequentialEvaluator: Processed 31001 ( 44.36% ) in 62.24 seconds. Users per second: 498\n",
      "SequentialEvaluator: Processed 47001 ( 67.26% ) in 93.22 seconds. Users per second: 504\n",
      "SequentialEvaluator: Processed 63001 ( 90.16% ) in 124.08 seconds. Users per second: 508\n",
      "SequentialEvaluator: Processed 69878 ( 100.00% ) in 136.19 seconds. Users per second: 513\n",
      "BayesianSearch: New best config found. Config: {'topK': 800, 'shrink': 200, 'similarity': 'cosine', 'normalize': True} - results: {'ROC_AUC': 0.6126964137496793, 'PRECISION': 0.5564691319156054, 'RECALL': 0.07939391308030702, 'RECALL_TEST_LEN': 0.5564691319156054, 'MAP': 0.48665155302408225, 'MRR': 0.7345089537002742, 'NDCG': 0.15521379124981, 'F1': 0.1389615648805805, 'HIT_RATE': 2.782249062652051, 'ARHR': 1.345445633819169, 'NOVELTY': 0.0006981868766909762, 'DIVERSITY_MEAN_INTER_LIST': 0.9166280124681375, 'DIVERSITY_HERFINDAHL': 0.9833229789840466, 'COVERAGE_ITEM': 0.022246445788681794, 'COVERAGE_USER': 0.9763860943438408, 'DIVERSITY_GINI': 0.06284206069494518, 'SHANNON_ENTROPY': 6.740760062430592}\n",
      "\n",
      "BayesianSearch: Saving model in result_experiments/\n",
      "\n",
      "ItemKNNCFRecommender: Saving model in file 'result_experiments/_best_model'\n",
      "ItemKNNCFRecommender: Saving complete\n",
      "ItemKNNCFRecommender: Loading model from file 'result_experiments/_best_model'\n",
      "ItemKNNCFRecommender: Loading complete\n",
      "SequentialEvaluator: Processed 3001 ( 4.29% ) in 33.70 seconds. Users per second: 89\n",
      "SequentialEvaluator: Processed 16001 ( 22.90% ) in 69.79 seconds. Users per second: 229\n",
      "SequentialEvaluator: Processed 28915 ( 41.38% ) in 101.51 seconds. Users per second: 285\n",
      "SequentialEvaluator: Processed 42001 ( 60.11% ) in 132.87 seconds. Users per second: 316\n",
      "SequentialEvaluator: Processed 55001 ( 78.71% ) in 162.99 seconds. Users per second: 337\n",
      "SequentialEvaluator: Processed 68001 ( 97.31% ) in 193.21 seconds. Users per second: 352\n",
      "SequentialEvaluator: Processed 69878 ( 100.00% ) in 196.05 seconds. Users per second: 356\n",
      "BayesianSearch: Best result evaluated on URM_test. Config: {'topK': 800, 'shrink': 200, 'similarity': 'cosine', 'normalize': True} - results: CUTOFF: 5 - ROC_AUC: 0.6126964, PRECISION: 0.5564691, RECALL: 0.0793939, RECALL_TEST_LEN: 0.5564691, MAP: 0.4866516, MRR: 0.7345090, NDCG: 0.1552138, F1: 0.1389616, HIT_RATE: 2.7822491, ARHR: 1.3454456, NOVELTY: 0.0006982, DIVERSITY_MEAN_INTER_LIST: 0.9166280, DIVERSITY_HERFINDAHL: 0.9833230, COVERAGE_ITEM: 0.0222464, COVERAGE_USER: 0.9763861, DIVERSITY_GINI: 0.0628421, SHANNON_ENTROPY: 6.7407601, \n",
      "CUTOFF: 10 - ROC_AUC: 0.6006560, PRECISION: 0.5014059, RECALL: 0.1364721, RECALL_TEST_LEN: 0.5014059, MAP: 0.4076468, MRR: 0.7411159, NDCG: 0.2112062, F1: 0.2145486, HIT_RATE: 4.9966370, ARHR: 1.6336368, NOVELTY: 0.0014091, DIVERSITY_MEAN_INTER_LIST: 0.8839721, DIVERSITY_HERFINDAHL: 0.9883959, COVERAGE_ITEM: 0.0296005, COVERAGE_USER: 0.9763861, DIVERSITY_GINI: 0.0611793, SHANNON_ENTROPY: 7.1738653, \n",
      "\n",
      "\n",
      "    2 | 06m19s | \u001b[35m   0.48665\u001b[0m | \u001b[32m     0.3780\u001b[0m | \u001b[32m   3.9324\u001b[0m | \u001b[32m      0.0000\u001b[0m | \u001b[32m  11.7382\u001b[0m | \n",
      "BayesianSearch: Testing config: {'topK': 10, 'shrink': 10, 'similarity': 'cosine', 'normalize': False}\n",
      "Similarity column 46533 ( 71 % ), 1551.04 column/sec, elapsed time 0.50 min\n",
      "Similarity column 65134 ( 100 % ), 1759.06 column/sec, elapsed time 0.62 min\n",
      "SequentialEvaluator: Processed 19001 ( 27.19% ) in 30.10 seconds. Users per second: 631\n",
      "SequentialEvaluator: Processed 40001 ( 57.24% ) in 60.26 seconds. Users per second: 664\n",
      "SequentialEvaluator: Processed 61001 ( 87.30% ) in 90.41 seconds. Users per second: 675\n",
      "SequentialEvaluator: Processed 69878 ( 100.00% ) in 102.27 seconds. Users per second: 683\n",
      "BayesianSearch: Config is suboptimal. Config: {'topK': 10, 'shrink': 10, 'similarity': 'cosine', 'normalize': False} - results: {'ROC_AUC': 0.5112314796263956, 'PRECISION': 0.433777440682363, 'RECALL': 0.05860043463057174, 'RECALL_TEST_LEN': 0.433777440682363, 'MAP': 0.3548181870943123, 'MRR': 0.6224360075178677, 'NDCG': 0.1255002584982327, 'F1': 0.10325218833509904, 'HIT_RATE': 2.1688228054609464, 'ARHR': 1.054053493230997, 'NOVELTY': 0.0006811444253726743, 'DIVERSITY_MEAN_INTER_LIST': 0.8433877611073977, 'DIVERSITY_HERFINDAHL': 0.968675138335103, 'COVERAGE_ITEM': 0.03225657874535573, 'COVERAGE_USER': 0.9763860943438408, 'DIVERSITY_GINI': 0.04179853597771013, 'SHANNON_ENTROPY': 6.112303707425548}\n",
      "\n",
      "    3 | 02m20s |    0.35482 |      0.6535 |    0.9703 |       0.0000 |    1.3228 | \n",
      "BayesianSearch: Testing config: {'topK': 500, 'shrink': 100, 'similarity': 'cosine', 'normalize': False}\n"
     ]
    },
    {
     "name": "stdout",
     "output_type": "stream",
     "text": [
      "Similarity column 65134 ( 100 % ), 1777.11 column/sec, elapsed time 0.61 min\n",
      "SequentialEvaluator: Processed 12001 ( 17.17% ) in 30.97 seconds. Users per second: 388\n",
      "SequentialEvaluator: Processed 25001 ( 35.78% ) in 61.19 seconds. Users per second: 409\n",
      "SequentialEvaluator: Processed 38001 ( 54.38% ) in 92.76 seconds. Users per second: 410\n",
      "SequentialEvaluator: Processed 50355 ( 72.06% ) in 122.76 seconds. Users per second: 410\n",
      "SequentialEvaluator: Processed 62001 ( 88.73% ) in 153.12 seconds. Users per second: 405\n",
      "SequentialEvaluator: Processed 69878 ( 100.00% ) in 170.45 seconds. Users per second: 410\n",
      "BayesianSearch: Config is suboptimal. Config: {'topK': 500, 'shrink': 100, 'similarity': 'cosine', 'normalize': False} - results: {'ROC_AUC': 0.5060593701403387, 'PRECISION': 0.42691261913625606, 'RECALL': 0.05515651067095852, 'RECALL_TEST_LEN': 0.42691261913625606, 'MAP': 0.3519586557205873, 'MRR': 0.6239574687312226, 'NDCG': 0.12588174301152777, 'F1': 0.09769142629967821, 'HIT_RATE': 2.134505853058187, 'ARHR': 1.0455040689963468, 'NOVELTY': 0.0006441900459946743, 'DIVERSITY_MEAN_INTER_LIST': 0.5584129353257816, 'DIVERSITY_HERFINDAHL': 0.9116809888141035, 'COVERAGE_ITEM': 0.005588479135321031, 'COVERAGE_USER': 0.9763860943438408, 'DIVERSITY_GINI': 0.03556816635804006, 'SHANNON_ENTROPY': 3.9520737596029454}\n",
      "\n",
      "    4 | 03m28s |    0.35196 |      0.7714 |    2.6847 |       0.0000 |    9.4000 | \n",
      "BayesianSearch: Testing config: {'topK': 600, 'shrink': 200, 'similarity': 'cosine', 'normalize': True}\n",
      "Similarity column 65134 ( 100 % ), 1431.39 column/sec, elapsed time 0.76 min\n",
      "SequentialEvaluator: Processed 15562 ( 22.27% ) in 30.00 seconds. Users per second: 519\n",
      "SequentialEvaluator: Processed 32001 ( 45.80% ) in 60.33 seconds. Users per second: 530\n",
      "SequentialEvaluator: Processed 49001 ( 70.12% ) in 90.78 seconds. Users per second: 540\n",
      "SequentialEvaluator: Processed 66001 ( 94.45% ) in 120.80 seconds. Users per second: 546\n",
      "SequentialEvaluator: Processed 69878 ( 100.00% ) in 126.47 seconds. Users per second: 553\n",
      "BayesianSearch: New best config found. Config: {'topK': 600, 'shrink': 200, 'similarity': 'cosine', 'normalize': True} - results: {'ROC_AUC': 0.6129420800061052, 'PRECISION': 0.5593658471430984, 'RECALL': 0.0796905963187714, 'RECALL_TEST_LEN': 0.5593658471430984, 'MAP': 0.4892017834256385, 'MRR': 0.7362250398313421, 'NDCG': 0.15537333463025846, 'F1': 0.13950629361535558, 'HIT_RATE': 2.796745756890581, 'ARHR': 1.3506914431821517, 'NOVELTY': 0.0007010300996747023, 'DIVERSITY_MEAN_INTER_LIST': 0.9256185918812599, 'DIVERSITY_HERFINDAHL': 0.9851210691344537, 'COVERAGE_ITEM': 0.02441121380538582, 'COVERAGE_USER': 0.9763860943438408, 'DIVERSITY_GINI': 0.06563947160561723, 'SHANNON_ENTROPY': 6.921810072767316}\n",
      "\n",
      "BayesianSearch: Saving model in result_experiments/\n",
      "\n",
      "ItemKNNCFRecommender: Saving model in file 'result_experiments/_best_model'\n",
      "ItemKNNCFRecommender: Saving complete\n",
      "ItemKNNCFRecommender: Loading model from file 'result_experiments/_best_model'\n",
      "ItemKNNCFRecommender: Loading complete\n",
      "SequentialEvaluator: Processed 12891 ( 18.45% ) in 30.00 seconds. Users per second: 430\n",
      "SequentialEvaluator: Processed 26001 ( 37.21% ) in 61.06 seconds. Users per second: 426\n",
      "SequentialEvaluator: Processed 40001 ( 57.24% ) in 92.39 seconds. Users per second: 433\n",
      "SequentialEvaluator: Processed 53459 ( 76.50% ) in 122.39 seconds. Users per second: 437\n",
      "SequentialEvaluator: Processed 66617 ( 95.33% ) in 152.40 seconds. Users per second: 437\n",
      "SequentialEvaluator: Processed 69878 ( 100.00% ) in 159.34 seconds. Users per second: 439\n",
      "BayesianSearch: Best result evaluated on URM_test. Config: {'topK': 600, 'shrink': 200, 'similarity': 'cosine', 'normalize': True} - results: CUTOFF: 5 - ROC_AUC: 0.6129421, PRECISION: 0.5593658, RECALL: 0.0796906, RECALL_TEST_LEN: 0.5593658, MAP: 0.4892018, MRR: 0.7362250, NDCG: 0.1553733, F1: 0.1395063, HIT_RATE: 2.7967458, ARHR: 1.3506914, NOVELTY: 0.0007010, DIVERSITY_MEAN_INTER_LIST: 0.9256186, DIVERSITY_HERFINDAHL: 0.9851211, COVERAGE_ITEM: 0.0244112, COVERAGE_USER: 0.9763861, DIVERSITY_GINI: 0.0656395, SHANNON_ENTROPY: 6.9218101, \n",
      "CUTOFF: 10 - ROC_AUC: 0.6028205, PRECISION: 0.5040312, RECALL: 0.1369974, RECALL_TEST_LEN: 0.5040312, MAP: 0.4104152, MRR: 0.7427504, NDCG: 0.2113247, F1: 0.2154380, HIT_RATE: 5.0229400, ARHR: 1.6405619, NOVELTY: 0.0014145, DIVERSITY_MEAN_INTER_LIST: 0.8941768, DIVERSITY_HERFINDAHL: 0.9894164, COVERAGE_ITEM: 0.0322412, COVERAGE_USER: 0.9763861, DIVERSITY_GINI: 0.0630875, SHANNON_ENTROPY: 7.3259307, \n",
      "\n",
      "\n",
      "    5 | 05m34s | \u001b[35m   0.48920\u001b[0m | \u001b[32m     0.0051\u001b[0m | \u001b[32m   3.7845\u001b[0m | \u001b[32m      0.0000\u001b[0m | \u001b[32m  10.0208\u001b[0m | \n",
      "\u001b[31mBayesian Optimization\u001b[0m\n",
      "\u001b[94m----------------------------------------------------------------------------------\u001b[0m\n",
      " Step |   Time |      Value |   normalize |    shrink |   similarity |      topK | \n",
      "BayesianSearch: Testing config: {'topK': 5, 'shrink': 1000, 'similarity': 'cosine', 'normalize': True}\n",
      "Similarity column 65134 ( 100 % ), 1516.17 column/sec, elapsed time 0.72 min\n",
      "SequentialEvaluator: Processed 27001 ( 38.64% ) in 30.23 seconds. Users per second: 893\n",
      "SequentialEvaluator: Processed 55004 ( 78.71% ) in 60.23 seconds. Users per second: 913\n",
      "SequentialEvaluator: Processed 69878 ( 100.00% ) in 75.67 seconds. Users per second: 924\n",
      "BayesianSearch: Config is suboptimal. Config: {'topK': 5, 'shrink': 1000, 'similarity': 'cosine', 'normalize': True} - results: {'ROC_AUC': 0.5306522319852729, 'PRECISION': 0.45820549147563544, 'RECALL': 0.06385862001073132, 'RECALL_TEST_LEN': 0.45820549147563544, 'MAP': 0.37250585544326464, 'MRR': 0.6568431170516359, 'NDCG': 0.12476703955824274, 'F1': 0.11209493134345475, 'HIT_RATE': 2.2909356306705972, 'ARHR': 1.1117137487239037, 'NOVELTY': 0.0007323839161461031, 'DIVERSITY_MEAN_INTER_LIST': 0.9717560123758211, 'DIVERSITY_HERFINDAHL': 0.9943484211820179, 'COVERAGE_ITEM': 0.0386894709368379, 'COVERAGE_USER': 0.9763860943438408, 'DIVERSITY_GINI': 0.1187225462899191, 'SHANNON_ENTROPY': 8.456260546414457}\n",
      "\n",
      "    6 | 02m04s |    0.37251 |      0.0000 |    7.0000 |       0.0000 |    0.0000 | \n",
      "BayesianSearch: Testing config: {'topK': 800, 'shrink': 0, 'similarity': 'cosine', 'normalize': True}\n",
      "Similarity column 65134 ( 100 % ), 1426.63 column/sec, elapsed time 0.76 min\n",
      "SequentialEvaluator: Processed 15001 ( 21.47% ) in 30.86 seconds. Users per second: 486\n",
      "SequentialEvaluator: Processed 32001 ( 45.80% ) in 62.15 seconds. Users per second: 515\n",
      "SequentialEvaluator: Processed 48950 ( 70.05% ) in 92.15 seconds. Users per second: 531\n",
      "SequentialEvaluator: Processed 65001 ( 93.02% ) in 123.37 seconds. Users per second: 527\n",
      "SequentialEvaluator: Processed 69878 ( 100.00% ) in 131.09 seconds. Users per second: 533\n",
      "BayesianSearch: Config is suboptimal. Config: {'topK': 800, 'shrink': 0, 'similarity': 'cosine', 'normalize': True} - results: {'ROC_AUC': 0.6123982750889667, 'PRECISION': 0.5565292366696066, 'RECALL': 0.07937284353703823, 'RECALL_TEST_LEN': 0.5565292366696066, 'MAP': 0.48657852097775545, 'MRR': 0.7339548928132036, 'NDCG': 0.15505044393011164, 'F1': 0.13893116377794928, 'HIT_RATE': 2.78254958642205, 'ARHR': 1.3449387980959449, 'NOVELTY': 0.0006990787495760446, 'DIVERSITY_MEAN_INTER_LIST': 0.9173964244548276, 'DIVERSITY_HERFINDAHL': 0.9834766591820887, 'COVERAGE_ITEM': 0.024825743851137654, 'COVERAGE_USER': 0.9763860943438408, 'DIVERSITY_GINI': 0.05819121590371296, 'SHANNON_ENTROPY': 6.765169009107552}\n",
      "\n",
      "    7 | 03m01s |    0.48658 |      0.0000 |    0.0000 |       0.0000 |   12.0000 | \n",
      "BayesianSearch: Best config is: Config {'topK': 600, 'shrink': 200, 'similarity': 'cosine', 'normalize': True}, MAP value is 0.4892\n",
      "\n"
     ]
    }
   ],
   "source": [
    "n_cases = 2\n",
    "metric_to_optimize = \"MAP\"\n",
    "\n",
    "best_parameters = parameterSearch.search(recommenderDictionary,\n",
    "                                         n_cases = n_cases,\n",
    "                                         output_root_path = output_root_path,\n",
    "                                         metric=metric_to_optimize)"
   ]
  },
  {
   "cell_type": "code",
   "execution_count": 12,
   "metadata": {},
   "outputs": [
    {
     "data": {
      "text/plain": [
       "{'topK': 600, 'shrink': 200, 'similarity': 'cosine', 'normalize': True}"
      ]
     },
     "execution_count": 12,
     "metadata": {},
     "output_type": "execute_result"
    }
   ],
   "source": [
    "best_parameters"
   ]
  },
  {
   "cell_type": "markdown",
   "metadata": {},
   "source": [
    "# Linear combination of item-based models\n",
    "\n",
    "#### Let's use an ItemKNNCF with the parameters we just learned and a graph based model"
   ]
  },
  {
   "cell_type": "code",
   "execution_count": 13,
   "metadata": {},
   "outputs": [
    {
     "name": "stdout",
     "output_type": "stream",
     "text": [
      "Similarity column 63232 ( 97 % ), 1386.60 column/sec, elapsed time 0.76 min\n",
      "Similarity column 65134 ( 100 % ), 1402.54 column/sec, elapsed time 0.77 min\n",
      "Processed 44000 ( 67.55% ) in 1.00 minutes. Rows per second: 731\n"
     ]
    }
   ],
   "source": [
    "itemKNNCF = ItemKNNCFRecommender(URM_train)\n",
    "itemKNNCF.fit(**best_parameters)\n",
    "\n",
    "\n",
    "from GraphBased.P3alphaRecommender import P3alphaRecommender\n",
    "\n",
    "P3alpha = P3alphaRecommender(URM_train)\n",
    "P3alpha.fit()"
   ]
  },
  {
   "cell_type": "code",
   "execution_count": 14,
   "metadata": {},
   "outputs": [
    {
     "data": {
      "text/plain": [
       "<65134x65134 sparse matrix of type '<class 'numpy.float32'>'\n",
       "\twith 6286723 stored elements in Compressed Sparse Row format>"
      ]
     },
     "execution_count": 14,
     "metadata": {},
     "output_type": "execute_result"
    }
   ],
   "source": [
    "itemKNNCF.W_sparse"
   ]
  },
  {
   "cell_type": "code",
   "execution_count": 15,
   "metadata": {},
   "outputs": [
    {
     "data": {
      "text/plain": [
       "<65134x65134 sparse matrix of type '<class 'numpy.float32'>'\n",
       "\twith 219887 stored elements in Compressed Sparse Row format>"
      ]
     },
     "execution_count": 15,
     "metadata": {},
     "output_type": "execute_result"
    }
   ],
   "source": [
    "P3alpha.W_sparse"
   ]
  },
  {
   "cell_type": "markdown",
   "metadata": {},
   "source": [
    "### We may define another Recommender which takes the two matrices as input as well as the weights"
   ]
  },
  {
   "cell_type": "code",
   "execution_count": 22,
   "metadata": {},
   "outputs": [],
   "source": [
    "from Base.Recommender import Recommender\n",
    "from Base.Recommender_utils import check_matrix, similarityMatrixTopK\n",
    "from Base.SimilarityMatrixRecommender import SimilarityMatrixRecommender\n",
    "\n",
    "\n",
    "class ItemKNNSimilarityHybridRecommender(SimilarityMatrixRecommender, Recommender):\n",
    "    \"\"\" ItemKNNSimilarityHybridRecommender\n",
    "    Hybrid of two similarities S = S1*alpha + S2*(1-alpha)\n",
    "\n",
    "    \"\"\"\n",
    "\n",
    "    RECOMMENDER_NAME = \"ItemKNNSimilarityHybridRecommender\"\n",
    "\n",
    "\n",
    "    def __init__(self, URM_train, Similarity_1, Similarity_2, sparse_weights=True):\n",
    "        super(ItemKNNSimilarityHybridRecommender, self).__init__()\n",
    "\n",
    "        if Similarity_1.shape != Similarity_2.shape:\n",
    "            raise ValueError(\"ItemKNNSimilarityHybridRecommender: similarities have different size, S1 is {}, S2 is {}\".format(\n",
    "                Similarity_1.shape, Similarity_2.shape\n",
    "            ))\n",
    "\n",
    "        # CSR is faster during evaluation\n",
    "        self.Similarity_1 = check_matrix(Similarity_1.copy(), 'csr')\n",
    "        self.Similarity_2 = check_matrix(Similarity_2.copy(), 'csr')\n",
    "\n",
    "        self.URM_train = check_matrix(URM_train.copy(), 'csr')\n",
    "\n",
    "        self.sparse_weights = sparse_weights\n",
    "\n",
    "\n",
    "    def fit(self, topK=100, alpha = 0.5):\n",
    "\n",
    "        self.topK = topK\n",
    "        self.alpha = alpha\n",
    "\n",
    "        W = self.Similarity_1*self.alpha + self.Similarity_2*(1-self.alpha)\n",
    "\n",
    "        if self.sparse_weights:\n",
    "            self.W_sparse = similarityMatrixTopK(W, forceSparseOutput=True, k=self.topK)\n",
    "        else:\n",
    "            self.W = similarityMatrixTopK(W, forceSparseOutput=False, k=self.topK)\n",
    "\n"
   ]
  },
  {
   "cell_type": "code",
   "execution_count": 23,
   "metadata": {},
   "outputs": [],
   "source": [
    "hybridrecommender = ItemKNNSimilarityHybridRecommender(URM_train, itemKNNCF.W_sparse, P3alpha.W_sparse)\n",
    "hybridrecommender.fit(alpha = 0.5)"
   ]
  },
  {
   "cell_type": "code",
   "execution_count": 24,
   "metadata": {},
   "outputs": [
    {
     "name": "stdout",
     "output_type": "stream",
     "text": [
      "SequentialEvaluator: Processed 4001 ( 5.73% ) in 30.89 seconds. Users per second: 130\n",
      "SequentialEvaluator: Processed 25190 ( 36.05% ) in 61.03 seconds. Users per second: 413\n",
      "SequentialEvaluator: Processed 47001 ( 67.26% ) in 91.57 seconds. Users per second: 513\n",
      "SequentialEvaluator: Processed 68001 ( 97.31% ) in 122.28 seconds. Users per second: 556\n",
      "SequentialEvaluator: Processed 69878 ( 100.00% ) in 124.64 seconds. Users per second: 561\n"
     ]
    },
    {
     "data": {
      "text/plain": [
       "({5: {'ROC_AUC': 0.5971121096768636,\n",
       "   'PRECISION': 0.5502733335241292,\n",
       "   'RECALL': 0.07793219220483752,\n",
       "   'RECALL_TEST_LEN': 0.5502733335241292,\n",
       "   'MAP': 0.47525382333011273,\n",
       "   'MRR': 0.7227110106185191,\n",
       "   'NDCG': 0.14804865207868584,\n",
       "   'F1': 0.13652858956831587,\n",
       "   'HIT_RATE': 2.7512664930307107,\n",
       "   'ARHR': 1.318911293015624,\n",
       "   'NOVELTY': 0.0007185835703278092,\n",
       "   'DIVERSITY_MEAN_INTER_LIST': 0.9551846654513061,\n",
       "   'DIVERSITY_HERFINDAHL': 0.9910341992264831,\n",
       "   'COVERAGE_ITEM': 0.035634230970000305,\n",
       "   'COVERAGE_USER': 0.9763860943438408,\n",
       "   'DIVERSITY_GINI': 0.08577621403356887,\n",
       "   'SHANNON_ENTROPY': 7.787088236293191}},\n",
       " 'CUTOFF: 5 - ROC_AUC: 0.5971121, PRECISION: 0.5502733, RECALL: 0.0779322, RECALL_TEST_LEN: 0.5502733, MAP: 0.4752538, MRR: 0.7227110, NDCG: 0.1480487, F1: 0.1365286, HIT_RATE: 2.7512665, ARHR: 1.3189113, NOVELTY: 0.0007186, DIVERSITY_MEAN_INTER_LIST: 0.9551847, DIVERSITY_HERFINDAHL: 0.9910342, COVERAGE_ITEM: 0.0356342, COVERAGE_USER: 0.9763861, DIVERSITY_GINI: 0.0857762, SHANNON_ENTROPY: 7.7870882, \\n')"
      ]
     },
     "execution_count": 24,
     "metadata": {},
     "output_type": "execute_result"
    }
   ],
   "source": [
    "evaluator_validation.evaluateRecommender(hybridrecommender)"
   ]
  },
  {
   "cell_type": "markdown",
   "metadata": {},
   "source": [
    "### In this case the alpha coefficient is too a parameter to be tuned"
   ]
  },
  {
   "cell_type": "markdown",
   "metadata": {},
   "source": [
    "# Linear combination of predictions\n",
    "\n",
    "#### In case of models with incompatible structure (e.g., ItemKNN with UserKNN or MF) you may ensemble the prediction values"
   ]
  },
  {
   "cell_type": "code",
   "execution_count": 25,
   "metadata": {},
   "outputs": [
    {
     "name": "stdout",
     "output_type": "stream",
     "text": [
      "PureSVDRecommender Computing SVD decomposition...\n",
      "PureSVDRecommender Computing SVD decomposition... Done!\n"
     ]
    }
   ],
   "source": [
    "from MatrixFactorization.PureSVD import PureSVDRecommender\n",
    "\n",
    "pureSVD = PureSVDRecommender(URM_train)\n",
    "pureSVD.fit()\n",
    "\n",
    "user_id = 42\n",
    "\n"
   ]
  },
  {
   "cell_type": "code",
   "execution_count": 27,
   "metadata": {},
   "outputs": [
    {
     "data": {
      "text/plain": [
       "array([[ 0.        , 14.145684  , 13.599203  , ...,  0.        ,\n",
       "         0.        ,  0.07821521]], dtype=float32)"
      ]
     },
     "execution_count": 27,
     "metadata": {},
     "output_type": "execute_result"
    }
   ],
   "source": [
    "item_scores = itemKNNCF.compute_item_score(user_id)\n",
    "item_scores"
   ]
  },
  {
   "cell_type": "code",
   "execution_count": 28,
   "metadata": {},
   "outputs": [
    {
     "data": {
      "text/plain": [
       "array([-1.4399568e-07, -1.0878356e-01,  1.6590253e-01, ...,\n",
       "        0.0000000e+00,  0.0000000e+00,  2.0369750e-03], dtype=float32)"
      ]
     },
     "execution_count": 28,
     "metadata": {},
     "output_type": "execute_result"
    }
   ],
   "source": [
    "item_scores = pureSVD.compute_item_score(user_id)\n",
    "item_scores"
   ]
  },
  {
   "cell_type": "code",
   "execution_count": 31,
   "metadata": {},
   "outputs": [],
   "source": [
    "\n",
    "class ItemKNNScoresHybridRecommender(Recommender):\n",
    "    \"\"\" ItemKNNScoresHybridRecommender\n",
    "    Hybrid of two prediction scores R = R1*alpha + R2*(1-alpha)\n",
    "\n",
    "    \"\"\"\n",
    "\n",
    "    RECOMMENDER_NAME = \"ItemKNNScoresHybridRecommender\"\n",
    "\n",
    "\n",
    "    def __init__(self, URM_train, Recommender_1, Recommender_2):\n",
    "        super(ItemKNNScoresHybridRecommender, self).__init__()\n",
    "\n",
    "        self.URM_train = check_matrix(URM_train.copy(), 'csr')\n",
    "        self.Recommender_1 = Recommender_1\n",
    "        self.Recommender_2 = Recommender_2\n",
    "        \n",
    "        self.compute_item_score = self.compute_score_hybrid\n",
    "        \n",
    "  \n",
    "    def fit(self, alpha = 0.5):\n",
    "\n",
    "        self.alpha = alpha      \n",
    "\n",
    "\n",
    "    def compute_score_hybrid(self, user_id_array):\n",
    "        \n",
    "        item_weights_1 = self.Recommender_1.compute_item_score(user_id_array)\n",
    "        item_weights_2 = self.Recommender_2.compute_item_score(user_id_array)\n",
    "\n",
    "        item_weights = item_weights_1*self.alpha + item_weights_2*(1-self.alpha)\n",
    "\n",
    "        return item_weights\n"
   ]
  },
  {
   "cell_type": "code",
   "execution_count": 32,
   "metadata": {},
   "outputs": [
    {
     "name": "stdout",
     "output_type": "stream",
     "text": [
      "SequentialEvaluator: Processed 10001 ( 14.31% ) in 31.72 seconds. Users per second: 315\n",
      "SequentialEvaluator: Processed 22001 ( 31.48% ) in 62.62 seconds. Users per second: 351\n",
      "SequentialEvaluator: Processed 34001 ( 48.66% ) in 93.71 seconds. Users per second: 363\n",
      "SequentialEvaluator: Processed 46001 ( 65.83% ) in 125.79 seconds. Users per second: 366\n",
      "SequentialEvaluator: Processed 58001 ( 83.00% ) in 157.33 seconds. Users per second: 369\n",
      "SequentialEvaluator: Processed 69878 ( 100.00% ) in 186.35 seconds. Users per second: 375\n"
     ]
    },
    {
     "data": {
      "text/plain": [
       "({5: {'ROC_AUC': 0.6181213448200189,\n",
       "   'PRECISION': 0.5692337597908538,\n",
       "   'RECALL': 0.08157308348771604,\n",
       "   'RECALL_TEST_LEN': 0.5692337597908538,\n",
       "   'MAP': 0.49841635898748854,\n",
       "   'MRR': 0.743138040585039,\n",
       "   'NDCG': 0.15475923359051175,\n",
       "   'F1': 0.14269718731759018,\n",
       "   'HIT_RATE': 2.8460745871375828,\n",
       "   'ARHR': 1.3697708864022944,\n",
       "   'NOVELTY': 0.0007099023770725256,\n",
       "   'DIVERSITY_MEAN_INTER_LIST': 0.9446769986743312,\n",
       "   'DIVERSITY_HERFINDAHL': 0.9889326959454083,\n",
       "   'COVERAGE_ITEM': 0.023428624067307398,\n",
       "   'COVERAGE_USER': 0.9763860943438408,\n",
       "   'DIVERSITY_GINI': 0.08140527002876545,\n",
       "   'SHANNON_ENTROPY': 7.269714354376191}},\n",
       " 'CUTOFF: 5 - ROC_AUC: 0.6181213, PRECISION: 0.5692338, RECALL: 0.0815731, RECALL_TEST_LEN: 0.5692338, MAP: 0.4984164, MRR: 0.7431380, NDCG: 0.1547592, F1: 0.1426972, HIT_RATE: 2.8460746, ARHR: 1.3697709, NOVELTY: 0.0007099, DIVERSITY_MEAN_INTER_LIST: 0.9446770, DIVERSITY_HERFINDAHL: 0.9889327, COVERAGE_ITEM: 0.0234286, COVERAGE_USER: 0.9763861, DIVERSITY_GINI: 0.0814053, SHANNON_ENTROPY: 7.2697144, \\n')"
      ]
     },
     "execution_count": 32,
     "metadata": {},
     "output_type": "execute_result"
    }
   ],
   "source": [
    "hybridrecommender = ItemKNNScoresHybridRecommender(URM_train, itemKNNCF, pureSVD)\n",
    "hybridrecommender.fit(alpha = 0.5)\n",
    "\n",
    "evaluator_validation.evaluateRecommender(hybridrecommender)"
   ]
  },
  {
   "cell_type": "markdown",
   "metadata": {},
   "source": [
    "# User-wise hybrid\n",
    "\n",
    "### Models do not have the same accuracy for different user types. Let's divide the users according to their profile length and then compare the recommendation quality we get from a CF model\n",
    "\n"
   ]
  },
  {
   "cell_type": "code",
   "execution_count": 33,
   "metadata": {},
   "outputs": [],
   "source": [
    "URM_train = sps.csr_matrix(URM_train)\n",
    "\n",
    "profile_length = np.ediff1d(URM_train.indptr)\n"
   ]
  },
  {
   "cell_type": "markdown",
   "metadata": {},
   "source": [
    "### Let's select a few groups of 5% of the users with the least number of interactions"
   ]
  },
  {
   "cell_type": "code",
   "execution_count": 34,
   "metadata": {},
   "outputs": [
    {
     "data": {
      "text/plain": [
       "3578"
      ]
     },
     "execution_count": 34,
     "metadata": {},
     "output_type": "execute_result"
    }
   ],
   "source": [
    "block_size = int(len(profile_length)*0.05)\n",
    "block_size"
   ]
  },
  {
   "cell_type": "code",
   "execution_count": 35,
   "metadata": {},
   "outputs": [],
   "source": [
    "sorted_users = np.argsort(profile_length)"
   ]
  },
  {
   "cell_type": "code",
   "execution_count": 37,
   "metadata": {},
   "outputs": [
    {
     "name": "stdout",
     "output_type": "stream",
     "text": [
      "Group 0, average p.len 4.13, min 0, max 9\n",
      "Group 1, average p.len 10.26, min 9, max 11\n",
      "Group 2, average p.len 12.24, min 11, max 13\n",
      "Group 3, average p.len 13.98, min 13, max 15\n",
      "Group 4, average p.len 15.93, min 15, max 17\n"
     ]
    }
   ],
   "source": [
    "for group_id in range(0, 10):\n",
    "    \n",
    "    start_pos = group_id*block_size\n",
    "    end_pos = min((group_id+1)*block_size, len(profile_length))\n",
    "    \n",
    "    users_in_group = sorted_users[start_pos:end_pos]\n",
    "    \n",
    "    users_in_group_p_len = profile_length[users_in_group]\n",
    "    \n",
    "    print(\"Group {}, average p.len {:.2f}, min {}, max {}\".format(group_id, \n",
    "        users_in_group_p_len.mean(), users_in_group_p_len.min(), users_in_group_p_len.max()))"
   ]
  },
  {
   "cell_type": "markdown",
   "metadata": {},
   "source": [
    "### Now we plot the recommendation quality of TopPop and ItemKNNCF"
   ]
  },
  {
   "cell_type": "code",
   "execution_count": 38,
   "metadata": {},
   "outputs": [],
   "source": [
    "from Base.NonPersonalizedRecommender import TopPop\n",
    "\n",
    "topPop = TopPop(URM_train)\n",
    "topPop.fit()\n"
   ]
  },
  {
   "cell_type": "code",
   "execution_count": 46,
   "metadata": {},
   "outputs": [],
   "source": [
    "from KNN.ItemKNNCBFRecommender import ItemKNNCBFRecommender\n",
    "\n",
    "\n",
    "recommender_class = ItemKNNCBFRecommender\n",
    "\n",
    "parameterSearch = BayesianSearch(recommender_class,\n",
    "                                 evaluator_validation=evaluator_validation,\n",
    "                                 evaluator_test=evaluator_test)\n"
   ]
  },
  {
   "cell_type": "code",
   "execution_count": 47,
   "metadata": {},
   "outputs": [
    {
     "name": "stdout",
     "output_type": "stream",
     "text": [
      "\u001b[31mInitialization\u001b[0m\n",
      "\u001b[94m----------------------------------------------------------------------------------\u001b[0m\n",
      " Step |   Time |      Value |   normalize |    shrink |   similarity |      topK | \n",
      "BayesianSearch: Testing config: {'topK': 100, 'shrink': 300, 'similarity': 'cosine', 'normalize': True}\n",
      "Similarity column 56831 ( 87 % ), 1872.88 column/sec, elapsed time 0.51 min\n",
      "Similarity column 65134 ( 100 % ), 1830.50 column/sec, elapsed time 0.59 min\n",
      "SequentialEvaluator: Processed 17001 ( 24.33% ) in 31.02 seconds. Users per second: 548\n",
      "SequentialEvaluator: Processed 36001 ( 51.52% ) in 61.39 seconds. Users per second: 586\n",
      "SequentialEvaluator: Processed 54001 ( 77.28% ) in 91.95 seconds. Users per second: 587\n",
      "SequentialEvaluator: Processed 69878 ( 100.00% ) in 118.53 seconds. Users per second: 590\n",
      "BayesianSearch: New best config found. Config: {'topK': 100, 'shrink': 300, 'similarity': 'cosine', 'normalize': True} - results: {'ROC_AUC': 0.4021830905292083, 'PRECISION': 0.2746622685252045, 'RECALL': 0.025855152081036763, 'RECALL_TEST_LEN': 0.2746622685252045, 'MAP': 0.22017734480098394, 'MRR': 0.4599246782487469, 'NDCG': 0.06727098956232883, 'F1': 0.0472613847764021, 'HIT_RATE': 1.3733077649617906, 'ARHR': 0.7053364435157969, 'NOVELTY': 0.0007477811759815585, 'DIVERSITY_MEAN_INTER_LIST': 0.9166821851720061, 'DIVERSITY_HERFINDAHL': 0.9833338133697709, 'COVERAGE_ITEM': 0.010977369730094881, 'COVERAGE_USER': 0.9763860943438408, 'DIVERSITY_GINI': 0.11585977220314225, 'SHANNON_ENTROPY': 6.698866414614651}\n",
      "\n",
      "BayesianSearch: Saving model in result_experiments/\n",
      "\n",
      "ItemKNNCBFRecommender: Saving model in file 'result_experiments/_best_model'\n",
      "ItemKNNCBFRecommender: Saving complete\n",
      "ItemKNNCBFRecommender: Loading model from file 'result_experiments/_best_model'\n",
      "ItemKNNCBFRecommender: Loading complete\n",
      "SequentialEvaluator: Processed 13203 ( 18.89% ) in 30.00 seconds. Users per second: 440\n",
      "SequentialEvaluator: Processed 28001 ( 40.07% ) in 60.37 seconds. Users per second: 464\n",
      "SequentialEvaluator: Processed 42001 ( 60.11% ) in 90.59 seconds. Users per second: 464\n",
      "SequentialEvaluator: Processed 57159 ( 81.80% ) in 120.60 seconds. Users per second: 474\n",
      "SequentialEvaluator: Processed 69878 ( 100.00% ) in 145.60 seconds. Users per second: 480\n",
      "BayesianSearch: Best result evaluated on URM_test. Config: {'topK': 100, 'shrink': 300, 'similarity': 'cosine', 'normalize': True} - results: CUTOFF: 5 - ROC_AUC: 0.4021831, PRECISION: 0.2746623, RECALL: 0.0258552, RECALL_TEST_LEN: 0.2746623, MAP: 0.2201773, MRR: 0.4599247, NDCG: 0.0672710, F1: 0.0472614, HIT_RATE: 1.3733078, ARHR: 0.7053364, NOVELTY: 0.0007478, DIVERSITY_MEAN_INTER_LIST: 0.9166822, DIVERSITY_HERFINDAHL: 0.9833338, COVERAGE_ITEM: 0.0109774, COVERAGE_USER: 0.9763861, DIVERSITY_GINI: 0.1158598, SHANNON_ENTROPY: 6.6988664, \n",
      "CUTOFF: 10 - ROC_AUC: 0.4405023, PRECISION: 0.2373878, RECALL: 0.0420332, RECALL_TEST_LEN: 0.2373878, MAP: 0.1677580, MRR: 0.4726752, NDCG: 0.0869662, F1: 0.0714203, HIT_RATE: 2.3708750, ARHR: 0.8352426, NOVELTY: 0.0015196, DIVERSITY_MEAN_INTER_LIST: 0.8888663, DIVERSITY_HERFINDAHL: 0.9888854, COVERAGE_ITEM: 0.0156907, COVERAGE_USER: 0.9763861, DIVERSITY_GINI: 0.1125315, SHANNON_ENTROPY: 7.2078997, \n",
      "\n",
      "\n",
      "    1 | 05m00s | \u001b[35m   0.22018\u001b[0m | \u001b[32m     0.4002\u001b[0m | \u001b[32m   5.0884\u001b[0m | \u001b[32m      0.0000\u001b[0m | \u001b[32m   3.6787\u001b[0m | \n",
      "BayesianSearch: Testing config: {'topK': 600, 'shrink': 500, 'similarity': 'cosine', 'normalize': False}\n",
      "Similarity column 65134 ( 100 % ), 2392.39 column/sec, elapsed time 0.45 min\n",
      "SequentialEvaluator: Processed 15001 ( 21.47% ) in 30.20 seconds. Users per second: 497\n",
      "SequentialEvaluator: Processed 31910 ( 45.67% ) in 60.21 seconds. Users per second: 530\n",
      "SequentialEvaluator: Processed 47289 ( 67.67% ) in 90.21 seconds. Users per second: 524\n",
      "SequentialEvaluator: Processed 63820 ( 91.33% ) in 120.21 seconds. Users per second: 531\n",
      "SequentialEvaluator: Processed 69878 ( 100.00% ) in 132.05 seconds. Users per second: 529\n",
      "BayesianSearch: New best config found. Config: {'topK': 600, 'shrink': 500, 'similarity': 'cosine', 'normalize': False} - results: {'ROC_AUC': 0.416533100546666, 'PRECISION': 0.29867602583556424, 'RECALL': 0.02811518149427077, 'RECALL_TEST_LEN': 0.29867602583556424, 'MAP': 0.24354263859873973, 'MRR': 0.47305732848677806, 'NDCG': 0.07483523041752438, 'F1': 0.0513926353341499, 'HIT_RATE': 1.4933598557485903, 'ARHR': 0.7532282454181586, 'NOVELTY': 0.0007143171417834514, 'DIVERSITY_MEAN_INTER_LIST': 0.8576247173031103, 'DIVERSITY_HERFINDAHL': 0.9715224888262098, 'COVERAGE_ITEM': 0.0070470107777811895, 'COVERAGE_USER': 0.9763860943438408, 'DIVERSITY_GINI': 0.09394020883602104, 'SHANNON_ENTROPY': 5.768724202423421}\n",
      "\n",
      "BayesianSearch: Saving model in result_experiments/\n",
      "\n",
      "ItemKNNCBFRecommender: Saving model in file 'result_experiments/_best_model'\n",
      "ItemKNNCBFRecommender: Saving complete\n",
      "ItemKNNCBFRecommender: Loading model from file 'result_experiments/_best_model'\n",
      "ItemKNNCBFRecommender: Loading complete\n",
      "SequentialEvaluator: Processed 11001 ( 15.74% ) in 30.20 seconds. Users per second: 364\n",
      "SequentialEvaluator: Processed 25001 ( 35.78% ) in 61.28 seconds. Users per second: 408\n",
      "SequentialEvaluator: Processed 39001 ( 55.81% ) in 92.51 seconds. Users per second: 422\n",
      "SequentialEvaluator: Processed 52630 ( 75.32% ) in 122.51 seconds. Users per second: 430\n",
      "SequentialEvaluator: Processed 66850 ( 95.67% ) in 152.52 seconds. Users per second: 438\n",
      "SequentialEvaluator: Processed 69878 ( 100.00% ) in 159.01 seconds. Users per second: 439\n",
      "BayesianSearch: Best result evaluated on URM_test. Config: {'topK': 600, 'shrink': 500, 'similarity': 'cosine', 'normalize': False} - results: CUTOFF: 5 - ROC_AUC: 0.4165283, PRECISION: 0.2986789, RECALL: 0.0281156, RECALL_TEST_LEN: 0.2986789, MAP: 0.2435394, MRR: 0.4730480, NDCG: 0.0748337, F1: 0.0513934, HIT_RATE: 1.4933742, ARHR: 0.7532175, NOVELTY: 0.0007143, DIVERSITY_MEAN_INTER_LIST: 0.8576242, DIVERSITY_HERFINDAHL: 0.9715224, COVERAGE_ITEM: 0.0070470, COVERAGE_USER: 0.9763861, DIVERSITY_GINI: 0.0939263, SHANNON_ENTROPY: 5.7686142, \n",
      "CUTOFF: 10 - ROC_AUC: 0.4582349, PRECISION: 0.2552767, RECALL: 0.0462192, RECALL_TEST_LEN: 0.2552767, MAP: 0.1847667, MRR: 0.4866505, NDCG: 0.0977933, F1: 0.0782677, HIT_RATE: 2.5495006, ARHR: 0.8908692, NOVELTY: 0.0014507, DIVERSITY_MEAN_INTER_LIST: 0.7983417, DIVERSITY_HERFINDAHL: 0.9798330, COVERAGE_ITEM: 0.0105935, COVERAGE_USER: 0.9763861, DIVERSITY_GINI: 0.0862637, SHANNON_ENTROPY: 6.2538519, \n",
      "\n",
      "\n",
      "    2 | 05m18s | \u001b[35m   0.24354\u001b[0m | \u001b[32m     0.7510\u001b[0m | \u001b[32m   5.9915\u001b[0m | \u001b[32m      0.0000\u001b[0m | \u001b[32m   9.6358\u001b[0m | \n",
      "BayesianSearch: Testing config: {'topK': 50, 'shrink': 1000, 'similarity': 'cosine', 'normalize': True}\n",
      "Similarity column 65134 ( 100 % ), 2071.45 column/sec, elapsed time 0.52 min\n",
      "SequentialEvaluator: Processed 20705 ( 29.63% ) in 30.00 seconds. Users per second: 690\n",
      "SequentialEvaluator: Processed 41001 ( 58.68% ) in 60.12 seconds. Users per second: 682\n",
      "SequentialEvaluator: Processed 62001 ( 88.73% ) in 90.56 seconds. Users per second: 685\n",
      "SequentialEvaluator: Processed 69878 ( 100.00% ) in 100.51 seconds. Users per second: 695\n",
      "BayesianSearch: Config is suboptimal. Config: {'topK': 50, 'shrink': 1000, 'similarity': 'cosine', 'normalize': True} - results: {'ROC_AUC': 0.40311209059599146, 'PRECISION': 0.2792717307307599, 'RECALL': 0.026193625036102713, 'RECALL_TEST_LEN': 0.2792717307307599, 'MAP': 0.2253634191019075, 'MRR': 0.4598891401203892, 'NDCG': 0.06874513757123596, 'F1': 0.04789504838989355, 'HIT_RATE': 1.3963479206617246, 'ARHR': 0.7143967581594177, 'NOVELTY': 0.0007398097299718279, 'DIVERSITY_MEAN_INTER_LIST': 0.9066311343361353, 'DIVERSITY_HERFINDAHL': 0.9813236319700224, 'COVERAGE_ITEM': 0.010378604108453343, 'COVERAGE_USER': 0.9763860943438408, 'DIVERSITY_GINI': 0.10441212523891079, 'SHANNON_ENTROPY': 6.482743446101229}\n",
      "\n",
      "    3 | 02m12s |    0.22536 |      0.4118 |    6.8803 |       0.0000 |    2.7626 | \n",
      "BayesianSearch: Testing config: {'topK': 200, 'shrink': 10, 'similarity': 'cosine', 'normalize': False}\n",
      "Similarity column 65134 ( 100 % ), 2667.55 column/sec, elapsed time 0.41 min\n",
      "SequentialEvaluator: Processed 19001 ( 27.19% ) in 30.41 seconds. Users per second: 625\n",
      "SequentialEvaluator: Processed 39001 ( 55.81% ) in 60.72 seconds. Users per second: 642\n"
     ]
    },
    {
     "name": "stdout",
     "output_type": "stream",
     "text": [
      "SequentialEvaluator: Processed 59001 ( 84.43% ) in 90.99 seconds. Users per second: 648\n",
      "SequentialEvaluator: Processed 69878 ( 100.00% ) in 106.36 seconds. Users per second: 657\n",
      "BayesianSearch: Config is suboptimal. Config: {'topK': 200, 'shrink': 10, 'similarity': 'cosine', 'normalize': False} - results: {'ROC_AUC': 0.41418019023631597, 'PRECISION': 0.2946719043667178, 'RECALL': 0.02771654495974247, 'RECALL_TEST_LEN': 0.2946719043667178, 'MAP': 0.24024121802765228, 'MRR': 0.4698808399400716, 'NDCG': 0.07366759106736098, 'F1': 0.0506673679085979, 'HIT_RATE': 1.473339248404362, 'ARHR': 0.7455765763186845, 'NOVELTY': 0.0007186205963870608, 'DIVERSITY_MEAN_INTER_LIST': 0.8676774258542752, 'DIVERSITY_HERFINDAHL': 0.9735330017642726, 'COVERAGE_ITEM': 0.0076611293640802035, 'COVERAGE_USER': 0.9763860943438408, 'DIVERSITY_GINI': 0.0937035404562237, 'SHANNON_ENTROPY': 5.884844682203921}\n",
      "\n",
      "    4 | 02m11s |    0.24024 |      0.8966 |    1.3326 |       0.0000 |    6.1023 | \n",
      "BayesianSearch: Testing config: {'topK': 400, 'shrink': 100, 'similarity': 'cosine', 'normalize': False}\n",
      "Similarity column 65134 ( 100 % ), 2755.16 column/sec, elapsed time 0.39 min\n",
      "SequentialEvaluator: Processed 18001 ( 25.76% ) in 30.48 seconds. Users per second: 591\n",
      "SequentialEvaluator: Processed 37001 ( 52.95% ) in 61.08 seconds. Users per second: 606\n",
      "SequentialEvaluator: Processed 56001 ( 80.14% ) in 92.30 seconds. Users per second: 607\n",
      "SequentialEvaluator: Processed 69878 ( 100.00% ) in 113.92 seconds. Users per second: 613\n",
      "BayesianSearch: Config is suboptimal. Config: {'topK': 400, 'shrink': 100, 'similarity': 'cosine', 'normalize': False} - results: {'ROC_AUC': 0.4157865613402392, 'PRECISION': 0.29746534436213895, 'RECALL': 0.02799161313385432, 'RECALL_TEST_LEN': 0.29746534436213895, 'MAP': 0.24258787935167234, 'MRR': 0.4720398408654955, 'NDCG': 0.0743931177389936, 'F1': 0.051168270632015934, 'HIT_RATE': 1.4873064483814649, 'ARHR': 0.7508221471707373, 'NOVELTY': 0.0007154681171623829, 'DIVERSITY_MEAN_INTER_LIST': 0.8605849039931456, 'DIVERSITY_HERFINDAHL': 0.9721145176917744, 'COVERAGE_ITEM': 0.007154481530383517, 'COVERAGE_USER': 0.9763860943438408, 'DIVERSITY_GINI': 0.09478852497466832, 'SHANNON_ENTROPY': 5.803283303510909}\n",
      "\n",
      "    5 | 02m17s |    0.24259 |      0.6756 |    2.9244 |       0.0000 |    8.1875 | \n",
      "\u001b[31mBayesian Optimization\u001b[0m\n",
      "\u001b[94m----------------------------------------------------------------------------------\u001b[0m\n",
      " Step |   Time |      Value |   normalize |    shrink |   similarity |      topK | \n",
      "BayesianSearch: Testing config: {'topK': 800, 'shrink': 0, 'similarity': 'cosine', 'normalize': False}\n",
      "Similarity column 65134 ( 100 % ), 5345.84 column/sec, elapsed time 0.20 min\n",
      "SequentialEvaluator: Processed 17001 ( 24.33% ) in 31.08 seconds. Users per second: 547\n",
      "SequentialEvaluator: Processed 35001 ( 50.09% ) in 62.04 seconds. Users per second: 564\n",
      "SequentialEvaluator: Processed 53001 ( 75.85% ) in 92.95 seconds. Users per second: 570\n",
      "SequentialEvaluator: Processed 69878 ( 100.00% ) in 120.84 seconds. Users per second: 578\n",
      "BayesianSearch: New best config found. Config: {'topK': 800, 'shrink': 0, 'similarity': 'cosine', 'normalize': False} - results: {'ROC_AUC': 0.41721047158380703, 'PRECISION': 0.2992656248509919, 'RECALL': 0.028218490189713823, 'RECALL_TEST_LEN': 0.2992656248509919, 'MAP': 0.24392230029483722, 'MRR': 0.47390618888156116, 'NDCG': 0.07509039000222408, 'F1': 0.05157394640608211, 'HIT_RATE': 1.4963078508257248, 'ARHR': 0.7545419636127261, 'NOVELTY': 0.0007137221451489934, 'DIVERSITY_MEAN_INTER_LIST': 0.8564177554901669, 'DIVERSITY_HERFINDAHL': 0.9712810999181041, 'COVERAGE_ITEM': 0.006985598919151288, 'COVERAGE_USER': 0.9763860943438408, 'DIVERSITY_GINI': 0.09362599628525506, 'SHANNON_ENTROPY': 5.752097729383886}\n",
      "\n",
      "BayesianSearch: Saving model in result_experiments/\n",
      "\n",
      "ItemKNNCBFRecommender: Saving model in file 'result_experiments/_best_model'\n",
      "ItemKNNCBFRecommender: Saving complete\n",
      "ItemKNNCBFRecommender: Loading model from file 'result_experiments/_best_model'\n",
      "ItemKNNCBFRecommender: Loading complete\n",
      "SequentialEvaluator: Processed 14001 ( 20.04% ) in 31.30 seconds. Users per second: 447\n",
      "SequentialEvaluator: Processed 28444 ( 40.71% ) in 61.30 seconds. Users per second: 464\n",
      "SequentialEvaluator: Processed 42998 ( 61.53% ) in 91.30 seconds. Users per second: 471\n",
      "SequentialEvaluator: Processed 57001 ( 81.57% ) in 122.20 seconds. Users per second: 466\n",
      "SequentialEvaluator: Processed 69878 ( 100.00% ) in 148.03 seconds. Users per second: 472\n",
      "BayesianSearch: Best result evaluated on URM_test. Config: {'topK': 800, 'shrink': 0, 'similarity': 'cosine', 'normalize': False} - results: CUTOFF: 5 - ROC_AUC: 0.4172176, PRECISION: 0.2992485, RECALL: 0.0282155, RECALL_TEST_LEN: 0.2992485, MAP: 0.2439167, MRR: 0.4739064, NDCG: 0.0750897, F1: 0.0515688, HIT_RATE: 1.4962220, ARHR: 0.7545310, NOVELTY: 0.0007137, DIVERSITY_MEAN_INTER_LIST: 0.8564132, DIVERSITY_HERFINDAHL: 0.9712802, COVERAGE_ITEM: 0.0069702, COVERAGE_USER: 0.9763861, DIVERSITY_GINI: 0.0938442, SHANNON_ENTROPY: 5.7521343, \n",
      "CUTOFF: 10 - ROC_AUC: 0.4590470, PRECISION: 0.2555874, RECALL: 0.0463579, RECALL_TEST_LEN: 0.2555874, MAP: 0.1849242, MRR: 0.4874475, NDCG: 0.0981185, F1: 0.0784810, HIT_RATE: 2.5526060, ARHR: 0.8922195, NOVELTY: 0.0014494, DIVERSITY_MEAN_INTER_LIST: 0.7957780, DIVERSITY_HERFINDAHL: 0.9795767, COVERAGE_ITEM: 0.0103633, COVERAGE_USER: 0.9763861, DIVERSITY_GINI: 0.0869363, SHANNON_ENTROPY: 6.2337093, \n",
      "\n",
      "\n",
      "    6 | 04m47s | \u001b[35m   0.24392\u001b[0m | \u001b[32m     0.9778\u001b[0m | \u001b[32m   0.1546\u001b[0m | \u001b[32m      0.0000\u001b[0m | \u001b[32m  11.9962\u001b[0m | \n",
      "BayesianSearch: Testing config: {'topK': 400, 'shrink': 0, 'similarity': 'cosine', 'normalize': True}\n",
      "Similarity column 65134 ( 100 % ), 2231.98 column/sec, elapsed time 0.49 min\n",
      "SequentialEvaluator: Processed 19001 ( 27.19% ) in 30.51 seconds. Users per second: 623\n",
      "SequentialEvaluator: Processed 39001 ( 55.81% ) in 61.45 seconds. Users per second: 635\n",
      "SequentialEvaluator: Processed 59001 ( 84.43% ) in 92.56 seconds. Users per second: 637\n",
      "SequentialEvaluator: Processed 69878 ( 100.00% ) in 108.52 seconds. Users per second: 644\n",
      "BayesianSearch: Config is suboptimal. Config: {'topK': 400, 'shrink': 0, 'similarity': 'cosine', 'normalize': True} - results: {'ROC_AUC': 0.28801744945953395, 'PRECISION': 0.16923113617067484, 'RECALL': 0.01646593897871924, 'RECALL_TEST_LEN': 0.16923113617067484, 'MAP': 0.12474579505233759, 'MRR': 0.3182935497104528, 'NDCG': 0.04095131729868479, 'F1': 0.030011776537071117, 'HIT_RATE': 0.8461461404161539, 'ARHR': 0.4421517978953607, 'NOVELTY': 0.0009197432824173309, 'DIVERSITY_MEAN_INTER_LIST': 0.9566008750724001, 'DIVERSITY_HERFINDAHL': 0.9913174370973242, 'COVERAGE_ITEM': 0.05196978536555409, 'COVERAGE_USER': 0.9763860943438408, 'DIVERSITY_GINI': 0.0989675161977942, 'SHANNON_ENTROPY': 8.27262086586401}\n",
      "\n",
      "    7 | 02m23s |    0.12475 |      0.0197 |    0.0242 |       0.0000 |    8.4518 | \n",
      "BayesianSearch: Best config is: Config {'topK': 800, 'shrink': 0, 'similarity': 'cosine', 'normalize': False}, MAP value is 0.2439\n",
      "\n"
     ]
    }
   ],
   "source": [
    "\n",
    "hyperparamethers_range_dictionary = {}\n",
    "hyperparamethers_range_dictionary[\"topK\"] = [5, 10, 20, 50, 100, 150, 200, 300, 400, 500, 600, 700, 800]\n",
    "hyperparamethers_range_dictionary[\"shrink\"] = [0, 10, 50, 100, 200, 300, 500, 1000]\n",
    "hyperparamethers_range_dictionary[\"similarity\"] = [\"cosine\"]\n",
    "hyperparamethers_range_dictionary[\"normalize\"] = [True, False]\n",
    "\n",
    "\n",
    "recommenderDictionary = {DictionaryKeys.CONSTRUCTOR_POSITIONAL_ARGS: [ICM_all, URM_train],\n",
    "                         DictionaryKeys.CONSTRUCTOR_KEYWORD_ARGS: {},\n",
    "                         DictionaryKeys.FIT_POSITIONAL_ARGS: dict(),\n",
    "                         DictionaryKeys.FIT_KEYWORD_ARGS: dict(),\n",
    "                         DictionaryKeys.FIT_RANGE_KEYWORD_ARGS: hyperparamethers_range_dictionary}\n",
    "\n",
    "output_root_path = \"result_experiments/\"\n",
    "\n",
    "import os\n",
    "\n",
    "# If directory does not exist, create\n",
    "if not os.path.exists(output_root_path):\n",
    "    os.makedirs(output_root_path)\n",
    "\n",
    "    \n",
    "    \n",
    "    \n",
    "n_cases = 2\n",
    "metric_to_optimize = \"MAP\"\n",
    "\n",
    "best_parameters_ItemKNNCBF = parameterSearch.search(recommenderDictionary,\n",
    "                                                 n_cases = n_cases,\n",
    "                                                 output_root_path = output_root_path,\n",
    "                                                 metric=metric_to_optimize)\n",
    "\n",
    "\n"
   ]
  },
  {
   "cell_type": "code",
   "execution_count": 48,
   "metadata": {},
   "outputs": [
    {
     "ename": "NameError",
     "evalue": "name 'best_parameters_ItemKNNCBF' is not defined",
     "output_type": "error",
     "traceback": [
      "\u001b[0;31m---------------------------------------------------------------------\u001b[0m",
      "\u001b[0;31mNameError\u001b[0m                           Traceback (most recent call last)",
      "\u001b[0;32m<ipython-input-48-2d827e0d674e>\u001b[0m in \u001b[0;36m<module>\u001b[0;34m\u001b[0m\n\u001b[0;32m----> 1\u001b[0;31m \u001b[0mbest_parameters_ItemKNNCBF\u001b[0m\u001b[0;34m\u001b[0m\u001b[0m\n\u001b[0m",
      "\u001b[0;31mNameError\u001b[0m: name 'best_parameters_ItemKNNCBF' is not defined"
     ]
    }
   ],
   "source": [
    "best_parameters_ItemKNNCBF"
   ]
  },
  {
   "cell_type": "code",
   "execution_count": 49,
   "metadata": {},
   "outputs": [
    {
     "name": "stdout",
     "output_type": "stream",
     "text": [
      "Similarity column 65134 ( 100 % ), 5513.89 column/sec, elapsed time 0.20 min\n"
     ]
    }
   ],
   "source": [
    "itemKNNCBF = ItemKNNCBFRecommender(ICM_all, URM_train)\n",
    "itemKNNCBF.fit(**best_parameters_ItemKNNCBF)"
   ]
  },
  {
   "cell_type": "code",
   "execution_count": 54,
   "metadata": {},
   "outputs": [
    {
     "name": "stdout",
     "output_type": "stream",
     "text": [
      "Group 0, average p.len 4.13, min 0, max 9\n",
      "Ignoring 67990 Users\n",
      "SequentialEvaluator: Processed 1888 ( 100.00% ) in 3.10 seconds. Users per second: 609\n",
      "SequentialEvaluator: Processed 1888 ( 100.00% ) in 2.94 seconds. Users per second: 642\n",
      "SequentialEvaluator: Processed 1888 ( 100.00% ) in 3.13 seconds. Users per second: 603\n",
      "Group 1, average p.len 10.26, min 9, max 11\n",
      "Ignoring 67990 Users\n",
      "SequentialEvaluator: Processed 3578 ( 100.00% ) in 5.37 seconds. Users per second: 666\n",
      "SequentialEvaluator: Processed 3578 ( 100.00% ) in 5.50 seconds. Users per second: 651\n",
      "SequentialEvaluator: Processed 3578 ( 100.00% ) in 5.52 seconds. Users per second: 648\n",
      "Group 2, average p.len 12.24, min 11, max 13\n",
      "Ignoring 67990 Users\n",
      "SequentialEvaluator: Processed 3578 ( 100.00% ) in 5.71 seconds. Users per second: 627\n",
      "SequentialEvaluator: Processed 3578 ( 100.00% ) in 5.55 seconds. Users per second: 644\n",
      "SequentialEvaluator: Processed 3578 ( 100.00% ) in 5.48 seconds. Users per second: 653\n",
      "Group 3, average p.len 13.98, min 13, max 15\n",
      "Ignoring 67990 Users\n",
      "SequentialEvaluator: Processed 3578 ( 100.00% ) in 5.74 seconds. Users per second: 624\n",
      "SequentialEvaluator: Processed 3578 ( 100.00% ) in 5.70 seconds. Users per second: 628\n",
      "SequentialEvaluator: Processed 3578 ( 100.00% ) in 5.79 seconds. Users per second: 618\n",
      "Group 4, average p.len 15.93, min 15, max 17\n",
      "Ignoring 67990 Users\n",
      "SequentialEvaluator: Processed 3578 ( 100.00% ) in 5.71 seconds. Users per second: 626\n",
      "SequentialEvaluator: Processed 3578 ( 100.00% ) in 5.74 seconds. Users per second: 623\n",
      "SequentialEvaluator: Processed 3578 ( 100.00% ) in 5.56 seconds. Users per second: 643\n",
      "Group 5, average p.len 18.11, min 17, max 19\n",
      "Ignoring 67990 Users\n",
      "SequentialEvaluator: Processed 3578 ( 100.00% ) in 5.77 seconds. Users per second: 620\n",
      "SequentialEvaluator: Processed 3578 ( 100.00% ) in 5.64 seconds. Users per second: 634\n",
      "SequentialEvaluator: Processed 3578 ( 100.00% ) in 5.70 seconds. Users per second: 628\n",
      "Group 6, average p.len 20.71, min 19, max 22\n",
      "Ignoring 67990 Users\n",
      "SequentialEvaluator: Processed 3578 ( 100.00% ) in 5.83 seconds. Users per second: 614\n",
      "SequentialEvaluator: Processed 3578 ( 100.00% ) in 5.73 seconds. Users per second: 625\n",
      "SequentialEvaluator: Processed 3578 ( 100.00% ) in 5.76 seconds. Users per second: 621\n",
      "Group 7, average p.len 23.68, min 22, max 25\n",
      "Ignoring 67990 Users\n",
      "SequentialEvaluator: Processed 3578 ( 100.00% ) in 5.75 seconds. Users per second: 622\n",
      "SequentialEvaluator: Processed 3578 ( 100.00% ) in 5.84 seconds. Users per second: 612\n",
      "SequentialEvaluator: Processed 3578 ( 100.00% ) in 5.65 seconds. Users per second: 633\n",
      "Group 8, average p.len 27.12, min 25, max 29\n",
      "Ignoring 67990 Users\n",
      "SequentialEvaluator: Processed 3578 ( 100.00% ) in 5.96 seconds. Users per second: 600\n",
      "SequentialEvaluator: Processed 3578 ( 100.00% ) in 5.96 seconds. Users per second: 601\n",
      "SequentialEvaluator: Processed 3578 ( 100.00% ) in 5.55 seconds. Users per second: 645\n",
      "Group 9, average p.len 31.14, min 29, max 33\n",
      "Ignoring 67990 Users\n",
      "SequentialEvaluator: Processed 3578 ( 100.00% ) in 6.14 seconds. Users per second: 583\n",
      "SequentialEvaluator: Processed 3578 ( 100.00% ) in 5.94 seconds. Users per second: 602\n",
      "SequentialEvaluator: Processed 3578 ( 100.00% ) in 5.81 seconds. Users per second: 616\n"
     ]
    }
   ],
   "source": [
    "\n",
    "\n",
    "\n",
    "MAP_itemKNNCF_per_group = []\n",
    "MAP_itemKNNCBF_per_group = []\n",
    "MAP_topPop_per_group = []\n",
    "cutoff = 10\n",
    "\n",
    "for group_id in range(0, 10):\n",
    "    \n",
    "    start_pos = group_id*block_size\n",
    "    end_pos = min((group_id+1)*block_size, len(profile_length))\n",
    "    \n",
    "    users_in_group = sorted_users[start_pos:end_pos]\n",
    "    \n",
    "    users_in_group_p_len = profile_length[users_in_group]\n",
    "    \n",
    "    print(\"Group {}, average p.len {:.2f}, min {}, max {}\".format(group_id, \n",
    "        users_in_group_p_len.mean(), users_in_group_p_len.min(), users_in_group_p_len.max()))\n",
    "    \n",
    "    \n",
    "    users_not_in_group_flag = np.isin(sorted_users, users_in_group, invert = True)\n",
    "    users_not_in_group = sorted_users[users_not_in_group_flag]\n",
    "    \n",
    "    evaluator_test = SequentialEvaluator(URM_test, cutoff_list=[cutoff], ignore_users = users_not_in_group)\n",
    "    \n",
    "    \n",
    "    results, _ = evaluator_test.evaluateRecommender(itemKNNCF)\n",
    "    MAP_itemKNNCF_per_group.append(results[cutoff][\"MAP\"])\n",
    " \n",
    "    results, _ = evaluator_test.evaluateRecommender(itemKNNCBF)\n",
    "    MAP_itemKNNCBF_per_group.append(results[cutoff][\"MAP\"])\n",
    "\n",
    "    results, _ = evaluator_test.evaluateRecommender(topPop)\n",
    "    MAP_topPop_per_group.append(results[cutoff][\"MAP\"])\n",
    "\n",
    "    \n",
    "    "
   ]
  },
  {
   "cell_type": "code",
   "execution_count": 55,
   "metadata": {},
   "outputs": [
    {
     "data": {
      "image/png": "[encoded data removed]",
      "text/plain": [
       "<Figure size 432x288 with 1 Axes>"
      ]
     },
     "metadata": {
      "needs_background": "light"
     },
     "output_type": "display_data"
    }
   ],
   "source": [
    "import matplotlib.pyplot as pyplot\n",
    "%matplotlib inline  \n",
    "\n",
    "pyplot.plot(MAP_itemKNNCF_per_group, label=\"itemKNNCF\")\n",
    "pyplot.plot(MAP_itemKNNCBF_per_group, label=\"itemKNNCBF\")\n",
    "pyplot.plot(MAP_topPop_per_group, label=\"topPop\")\n",
    "pyplot.ylabel('MAP')\n",
    "pyplot.xlabel('User Group')\n",
    "pyplot.legend()\n",
    "pyplot.show()"
   ]
  },
  {
   "cell_type": "code",
   "execution_count": null,
   "metadata": {},
   "outputs": [],
   "source": []
  }
 ],
 "metadata": {
  "kernelspec": {
   "display_name": "Python 3",
   "language": "python",
   "name": "python3"
  },
  "language_info": {
   "codemirror_mode": {
    "name": "ipython",
    "version": 3
   },
   "file_extension": ".py",
   "mimetype": "text/x-python",
   "name": "python",
   "nbconvert_exporter": "python",
   "pygments_lexer": "ipython3",
   "version": "3.6.6"
  }
 },
 "nbformat": 4,
 "nbformat_minor": 2
}
