{
 "cells": [
  {
   "cell_type": "markdown",
   "metadata": {},
   "source": [
    "# Recommender Systems 2018/19\n",
    "\n",
    "### Practice 8 - Hybrid recommenders\n",
    "\n",
    "\n",
    "### The way to go to achieve the best recommendation quality"
   ]
  },
  {
   "cell_type": "markdown",
   "metadata": {},
   "source": [
    "## A few info about hybrids\n",
    "\n",
    "\n",
    "#### There are many different types of hibrids, in this practice we will see the following\n",
    "* Linear combination of item-based models\n",
    "* Linear combination of heterogeneous models\n",
    "* User-wise discrimination\n"
   ]
  },
  {
   "cell_type": "markdown",
   "metadata": {},
   "source": [
    "### Prerequisite: parameter tuning!\n",
    "\n",
    "#### Let's have an example. In the course repo you will find a BayesianSearch object in the ParameterTuning folder. That is a simple wrapper of another library and its purpose is to provide a very simple way to tune some of the most common parameters. To run heavy tuning on more complex problems or with more sofisiticated constraints you may refer to other libraries."
   ]
  },
  {
   "cell_type": "code",
   "execution_count": 1,
   "metadata": {},
   "outputs": [],
   "source": [
    "from urllib.request import urlretrieve\n",
    "import zipfile\n",
    "\n",
    "# skip the download\n",
    "#urlretrieve (\"http://files.grouplens.org/datasets/movielens/ml-10m.zip\", \"data/Movielens_10M/movielens_10m.zip\")\n",
    "dataFile = zipfile.ZipFile(\"data/Movielens_10M/movielens_10m.zip\")\n",
    "URM_path = dataFile.extract(\"ml-10M100K/ratings.dat\", path = \"data/Movielens_10M\")\n",
    "URM_file = open(URM_path, 'r')\n",
    "\n",
    "\n",
    "def rowSplit (rowString):\n",
    "    \n",
    "    split = rowString.split(\"::\")\n",
    "    split[3] = split[3].replace(\"\\n\",\"\")\n",
    "    \n",
    "    split[0] = int(split[0])\n",
    "    split[1] = int(split[1])\n",
    "    split[2] = float(split[2])\n",
    "    split[3] = int(split[3])\n",
    "    \n",
    "    result = tuple(split)\n",
    "    \n",
    "    return result\n",
    "\n",
    "\n",
    "URM_file.seek(0)\n",
    "URM_tuples = []\n",
    "\n",
    "for line in URM_file:\n",
    "   URM_tuples.append(rowSplit (line))\n",
    "\n",
    "userList, itemList, ratingList, timestampList = zip(*URM_tuples)\n",
    "\n",
    "userList = list(userList)\n",
    "itemList = list(itemList)\n",
    "ratingList = list(ratingList)\n",
    "timestampList = list(timestampList)\n",
    "\n",
    "import scipy.sparse as sps\n",
    "\n",
    "URM_all = sps.coo_matrix((ratingList, (userList, itemList)))\n",
    "URM_all = URM_all.tocsr()\n",
    "\n"
   ]
  },
  {
   "cell_type": "code",
   "execution_count": 2,
   "metadata": {},
   "outputs": [
    {
     "name": "stdout",
     "output_type": "stream",
     "text": [
      "Number of items\t 7601, Number of users\t 4009\n",
      "Number of tags\t 16529, Number of item-tag tuples 95580\n",
      "\n",
      "Data example:\n",
      "[15, 20, 20, 20, 20, 20, 20, 20, 20, 20]\n",
      "[4973, 1747, 1747, 2424, 2424, 2424, 2947, 2947, 3033, 3033]\n",
      "['excellent!', 'politics', 'satire', 'chick flick 212', 'hanks', 'ryan', 'action', 'bond', 'spoof', 'star wars']\n"
     ]
    }
   ],
   "source": [
    "ICM_path = dataFile.extract(\"ml-10M100K/tags.dat\", path = \"data/Movielens_10M\")\n",
    "ICM_file = open(ICM_path, 'r')\n",
    "\n",
    "def rowSplit (rowString):\n",
    "    split = rowString.split(\"::\")\n",
    "    split[3] = split[3].replace(\"\\n\",\"\")\n",
    "    \n",
    "    split[0] = int(split[0])\n",
    "    split[1] = int(split[1])\n",
    "    split[2] = str(split[2]) # tag is a string, not a float like the rating\n",
    "    split[3] = int(split[3])\n",
    "    \n",
    "    result = tuple(split)\n",
    "    \n",
    "    return result\n",
    "\n",
    "ICM_file.seek(0)\n",
    "ICM_tuples = []\n",
    "\n",
    "for line in ICM_file:\n",
    "    ICM_tuples.append(rowSplit(line))\n",
    "    \n",
    "userList_icm, itemList_icm, tagList_icm, timestampList_icm = zip(*ICM_tuples)\n",
    "\n",
    "userList_icm = list(userList_icm)\n",
    "itemList_icm = list(itemList_icm)\n",
    "tagList_icm = list(tagList_icm)\n",
    "timestampList_icm = list(timestampList_icm)\n",
    "\n",
    "userList_unique = list(set(userList_icm))\n",
    "itemList_unique = list(set(itemList_icm))\n",
    "tagList_unique = list(set(tagList_icm))\n",
    "\n",
    "numUsers = len(userList_unique)\n",
    "numItems = len(itemList_unique)\n",
    "numTags = len(tagList_unique)\n",
    "\n",
    "\n",
    "print (\"Number of items\\t {}, Number of users\\t {}\".format(numItems, numUsers))\n",
    "print (\"Number of tags\\t {}, Number of item-tag tuples {}\".format(numTags, len(tagList_icm)))\n",
    "\n",
    "print(\"\\nData example:\")\n",
    "print(userList_icm[0:10])\n",
    "print(itemList_icm[0:10])\n",
    "print(tagList_icm[0:10])\n",
    "\n",
    "\n",
    "from sklearn import preprocessing\n",
    "le = preprocessing.LabelEncoder()\n",
    "le.fit(tagList_icm)\n",
    "\n",
    "tagList_icm = le.transform(tagList_icm)\n",
    "\n",
    "import numpy as np\n",
    "\n",
    "ones = np.ones(len(tagList_icm))\n",
    "\n",
    "ICM_all = sps.coo_matrix((ones, (itemList_icm, tagList_icm)), shape=(URM_all.shape[1], tagList_icm.max()+1))\n",
    "ICM_all = ICM_all.tocsr()"
   ]
  },
  {
   "cell_type": "code",
   "execution_count": 3,
   "metadata": {},
   "outputs": [],
   "source": [
    "\n",
    "from Notebooks_utils.data_splitter import train_test_holdout\n",
    "\n",
    "URM_train, URM_test = train_test_holdout(URM_all, train_perc = 0.8)\n",
    "URM_train, URM_validation = train_test_holdout(URM_train, train_perc = 0.9)"
   ]
  },
  {
   "cell_type": "markdown",
   "metadata": {},
   "source": [
    "### Step 1: Import the evaluator objects"
   ]
  },
  {
   "cell_type": "code",
   "execution_count": 4,
   "metadata": {},
   "outputs": [],
   "source": [
    "from ParameterTuning.AbstractClassSearch import EvaluatorWrapper\n",
    "from Base.Evaluation.Evaluator import SequentialEvaluator\n",
    "\n",
    "evaluator_validation = SequentialEvaluator(URM_validation, cutoff_list=[5])\n",
    "evaluator_test = SequentialEvaluator(URM_test, cutoff_list=[5, 10])\n",
    "\n",
    "evaluator_validation = EvaluatorWrapper(evaluator_validation)\n",
    "evaluator_test = EvaluatorWrapper(evaluator_test)\n"
   ]
  },
  {
   "cell_type": "markdown",
   "metadata": {},
   "source": [
    "### Step 2: Create BayesianSearch object"
   ]
  },
  {
   "cell_type": "code",
   "execution_count": 5,
   "metadata": {},
   "outputs": [],
   "source": [
    "from KNN.ItemKNNCFRecommender import ItemKNNCFRecommender\n",
    "from ParameterTuning.BayesianSearch import BayesianSearch\n",
    "\n",
    "\n",
    "recommender_class = ItemKNNCFRecommender\n",
    "\n",
    "parameterSearch = BayesianSearch(recommender_class,\n",
    "                                 evaluator_validation=evaluator_validation,\n",
    "                                 evaluator_test=evaluator_test)\n",
    "\n"
   ]
  },
  {
   "cell_type": "markdown",
   "metadata": {},
   "source": [
    "### Step 3: Define parameters range"
   ]
  },
  {
   "cell_type": "code",
   "execution_count": 6,
   "metadata": {},
   "outputs": [],
   "source": [
    "from ParameterTuning.AbstractClassSearch import DictionaryKeys\n",
    "\n",
    "hyperparamethers_range_dictionary = {}\n",
    "hyperparamethers_range_dictionary[\"topK\"] = [5, 10, 20, 50, 100, 150, 200, 300, 400, 500, 600, 700, 800]\n",
    "hyperparamethers_range_dictionary[\"shrink\"] = [0, 10, 50, 100, 200, 300, 500, 1000]\n",
    "hyperparamethers_range_dictionary[\"similarity\"] = [\"cosine\"]\n",
    "hyperparamethers_range_dictionary[\"normalize\"] = [True, False]\n",
    "\n",
    "\n",
    "recommenderDictionary = {DictionaryKeys.CONSTRUCTOR_POSITIONAL_ARGS: [URM_train],\n",
    "                         DictionaryKeys.CONSTRUCTOR_KEYWORD_ARGS: {},\n",
    "                         DictionaryKeys.FIT_POSITIONAL_ARGS: dict(),\n",
    "                         DictionaryKeys.FIT_KEYWORD_ARGS: dict(),\n",
    "                         DictionaryKeys.FIT_RANGE_KEYWORD_ARGS: hyperparamethers_range_dictionary}\n",
    "\n",
    "output_root_path = \"result_experiments/\"\n",
    "\n",
    "import os\n",
    "\n",
    "# If directory does not exist, create\n",
    "if not os.path.exists(output_root_path):\n",
    "    os.makedirs(output_root_path)\n",
    "    \n",
    "\n",
    "output_root_path += recommender_class.RECOMMENDER_NAME\n",
    "\n"
   ]
  },
  {
   "cell_type": "markdown",
   "metadata": {},
   "source": [
    "### Step 4: Run!"
   ]
  },
  {
   "cell_type": "code",
   "execution_count": 7,
   "metadata": {},
   "outputs": [
    {
     "name": "stdout",
     "output_type": "stream",
     "text": [
      "\u001b[31mInitialization\u001b[0m\n",
      "\u001b[94m----------------------------------------------------------------------------------\u001b[0m\n",
      " Step |   Time |      Value |   normalize |    shrink |   similarity |      topK | \n",
      "BayesianSearch: Testing config: {'topK': 100, 'shrink': 200, 'similarity': 'cosine', 'normalize': True}\n",
      "Similarity column 65134 ( 100 % ), 2900.14 column/sec, elapsed time 0.37 min\n",
      "SequentialEvaluator: Processed 37001 ( 52.96% ) in 30.02 seconds. Users per second: 1232\n",
      "SequentialEvaluator: Processed 69860 ( 100.00% ) in 55.42 seconds. Users per second: 1261\n",
      "BayesianSearch: New best config found. Config: {'topK': 100, 'shrink': 200, 'similarity': 'cosine', 'normalize': True} - results: {'ROC_AUC': 0.32162897223017367, 'PRECISION': 0.19471061169962756, 'RECALL': 0.05547424500782968, 'RECALL_TEST_LEN': 0.19471061169962756, 'MAP': 0.11805703868054222, 'MRR': 0.3535203740814975, 'NDCG': 0.08027439013260133, 'F1': 0.0863475457403859, 'HIT_RATE': 0.9650157457772688, 'ARHR': 0.4573630594522245, 'NOVELTY': 0.0007257384026103851, 'DIVERSITY_MEAN_INTER_LIST': 0.9613244448337425, 'DIVERSITY_HERFINDAHL': 0.9922621368211865, 'COVERAGE_ITEM': 0.047824484908035744, 'COVERAGE_USER': 0.9761345852895149, 'DIVERSITY_GINI': 0.08363789012097182, 'SHANNON_ENTROPY': 8.11093602609032}\n",
      "\n",
      "BayesianSearch: Saving model in result_experiments/ItemKNNCFRecommender\n",
      "\n",
      "ItemKNNCFRecommender: Saving model in file 'result_experiments/ItemKNNCFRecommender_best_model'\n",
      "ItemKNNCFRecommender: Saving complete\n",
      "ItemKNNCFRecommender: Loading model from file 'result_experiments/ItemKNNCFRecommender_best_model'\n",
      "ItemKNNCFRecommender: Loading complete\n",
      "SequentialEvaluator: Processed 27001 ( 38.64% ) in 30.33 seconds. Users per second: 890\n",
      "SequentialEvaluator: Processed 54614 ( 78.16% ) in 60.33 seconds. Users per second: 905\n",
      "SequentialEvaluator: Processed 69878 ( 100.00% ) in 76.91 seconds. Users per second: 909\n",
      "BayesianSearch: Best result evaluated on URM_test. Config: {'topK': 100, 'shrink': 200, 'similarity': 'cosine', 'normalize': True} - results: CUTOFF: 5 - ROC_AUC: 0.4476516, PRECISION: 0.3854091, RECALL: 0.0553663, RECALL_TEST_LEN: 0.3854091, MAP: 0.2843111, MRR: 0.5711221, NDCG: 0.1014904, F1: 0.0968233, HIT_RATE: 1.9269727, ARHR: 0.9092299, NOVELTY: 0.0007257, DIVERSITY_MEAN_INTER_LIST: 0.9613257, DIVERSITY_HERFINDAHL: 0.9922624, COVERAGE_ITEM: 0.0478245, COVERAGE_USER: 0.9763861, DIVERSITY_GINI: 0.0836425, SHANNON_ENTROPY: 8.1109905, \n",
      "CUTOFF: 10 - ROC_AUC: 0.4898756, PRECISION: 0.3615715, RECALL: 0.1004546, RECALL_TEST_LEN: 0.3615715, MAP: 0.2344505, MRR: 0.5825521, NDCG: 0.1439941, F1: 0.1572271, HIT_RATE: 3.6033086, ARHR: 1.1269641, NOVELTY: 0.0014598, DIVERSITY_MEAN_INTER_LIST: 0.9372685, DIVERSITY_HERFINDAHL: 0.9937255, COVERAGE_ITEM: 0.0612737, COVERAGE_USER: 0.9763861, DIVERSITY_GINI: 0.0731112, SHANNON_ENTROPY: 8.3226615, \n",
      "\n",
      "\n",
      "    1 | 02m34s | \u001b[35m   0.11806\u001b[0m | \u001b[32m     0.0114\u001b[0m | \u001b[32m   4.3825\u001b[0m | \u001b[32m      0.0000\u001b[0m | \u001b[32m   3.7067\u001b[0m | \n",
      "BayesianSearch: Testing config: {'topK': 5, 'shrink': 200, 'similarity': 'cosine', 'normalize': True}\n",
      "Similarity column 65134 ( 100 % ), 2769.13 column/sec, elapsed time 0.39 min\n",
      "SequentialEvaluator: Processed 45001 ( 64.42% ) in 30.32 seconds. Users per second: 1484\n",
      "SequentialEvaluator: Processed 69860 ( 100.00% ) in 46.54 seconds. Users per second: 1501\n",
      "BayesianSearch: Config is suboptimal. Config: {'topK': 5, 'shrink': 200, 'similarity': 'cosine', 'normalize': True} - results: {'ROC_AUC': 0.289718723160606, 'PRECISION': 0.15959609695582672, 'RECALL': 0.04455499958143604, 'RECALL_TEST_LEN': 0.15959609695582672, 'MAP': 0.09477718929923508, 'MRR': 0.30774453669244606, 'NDCG': 0.06621001524151968, 'F1': 0.0696621684005286, 'HIT_RATE': 0.7911107930146006, 'ARHR': 0.3815189903616783, 'NOVELTY': 0.0007448617233490836, 'DIVERSITY_MEAN_INTER_LIST': 0.9767677686968393, 'DIVERSITY_HERFINDAHL': 0.995350757381599, 'COVERAGE_ITEM': 0.060889857831547274, 'COVERAGE_USER': 0.9761345852895149, 'DIVERSITY_GINI': 0.10260726718300298, 'SHANNON_ENTROPY': 8.82800807636788}\n",
      "\n",
      "    2 | 01m10s |    0.09478 |      0.0547 |    4.2928 |       0.0000 |    0.2795 | \n",
      "BayesianSearch: Testing config: {'topK': 700, 'shrink': 200, 'similarity': 'cosine', 'normalize': True}\n",
      "Similarity column 65134 ( 100 % ), 2676.92 column/sec, elapsed time 0.41 min\n",
      "SequentialEvaluator: Processed 27866 ( 39.89% ) in 30.00 seconds. Users per second: 929\n",
      "SequentialEvaluator: Processed 56001 ( 80.16% ) in 60.68 seconds. Users per second: 923\n",
      "SequentialEvaluator: Processed 69860 ( 100.00% ) in 74.96 seconds. Users per second: 932\n",
      "BayesianSearch: New best config found. Config: {'topK': 700, 'shrink': 200, 'similarity': 'cosine', 'normalize': True} - results: {'ROC_AUC': 0.3349639755701865, 'PRECISION': 0.205969796736376, 'RECALL': 0.0591801755255993, 'RECALL_TEST_LEN': 0.205969796736376, 'MAP': 0.12605444619399062, 'MRR': 0.37109981868498326, 'NDCG': 0.08848522475784364, 'F1': 0.09194290023751055, 'HIT_RATE': 1.0209705124534785, 'ARHR': 0.48433223590035557, 'NOVELTY': 0.0007027076865626103, 'DIVERSITY_MEAN_INTER_LIST': 0.9219619343920217, 'DIVERSITY_HERFINDAHL': 0.9843897474225372, 'COVERAGE_ITEM': 0.03537323057082323, 'COVERAGE_USER': 0.9761345852895149, 'DIVERSITY_GINI': 0.054091702462874314, 'SHANNON_ENTROPY': 7.007453237854053}\n",
      "\n",
      "BayesianSearch: Saving model in result_experiments/ItemKNNCFRecommender\n",
      "\n",
      "ItemKNNCFRecommender: Saving model in file 'result_experiments/ItemKNNCFRecommender_best_model'\n",
      "ItemKNNCFRecommender: Saving complete\n",
      "ItemKNNCFRecommender: Loading model from file 'result_experiments/ItemKNNCFRecommender_best_model'\n",
      "ItemKNNCFRecommender: Loading complete\n",
      "SequentialEvaluator: Processed 21897 ( 31.34% ) in 30.00 seconds. Users per second: 730\n",
      "SequentialEvaluator: Processed 43850 ( 62.75% ) in 60.00 seconds. Users per second: 731\n",
      "SequentialEvaluator: Processed 66001 ( 94.45% ) in 90.60 seconds. Users per second: 728\n",
      "SequentialEvaluator: Processed 69878 ( 100.00% ) in 95.05 seconds. Users per second: 735\n",
      "BayesianSearch: Best result evaluated on URM_test. Config: {'topK': 700, 'shrink': 200, 'similarity': 'cosine', 'normalize': True} - results: CUTOFF: 5 - ROC_AUC: 0.4652776, PRECISION: 0.4079116, RECALL: 0.0592378, RECALL_TEST_LEN: 0.4079116, MAP: 0.3064007, MRR: 0.5972526, NDCG: 0.1122289, F1: 0.1034521, HIT_RATE: 2.0394831, ARHR: 0.9663141, NOVELTY: 0.0007027, DIVERSITY_MEAN_INTER_LIST: 0.9219699, DIVERSITY_HERFINDAHL: 0.9843913, COVERAGE_ITEM: 0.0353732, COVERAGE_USER: 0.9763861, DIVERSITY_GINI: 0.0540942, SHANNON_ENTROPY: 7.0075598, \n",
      "CUTOFF: 10 - ROC_AUC: 0.4993604, PRECISION: 0.3798896, RECALL: 0.1062316, RECALL_TEST_LEN: 0.3798896, MAP: 0.2523017, MRR: 0.6071226, NDCG: 0.1583157, F1: 0.1660338, HIT_RATE: 3.7861416, ARHR: 1.1932587, NOVELTY: 0.0014158, DIVERSITY_MEAN_INTER_LIST: 0.8886893, DIVERSITY_HERFINDAHL: 0.9888677, COVERAGE_ITEM: 0.0466423, COVERAGE_USER: 0.9763861, DIVERSITY_GINI: 0.0498147, SHANNON_ENTROPY: 7.3796234, \n",
      "\n",
      "\n",
      "    3 | 03m14s | \u001b[35m   0.12605\u001b[0m | \u001b[32m     0.1987\u001b[0m | \u001b[32m   3.5039\u001b[0m | \u001b[32m      0.0000\u001b[0m | \u001b[32m  10.6576\u001b[0m | \n",
      "BayesianSearch: Testing config: {'topK': 150, 'shrink': 500, 'similarity': 'cosine', 'normalize': False}\n",
      "Similarity column 65134 ( 100 % ), 3284.60 column/sec, elapsed time 0.33 min\n",
      "SequentialEvaluator: Processed 27752 ( 39.73% ) in 30.00 seconds. Users per second: 925\n",
      "SequentialEvaluator: Processed 55973 ( 80.12% ) in 60.00 seconds. Users per second: 933\n",
      "SequentialEvaluator: Processed 69860 ( 100.00% ) in 75.04 seconds. Users per second: 931\n",
      "BayesianSearch: Config is suboptimal. Config: {'topK': 150, 'shrink': 500, 'similarity': 'cosine', 'normalize': False} - results: {'ROC_AUC': 0.29565082546044585, 'PRECISION': 0.17327225880334263, 'RECALL': 0.047216090528627304, 'RECALL_TEST_LEN': 0.17327225880334263, 'MAP': 0.10386404952762948, 'MRR': 0.32303798072335993, 'NDCG': 0.08026298957504352, 'F1': 0.0742101674083522, 'HIT_RATE': 0.8600629831090753, 'ARHR': 0.4098046092184373, 'NOVELTY': 0.0006546577549779107, 'DIVERSITY_MEAN_INTER_LIST': 0.6496230936924615, 'DIVERSITY_HERFINDAHL': 0.9299227589529392, 'COVERAGE_ITEM': 0.028495102404274265, 'COVERAGE_USER': 0.9761345852895149, 'DIVERSITY_GINI': 0.02123888056133808, 'SHANNON_ENTROPY': 4.708763340287516}\n",
      "\n",
      "    4 | 01m34s |    0.10386 |      0.6063 |    5.7779 |       0.0000 |    5.2548 | \n",
      "BayesianSearch: Testing config: {'topK': 100, 'shrink': 300, 'similarity': 'cosine', 'normalize': False}\n"
     ]
    },
    {
     "name": "stdout",
     "output_type": "stream",
     "text": [
      "Similarity column 65134 ( 100 % ), 3175.01 column/sec, elapsed time 0.34 min\n",
      "SequentialEvaluator: Processed 28918 ( 41.39% ) in 30.00 seconds. Users per second: 964\n",
      "SequentialEvaluator: Processed 58001 ( 83.02% ) in 60.62 seconds. Users per second: 957\n",
      "SequentialEvaluator: Processed 69860 ( 100.00% ) in 72.19 seconds. Users per second: 968\n",
      "BayesianSearch: Config is suboptimal. Config: {'topK': 100, 'shrink': 300, 'similarity': 'cosine', 'normalize': False} - results: {'ROC_AUC': 0.29885604542418176, 'PRECISION': 0.1757386200973616, 'RECALL': 0.04807415539357241, 'RECALL_TEST_LEN': 0.1757386200973616, 'MAP': 0.10532226357477188, 'MRR': 0.3260008111461103, 'NDCG': 0.08093761864846566, 'F1': 0.07549600966862388, 'HIT_RATE': 0.8725021471514457, 'ARHR': 0.414837770779654, 'NOVELTY': 0.0006598435399683078, 'DIVERSITY_MEAN_INTER_LIST': 0.7095431809770256, 'DIVERSITY_HERFINDAHL': 0.941906604866516, 'COVERAGE_ITEM': 0.033454109988638805, 'COVERAGE_USER': 0.9761345852895149, 'DIVERSITY_GINI': 0.024502767001893695, 'SHANNON_ENTROPY': 5.052592553777407}\n",
      "\n",
      "    5 | 01m32s |    0.10532 |      0.7523 |    4.7278 |       0.0000 |    3.9020 | \n",
      "\u001b[31mBayesian Optimization\u001b[0m\n",
      "\u001b[94m----------------------------------------------------------------------------------\u001b[0m\n",
      " Step |   Time |      Value |   normalize |    shrink |   similarity |      topK | \n",
      "BayesianSearch: Testing config: {'topK': 400, 'shrink': 0, 'similarity': 'cosine', 'normalize': True}\n",
      "Similarity column 65134 ( 100 % ), 2820.29 column/sec, elapsed time 0.38 min\n",
      "SequentialEvaluator: Processed 33001 ( 47.24% ) in 30.69 seconds. Users per second: 1075\n",
      "SequentialEvaluator: Processed 65444 ( 93.68% ) in 60.69 seconds. Users per second: 1078\n",
      "SequentialEvaluator: Processed 69860 ( 100.00% ) in 64.42 seconds. Users per second: 1084\n",
      "BayesianSearch: Config is suboptimal. Config: {'topK': 400, 'shrink': 0, 'similarity': 'cosine', 'normalize': True} - results: {'ROC_AUC': 0.33177784139707983, 'PRECISION': 0.20312482107075647, 'RECALL': 0.05804385338377041, 'RECALL_TEST_LEN': 0.20312482107075647, 'MAP': 0.1238660972739256, 'MRR': 0.36654714190284926, 'NDCG': 0.08606600731174587, 'F1': 0.09028760709882469, 'HIT_RATE': 1.0069138276553107, 'ARHR': 0.4772480675636816, 'NOVELTY': 0.0007149501332851811, 'DIVERSITY_MEAN_INTER_LIST': 0.9389344025168163, 'DIVERSITY_HERFINDAHL': 0.9877841924575501, 'COVERAGE_ITEM': 0.04931372247981085, 'COVERAGE_USER': 0.9761345852895149, 'DIVERSITY_GINI': 0.056066094217691535, 'SHANNON_ENTROPY': 7.444292720432773}\n",
      "\n",
      "    6 | 01m30s |    0.12387 |      0.0000 |    0.0000 |       0.0000 |    7.9503 | \n",
      "BayesianSearch: Testing config: {'topK': 5, 'shrink': 0, 'similarity': 'cosine', 'normalize': True}\n",
      "Similarity column 65134 ( 100 % ), 2803.83 column/sec, elapsed time 0.39 min\n",
      "SequentialEvaluator: Processed 45001 ( 64.42% ) in 30.00 seconds. Users per second: 1500\n",
      "SequentialEvaluator: Processed 69860 ( 100.00% ) in 45.76 seconds. Users per second: 1527\n",
      "BayesianSearch: Config is suboptimal. Config: {'topK': 5, 'shrink': 0, 'similarity': 'cosine', 'normalize': True} - results: {'ROC_AUC': 0.28800100200400697, 'PRECISION': 0.15859862582308382, 'RECALL': 0.04459441105562284, 'RECALL_TEST_LEN': 0.15859862582308382, 'MAP': 0.093966122721635, 'MRR': 0.30567802271210454, 'NDCG': 0.06610578221758276, 'F1': 0.06961471142373268, 'HIT_RATE': 0.7860864586315488, 'ARHR': 0.3785652256894776, 'NOVELTY': 0.0007507547978210638, 'DIVERSITY_MEAN_INTER_LIST': 0.9771185172479053, 'DIVERSITY_HERFINDAHL': 0.9954209060876651, 'COVERAGE_ITEM': 0.06709245555316731, 'COVERAGE_USER': 0.9761345852895149, 'DIVERSITY_GINI': 0.09968847195322109, 'SHANNON_ENTROPY': 8.882256804058429}\n",
      "\n",
      "    7 | 01m11s |    0.09397 |      0.0000 |    0.0000 |       0.0000 |    0.3542 | \n",
      "BayesianSearch: Best config is: Config {'topK': 700, 'shrink': 200, 'similarity': 'cosine', 'normalize': True}, MAP value is 0.1261\n",
      "\n"
     ]
    }
   ],
   "source": [
    "n_cases = 2\n",
    "metric_to_optimize = \"MAP\"\n",
    "\n",
    "best_parameters = parameterSearch.search(recommenderDictionary,\n",
    "                                         n_cases = n_cases,\n",
    "                                         output_root_path = output_root_path,\n",
    "                                         metric=metric_to_optimize)"
   ]
  },
  {
   "cell_type": "code",
   "execution_count": 8,
   "metadata": {},
   "outputs": [
    {
     "data": {
      "text/plain": [
       "{'topK': 700, 'shrink': 200, 'similarity': 'cosine', 'normalize': True}"
      ]
     },
     "execution_count": 8,
     "metadata": {},
     "output_type": "execute_result"
    }
   ],
   "source": [
    "best_parameters"
   ]
  },
  {
   "cell_type": "markdown",
   "metadata": {},
   "source": [
    "# Linear combination of item-based models\n",
    "\n",
    "#### Let's use an ItemKNNCF with the parameters we just learned and a graph based model"
   ]
  },
  {
   "cell_type": "code",
   "execution_count": 9,
   "metadata": {},
   "outputs": [
    {
     "name": "stdout",
     "output_type": "stream",
     "text": [
      "Similarity column 65134 ( 100 % ), 2731.22 column/sec, elapsed time 0.40 min\n"
     ]
    }
   ],
   "source": [
    "itemKNNCF = ItemKNNCFRecommender(URM_train)\n",
    "itemKNNCF.fit(**best_parameters)\n",
    "\n",
    "\n",
    "from GraphBased.P3alphaRecommender import P3alphaRecommender\n",
    "\n",
    "P3alpha = P3alphaRecommender(URM_train)\n",
    "P3alpha.fit()"
   ]
  },
  {
   "cell_type": "code",
   "execution_count": 10,
   "metadata": {},
   "outputs": [
    {
     "data": {
      "text/plain": [
       "<65134x65134 sparse matrix of type '<class 'numpy.float32'>'\n",
       "\twith 6996142 stored elements in Compressed Sparse Row format>"
      ]
     },
     "execution_count": 10,
     "metadata": {},
     "output_type": "execute_result"
    }
   ],
   "source": [
    "itemKNNCF.W_sparse"
   ]
  },
  {
   "cell_type": "code",
   "execution_count": 11,
   "metadata": {},
   "outputs": [
    {
     "data": {
      "text/plain": [
       "<65134x65134 sparse matrix of type '<class 'numpy.float32'>'\n",
       "\twith 277098 stored elements in Compressed Sparse Row format>"
      ]
     },
     "execution_count": 11,
     "metadata": {},
     "output_type": "execute_result"
    }
   ],
   "source": [
    "P3alpha.W_sparse"
   ]
  },
  {
   "cell_type": "markdown",
   "metadata": {},
   "source": [
    "### We may define another Recommender which takes the two matrices as input as well as the weights"
   ]
  },
  {
   "cell_type": "code",
   "execution_count": 12,
   "metadata": {},
   "outputs": [],
   "source": [
    "from Base.Recommender import Recommender\n",
    "from Base.Recommender_utils import check_matrix, similarityMatrixTopK\n",
    "from Base.SimilarityMatrixRecommender import SimilarityMatrixRecommender\n",
    "\n",
    "\n",
    "class ItemKNNSimilarityHybridRecommender(SimilarityMatrixRecommender, Recommender):\n",
    "    \"\"\" ItemKNNSimilarityHybridRecommender\n",
    "    Hybrid of two similarities S = S1*alpha + S2*(1-alpha)\n",
    "\n",
    "    \"\"\"\n",
    "\n",
    "    RECOMMENDER_NAME = \"ItemKNNSimilarityHybridRecommender\"\n",
    "\n",
    "\n",
    "    def __init__(self, URM_train, Similarity_1, Similarity_2, sparse_weights=True):\n",
    "        super(ItemKNNSimilarityHybridRecommender, self).__init__()\n",
    "\n",
    "        if Similarity_1.shape != Similarity_2.shape:\n",
    "            raise ValueError(\"ItemKNNSimilarityHybridRecommender: similarities have different size, S1 is {}, S2 is {}\".format(\n",
    "                Similarity_1.shape, Similarity_2.shape\n",
    "            ))\n",
    "\n",
    "        # CSR is faster during evaluation\n",
    "        self.Similarity_1 = check_matrix(Similarity_1.copy(), 'csr')\n",
    "        self.Similarity_2 = check_matrix(Similarity_2.copy(), 'csr')\n",
    "\n",
    "        self.URM_train = check_matrix(URM_train.copy(), 'csr')\n",
    "\n",
    "        self.sparse_weights = sparse_weights\n",
    "\n",
    "\n",
    "    def fit(self, topK=100, alpha = 0.5):\n",
    "\n",
    "        self.topK = topK\n",
    "        self.alpha = alpha\n",
    "\n",
    "        W = self.Similarity_1*self.alpha + self.Similarity_2*(1-self.alpha)\n",
    "\n",
    "        if self.sparse_weights:\n",
    "            self.W_sparse = similarityMatrixTopK(W, forceSparseOutput=True, k=self.topK)\n",
    "        else:\n",
    "            self.W = similarityMatrixTopK(W, forceSparseOutput=False, k=self.topK)\n",
    "\n"
   ]
  },
  {
   "cell_type": "code",
   "execution_count": 13,
   "metadata": {},
   "outputs": [],
   "source": [
    "hybridrecommender = ItemKNNSimilarityHybridRecommender(URM_train, itemKNNCF.W_sparse, P3alpha.W_sparse)\n",
    "hybridrecommender.fit(alpha = 0.5)"
   ]
  },
  {
   "cell_type": "code",
   "execution_count": 14,
   "metadata": {},
   "outputs": [
    {
     "name": "stdout",
     "output_type": "stream",
     "text": [
      "SequentialEvaluator: Processed 36337 ( 52.01% ) in 30.00 seconds. Users per second: 1211\n",
      "SequentialEvaluator: Processed 69860 ( 100.00% ) in 56.88 seconds. Users per second: 1228\n"
     ]
    },
    {
     "data": {
      "text/plain": [
       "({5: {'ROC_AUC': 0.322988834812484,\n",
       "   'PRECISION': 0.19580589750934282,\n",
       "   'RECALL': 0.056146126623975876,\n",
       "   'RECALL_TEST_LEN': 0.19580589750934282,\n",
       "   'MAP': 0.11882006075644112,\n",
       "   'MRR': 0.35496898559022894,\n",
       "   'NDCG': 0.08156595626149972,\n",
       "   'F1': 0.08726854053344331,\n",
       "   'HIT_RATE': 0.9702834239908388,\n",
       "   'ARHR': 0.45977240194673785,\n",
       "   'NOVELTY': 0.0007243168213491084,\n",
       "   'DIVERSITY_MEAN_INTER_LIST': 0.9590789192087696,\n",
       "   'DIVERSITY_HERFINDAHL': 0.9918130381248367,\n",
       "   'COVERAGE_ITEM': 0.04750207265022876,\n",
       "   'COVERAGE_USER': 0.9761345852895149,\n",
       "   'DIVERSITY_GINI': 0.08241993518539503,\n",
       "   'SHANNON_ENTROPY': 8.064025990700404}},\n",
       " 'CUTOFF: 5 - ROC_AUC: 0.3229888, PRECISION: 0.1958059, RECALL: 0.0561461, RECALL_TEST_LEN: 0.1958059, MAP: 0.1188201, MRR: 0.3549690, NDCG: 0.0815660, F1: 0.0872685, HIT_RATE: 0.9702834, ARHR: 0.4597724, NOVELTY: 0.0007243, DIVERSITY_MEAN_INTER_LIST: 0.9590789, DIVERSITY_HERFINDAHL: 0.9918130, COVERAGE_ITEM: 0.0475021, COVERAGE_USER: 0.9761346, DIVERSITY_GINI: 0.0824199, SHANNON_ENTROPY: 8.0640260, \\n')"
      ]
     },
     "execution_count": 14,
     "metadata": {},
     "output_type": "execute_result"
    }
   ],
   "source": [
    "evaluator_validation.evaluateRecommender(hybridrecommender)"
   ]
  },
  {
   "cell_type": "markdown",
   "metadata": {},
   "source": [
    "### In this case the alpha coefficient is too a parameter to be tuned"
   ]
  },
  {
   "cell_type": "markdown",
   "metadata": {},
   "source": [
    "# Linear combination of predictions\n",
    "\n",
    "#### In case of models with incompatible structure (e.g., ItemKNN with UserKNN or MF) you may ensemble the prediction values"
   ]
  },
  {
   "cell_type": "code",
   "execution_count": 15,
   "metadata": {},
   "outputs": [
    {
     "name": "stdout",
     "output_type": "stream",
     "text": [
      "PureSVDRecommender Computing SVD decomposition...\n",
      "PureSVDRecommender Computing SVD decomposition... Done!\n"
     ]
    }
   ],
   "source": [
    "from MatrixFactorization.PureSVD import PureSVDRecommender\n",
    "\n",
    "pureSVD = PureSVDRecommender(URM_train)\n",
    "pureSVD.fit()\n",
    "\n",
    "user_id = 42\n",
    "\n"
   ]
  },
  {
   "cell_type": "code",
   "execution_count": 16,
   "metadata": {},
   "outputs": [
    {
     "data": {
      "text/plain": [
       "array([[0.        , 1.3171495 , 1.4502488 , ..., 0.        , 0.        ,\n",
       "        0.06650735]], dtype=float32)"
      ]
     },
     "execution_count": 16,
     "metadata": {},
     "output_type": "execute_result"
    }
   ],
   "source": [
    "item_scores = itemKNNCF.compute_item_score(user_id)\n",
    "item_scores"
   ]
  },
  {
   "cell_type": "code",
   "execution_count": 17,
   "metadata": {},
   "outputs": [
    {
     "data": {
      "text/plain": [
       "array([ 2.1107982e-07, -2.3407413e-02,  1.5155438e-01, ...,\n",
       "        0.0000000e+00,  0.0000000e+00,  1.5273890e-04], dtype=float32)"
      ]
     },
     "execution_count": 17,
     "metadata": {},
     "output_type": "execute_result"
    }
   ],
   "source": [
    "item_scores = pureSVD.compute_item_score(user_id)\n",
    "item_scores"
   ]
  },
  {
   "cell_type": "code",
   "execution_count": 18,
   "metadata": {},
   "outputs": [],
   "source": [
    "\n",
    "class ItemKNNScoresHybridRecommender(Recommender):\n",
    "    \"\"\" ItemKNNScoresHybridRecommender\n",
    "    Hybrid of two prediction scores R = R1*alpha + R2*(1-alpha)\n",
    "\n",
    "    \"\"\"\n",
    "\n",
    "    RECOMMENDER_NAME = \"ItemKNNScoresHybridRecommender\"\n",
    "\n",
    "\n",
    "    def __init__(self, URM_train, Recommender_1, Recommender_2):\n",
    "        super(ItemKNNScoresHybridRecommender, self).__init__()\n",
    "\n",
    "        self.URM_train = check_matrix(URM_train.copy(), 'csr')\n",
    "        self.Recommender_1 = Recommender_1\n",
    "        self.Recommender_2 = Recommender_2\n",
    "        \n",
    "        self.compute_item_score = self.compute_score_hybrid\n",
    "        \n",
    "  \n",
    "    def fit(self, alpha = 0.5):\n",
    "\n",
    "        self.alpha = alpha      \n",
    "\n",
    "\n",
    "    def compute_score_hybrid(self, user_id_array):\n",
    "        \n",
    "        item_weights_1 = self.Recommender_1.compute_item_score(user_id_array)\n",
    "        item_weights_2 = self.Recommender_2.compute_item_score(user_id_array)\n",
    "\n",
    "        item_weights = item_weights_1*self.alpha + item_weights_2*(1-self.alpha)\n",
    "\n",
    "        return item_weights\n"
   ]
  },
  {
   "cell_type": "code",
   "execution_count": 19,
   "metadata": {},
   "outputs": [
    {
     "name": "stdout",
     "output_type": "stream",
     "text": [
      "SequentialEvaluator: Processed 23001 ( 32.92% ) in 30.56 seconds. Users per second: 753\n",
      "SequentialEvaluator: Processed 46001 ( 65.85% ) in 61.05 seconds. Users per second: 754\n",
      "SequentialEvaluator: Processed 69860 ( 100.00% ) in 90.55 seconds. Users per second: 772\n"
     ]
    },
    {
     "data": {
      "text/plain": [
       "({5: {'ROC_AUC': 0.32406360339726964,\n",
       "   'PRECISION': 0.20028676400424028,\n",
       "   'RECALL': 0.05630031551595698,\n",
       "   'RECALL_TEST_LEN': 0.20028676400424028,\n",
       "   'MAP': 0.12068639660273968,\n",
       "   'MRR': 0.35895099723255897,\n",
       "   'NDCG': 0.08047719481890694,\n",
       "   'F1': 0.08789380999382033,\n",
       "   'HIT_RATE': 0.9930861723446894,\n",
       "   'ARHR': 0.4660580685179737,\n",
       "   'NOVELTY': 0.0007189170119352363,\n",
       "   'DIVERSITY_MEAN_INTER_LIST': 0.9571466594113396,\n",
       "   'DIVERSITY_HERFINDAHL': 0.9914265916971565,\n",
       "   'COVERAGE_ITEM': 0.03276322657905242,\n",
       "   'COVERAGE_USER': 0.9761345852895149,\n",
       "   'DIVERSITY_GINI': 0.07327317063032052,\n",
       "   'SHANNON_ENTROPY': 7.589055205049917}},\n",
       " 'CUTOFF: 5 - ROC_AUC: 0.3240636, PRECISION: 0.2002868, RECALL: 0.0563003, RECALL_TEST_LEN: 0.2002868, MAP: 0.1206864, MRR: 0.3589510, NDCG: 0.0804772, F1: 0.0878938, HIT_RATE: 0.9930862, ARHR: 0.4660581, NOVELTY: 0.0007189, DIVERSITY_MEAN_INTER_LIST: 0.9571467, DIVERSITY_HERFINDAHL: 0.9914266, COVERAGE_ITEM: 0.0327632, COVERAGE_USER: 0.9761346, DIVERSITY_GINI: 0.0732732, SHANNON_ENTROPY: 7.5890552, \\n')"
      ]
     },
     "execution_count": 19,
     "metadata": {},
     "output_type": "execute_result"
    }
   ],
   "source": [
    "hybridrecommender = ItemKNNScoresHybridRecommender(URM_train, itemKNNCF, pureSVD)\n",
    "hybridrecommender.fit(alpha = 0.5)\n",
    "\n",
    "evaluator_validation.evaluateRecommender(hybridrecommender)"
   ]
  },
  {
   "cell_type": "markdown",
   "metadata": {},
   "source": [
    "# User-wise hybrid\n",
    "\n",
    "### Models do not have the same accuracy for different user types. Let's divide the users according to their profile length and then compare the recommendation quality we get from a CF model\n",
    "\n"
   ]
  },
  {
   "cell_type": "code",
   "execution_count": 20,
   "metadata": {},
   "outputs": [],
   "source": [
    "URM_train = sps.csr_matrix(URM_train)\n",
    "\n",
    "profile_length = np.ediff1d(URM_train.indptr)\n"
   ]
  },
  {
   "cell_type": "markdown",
   "metadata": {},
   "source": [
    "### Let's select a few groups of 5% of the users with the least number of interactions"
   ]
  },
  {
   "cell_type": "code",
   "execution_count": 21,
   "metadata": {},
   "outputs": [
    {
     "data": {
      "text/plain": [
       "3578"
      ]
     },
     "execution_count": 21,
     "metadata": {},
     "output_type": "execute_result"
    }
   ],
   "source": [
    "block_size = int(len(profile_length)*0.05)\n",
    "block_size"
   ]
  },
  {
   "cell_type": "code",
   "execution_count": 22,
   "metadata": {},
   "outputs": [],
   "source": [
    "sorted_users = np.argsort(profile_length)"
   ]
  },
  {
   "cell_type": "code",
   "execution_count": 23,
   "metadata": {},
   "outputs": [
    {
     "name": "stdout",
     "output_type": "stream",
     "text": [
      "Group 0, average p.len 1.39, min 0, max 4\n",
      "Group 1, average p.len 4.48, min 4, max 5\n",
      "Group 2, average p.len 5.71, min 5, max 6\n",
      "Group 3, average p.len 6.82, min 6, max 7\n",
      "Group 4, average p.len 7.89, min 7, max 8\n",
      "Group 5, average p.len 9.13, min 8, max 10\n",
      "Group 6, average p.len 10.39, min 10, max 11\n",
      "Group 7, average p.len 11.87, min 11, max 13\n",
      "Group 8, average p.len 13.57, min 13, max 15\n",
      "Group 9, average p.len 15.66, min 15, max 17\n"
     ]
    }
   ],
   "source": [
    "for group_id in range(0, 10):\n",
    "    \n",
    "    start_pos = group_id*block_size\n",
    "    end_pos = min((group_id+1)*block_size, len(profile_length))\n",
    "    \n",
    "    users_in_group = sorted_users[start_pos:end_pos]\n",
    "    \n",
    "    users_in_group_p_len = profile_length[users_in_group]\n",
    "    \n",
    "    print(\"Group {}, average p.len {:.2f}, min {}, max {}\".format(group_id, \n",
    "        users_in_group_p_len.mean(), users_in_group_p_len.min(), users_in_group_p_len.max()))"
   ]
  },
  {
   "cell_type": "markdown",
   "metadata": {},
   "source": [
    "### Now we plot the recommendation quality of TopPop and ItemKNNCF"
   ]
  },
  {
   "cell_type": "code",
   "execution_count": 24,
   "metadata": {},
   "outputs": [],
   "source": [
    "from Base.NonPersonalizedRecommender import TopPop\n",
    "\n",
    "topPop = TopPop(URM_train)\n",
    "topPop.fit()\n"
   ]
  },
  {
   "cell_type": "code",
   "execution_count": 25,
   "metadata": {},
   "outputs": [],
   "source": [
    "from KNN.ItemKNNCBFRecommender import ItemKNNCBFRecommender\n",
    "\n",
    "\n",
    "recommender_class = ItemKNNCBFRecommender\n",
    "\n",
    "parameterSearch = BayesianSearch(recommender_class,\n",
    "                                 evaluator_validation=evaluator_validation,\n",
    "                                 evaluator_test=evaluator_test)\n"
   ]
  },
  {
   "cell_type": "code",
   "execution_count": 26,
   "metadata": {},
   "outputs": [
    {
     "name": "stdout",
     "output_type": "stream",
     "text": [
      "\u001b[31mInitialization\u001b[0m\n",
      "\u001b[94m----------------------------------------------------------------------------------\u001b[0m\n",
      " Step |   Time |      Value |   normalize |    shrink |   similarity |      topK | \n",
      "BayesianSearch: Testing config: {'topK': 500, 'shrink': 1000, 'similarity': 'cosine', 'normalize': True}\n",
      "Similarity column 65134 ( 100 % ), 3271.39 column/sec, elapsed time 0.33 min\n",
      "SequentialEvaluator: Processed 31001 ( 44.38% ) in 30.46 seconds. Users per second: 1018\n",
      "SequentialEvaluator: Processed 63001 ( 90.18% ) in 60.84 seconds. Users per second: 1035\n",
      "SequentialEvaluator: Processed 69860 ( 100.00% ) in 66.71 seconds. Users per second: 1047\n",
      "BayesianSearch: New best config found. Config: {'topK': 500, 'shrink': 1000, 'similarity': 'cosine', 'normalize': True} - results: {'ROC_AUC': 0.21766867067468282, 'PRECISION': 0.11070331138463338, 'RECALL': 0.021442896817071483, 'RECALL_TEST_LEN': 0.11070331138463338, 'MAP': 0.06758975093042732, 'MRR': 0.22657028342401744, 'NDCG': 0.04298158675494146, 'F1': 0.03592686790839305, 'HIT_RATE': 0.5516032064128257, 'ARHR': 0.27661632789390783, 'NOVELTY': 0.0007347304074444592, 'DIVERSITY_MEAN_INTER_LIST': 0.9078506098212544, 'DIVERSITY_HERFINDAHL': 0.9815675229072517, 'COVERAGE_ITEM': 0.013111431817483955, 'COVERAGE_USER': 0.9761345852895149, 'DIVERSITY_GINI': 0.09810448633273229, 'SHANNON_ENTROPY': 6.666258003924941}\n",
      "\n",
      "BayesianSearch: Saving model in result_experiments/\n",
      "\n",
      "ItemKNNCBFRecommender: Saving model in file 'result_experiments/_best_model'\n",
      "ItemKNNCBFRecommender: Saving complete\n",
      "ItemKNNCBFRecommender: Loading model from file 'result_experiments/_best_model'\n",
      "ItemKNNCBFRecommender: Loading complete\n",
      "SequentialEvaluator: Processed 24001 ( 34.35% ) in 30.11 seconds. Users per second: 797\n",
      "SequentialEvaluator: Processed 49001 ( 70.12% ) in 60.58 seconds. Users per second: 809\n",
      "SequentialEvaluator: Processed 69878 ( 100.00% ) in 85.36 seconds. Users per second: 819\n",
      "BayesianSearch: Best result evaluated on URM_test. Config: {'topK': 500, 'shrink': 1000, 'similarity': 'cosine', 'normalize': True} - results: CUTOFF: 5 - ROC_AUC: 0.3358878, PRECISION: 0.2229989, RECALL: 0.0215513, RECALL_TEST_LEN: 0.2229989, MAP: 0.1610929, MRR: 0.3875936, NDCG: 0.0554998, F1: 0.0393042, HIT_RATE: 1.1149718, ARHR: 0.5583281, NOVELTY: 0.0007347, DIVERSITY_MEAN_INTER_LIST: 0.9078525, DIVERSITY_HERFINDAHL: 0.9815679, COVERAGE_ITEM: 0.0131421, COVERAGE_USER: 0.9763861, DIVERSITY_GINI: 0.0978902, SHANNON_ENTROPY: 6.6663798, \n",
      "CUTOFF: 10 - ROC_AUC: 0.3940698, PRECISION: 0.1968916, RECALL: 0.0362688, RECALL_TEST_LEN: 0.1968916, MAP: 0.1205932, MRR: 0.4023716, NDCG: 0.0735179, F1: 0.0612541, HIT_RATE: 1.9664701, ARHR: 0.6688969, NOVELTY: 0.0014897, DIVERSITY_MEAN_INTER_LIST: 0.8709542, DIVERSITY_HERFINDAHL: 0.9870942, COVERAGE_ITEM: 0.0208954, COVERAGE_USER: 0.9763861, DIVERSITY_GINI: 0.0825927, SHANNON_ENTROPY: 7.1093631, \n",
      "\n",
      "\n",
      "    1 | 02m52s | \u001b[35m   0.06759\u001b[0m | \u001b[32m     0.2356\u001b[0m | \u001b[32m   6.6600\u001b[0m | \u001b[32m      0.0000\u001b[0m | \u001b[32m   8.8648\u001b[0m | \n",
      "BayesianSearch: Testing config: {'topK': 800, 'shrink': 300, 'similarity': 'cosine', 'normalize': True}\n",
      "Similarity column 65134 ( 100 % ), 3472.68 column/sec, elapsed time 0.31 min\n",
      "SequentialEvaluator: Processed 30001 ( 42.94% ) in 30.16 seconds. Users per second: 995\n",
      "SequentialEvaluator: Processed 60759 ( 86.97% ) in 60.16 seconds. Users per second: 1010\n",
      "SequentialEvaluator: Processed 69860 ( 100.00% ) in 68.94 seconds. Users per second: 1013\n",
      "BayesianSearch: Config is suboptimal. Config: {'topK': 800, 'shrink': 300, 'similarity': 'cosine', 'normalize': True} - results: {'ROC_AUC': 0.21442408626777412, 'PRECISION': 0.10914853516552935, 'RECALL': 0.02107745889449032, 'RECALL_TEST_LEN': 0.10914853516552935, 'MAP': 0.06639030839456228, 'MRR': 0.22379139230845083, 'NDCG': 0.041872044356555824, 'F1': 0.035332020768218786, 'HIT_RATE': 0.5439164042370456, 'ARHR': 0.27242604256134073, 'NOVELTY': 0.0007444497574924189, 'DIVERSITY_MEAN_INTER_LIST': 0.9209841552052374, 'DIVERSITY_HERFINDAHL': 0.9841941943844337, 'COVERAGE_ITEM': 0.014646728283231492, 'COVERAGE_USER': 0.9761345852895149, 'DIVERSITY_GINI': 0.10631963703023099, 'SHANNON_ENTROPY': 6.930460880668806}\n",
      "\n",
      "    2 | 01m27s |    0.06639 |      0.3249 |    5.0421 |       0.0000 |   11.6362 | \n",
      "BayesianSearch: Testing config: {'topK': 10, 'shrink': 500, 'similarity': 'cosine', 'normalize': True}\n",
      "Similarity column 65134 ( 100 % ), 3238.93 column/sec, elapsed time 0.34 min\n",
      "SequentialEvaluator: Processed 40242 ( 57.60% ) in 30.00 seconds. Users per second: 1341\n",
      "SequentialEvaluator: Processed 69860 ( 100.00% ) in 51.09 seconds. Users per second: 1367\n",
      "BayesianSearch: Config is suboptimal. Config: {'topK': 10, 'shrink': 500, 'similarity': 'cosine', 'normalize': True} - results: {'ROC_AUC': 0.1958309476095047, 'PRECISION': 0.09153306613223273, 'RECALL': 0.017994269003795457, 'RECALL_TEST_LEN': 0.09153306613223273, 'MAP': 0.0558640296465876, 'MRR': 0.1988591468651765, 'NDCG': 0.035028873422477916, 'F1': 0.030075973503418216, 'HIT_RATE': 0.45589750930432293, 'ARHR': 0.23517821357003052, 'NOVELTY': 0.0007712784065215439, 'DIVERSITY_MEAN_INTER_LIST': 0.9502461220740299, 'DIVERSITY_HERFINDAHL': 0.9900465039850262, 'COVERAGE_ITEM': 0.032394755427273006, 'COVERAGE_USER': 0.9761345852895149, 'DIVERSITY_GINI': 0.07509947688569261, 'SHANNON_ENTROPY': 7.539840961213559}\n",
      "\n",
      "    3 | 01m11s |    0.05586 |      0.1142 |    5.5241 |       0.0000 |    1.3791 | \n",
      "BayesianSearch: Testing config: {'topK': 600, 'shrink': 100, 'similarity': 'cosine', 'normalize': False}\n",
      "Similarity column 65134 ( 100 % ), 3967.03 column/sec, elapsed time 0.27 min\n",
      "SequentialEvaluator: Processed 30048 ( 43.01% ) in 30.00 seconds. Users per second: 1002\n",
      "SequentialEvaluator: Processed 61001 ( 87.32% ) in 60.48 seconds. Users per second: 1009\n",
      "SequentialEvaluator: Processed 69860 ( 100.00% ) in 68.51 seconds. Users per second: 1020\n",
      "BayesianSearch: Config is suboptimal. Config: {'topK': 600, 'shrink': 100, 'similarity': 'cosine', 'normalize': False} - results: {'ROC_AUC': 0.21585790628876841, 'PRECISION': 0.11188257467311462, 'RECALL': 0.021945262766882755, 'RECALL_TEST_LEN': 0.11188257467311462, 'MAP': 0.06727714158475258, 'MRR': 0.22482369500909222, 'NDCG': 0.0437556344439895, 'F1': 0.03669330009666679, 'HIT_RATE': 0.5574291440022903, 'ARHR': 0.27493701689095124, 'NOVELTY': 0.0007227501674374171, 'DIVERSITY_MEAN_INTER_LIST': 0.8865404543732557, 'DIVERSITY_HERFINDAHL': 0.9773055528258267, 'COVERAGE_ITEM': 0.01180642982159855, 'COVERAGE_USER': 0.9761345852895149, 'DIVERSITY_GINI': 0.08488612847215767, 'SHANNON_ENTROPY': 6.2946556583421795}\n",
      "\n",
      "    4 | 01m25s |    0.06728 |      0.9264 |    3.3743 |       0.0000 |   10.3218 | \n",
      "BayesianSearch: Testing config: {'topK': 400, 'shrink': 300, 'similarity': 'cosine', 'normalize': True}\n",
      "Similarity column 65134 ( 100 % ), 3364.84 column/sec, elapsed time 0.32 min\n",
      "SequentialEvaluator: Processed 31001 ( 44.38% ) in 30.19 seconds. Users per second: 1027\n",
      "SequentialEvaluator: Processed 63001 ( 90.18% ) in 60.88 seconds. Users per second: 1035\n",
      "SequentialEvaluator: Processed 69860 ( 100.00% ) in 66.95 seconds. Users per second: 1043\n",
      "BayesianSearch: Config is suboptimal. Config: {'topK': 400, 'shrink': 300, 'similarity': 'cosine', 'normalize': True} - results: {'ROC_AUC': 0.21302963068995162, 'PRECISION': 0.10815464261853104, 'RECALL': 0.02087220462294331, 'RECALL_TEST_LEN': 0.10815464261853104, 'MAP': 0.06571412666602554, 'MRR': 0.22192838057068967, 'NDCG': 0.04135139600769477, 'F1': 0.03499156772280891, 'HIT_RATE': 0.5389779559118236, 'ARHR': 0.26993630117380363, 'NOVELTY': 0.0007464596865000627, 'DIVERSITY_MEAN_INTER_LIST': 0.9237794307749756, 'DIVERSITY_HERFINDAHL': 0.9847532414958746, 'COVERAGE_ITEM': 0.015076611293640803, 'COVERAGE_USER': 0.9761345852895149, 'DIVERSITY_GINI': 0.10642907672633452, 'SHANNON_ENTROPY': 6.9785491343373725}\n",
      "\n",
      "    5 | 01m26s |    0.06571 |      0.4172 |    5.1591 |       0.0000 |    7.7303 | \n",
      "\u001b[31mBayesian Optimization\u001b[0m\n",
      "\u001b[94m----------------------------------------------------------------------------------\u001b[0m\n",
      " Step |   Time |      Value |   normalize |    shrink |   similarity |      topK | \n",
      "BayesianSearch: Testing config: {'topK': 800, 'shrink': 1000, 'similarity': 'cosine', 'normalize': False}\n"
     ]
    },
    {
     "name": "stdout",
     "output_type": "stream",
     "text": [
      "Similarity column 65134 ( 100 % ), 3898.29 column/sec, elapsed time 0.28 min\n",
      "SequentialEvaluator: Processed 30001 ( 42.94% ) in 30.49 seconds. Users per second: 984\n",
      "SequentialEvaluator: Processed 60186 ( 86.15% ) in 60.50 seconds. Users per second: 995\n",
      "SequentialEvaluator: Processed 69860 ( 100.00% ) in 69.51 seconds. Users per second: 1005\n",
      "BayesianSearch: Config is suboptimal. Config: {'topK': 800, 'shrink': 1000, 'similarity': 'cosine', 'normalize': False} - results: {'ROC_AUC': 0.21652590896077897, 'PRECISION': 0.1120853611985462, 'RECALL': 0.022008845527276864, 'RECALL_TEST_LEN': 0.1120853611985462, 'MAP': 0.06745378057702262, 'MRR': 0.22535332569904407, 'NDCG': 0.04393715986475833, 'F1': 0.03679307944349516, 'HIT_RATE': 0.5584168336673346, 'ARHR': 0.27560812100393955, 'NOVELTY': 0.0007221945493509148, 'DIVERSITY_MEAN_INTER_LIST': 0.8855276022082794, 'DIVERSITY_HERFINDAHL': 0.9771029852924941, 'COVERAGE_ITEM': 0.011622194245708846, 'COVERAGE_USER': 0.9761345852895149, 'DIVERSITY_GINI': 0.0852284214112356, 'SHANNON_ENTROPY': 6.27840908469415}\n",
      "\n",
      "    6 | 01m33s |    0.06745 |      0.9977 |    6.9683 |       0.0000 |   11.6302 | \n"
     ]
    },
    {
     "name": "stderr",
     "output_type": "stream",
     "text": [
      "/home/maurizio/anaconda3/lib/python3.6/site-packages/sklearn/gaussian_process/gpr.py:480: ConvergenceWarning: fmin_l_bfgs_b terminated abnormally with the  state: {'grad': array([-8.08934783e-05]), 'task': b'ABNORMAL_TERMINATION_IN_LNSRCH', 'funcalls': 49, 'nit': 4, 'warnflag': 2}\n",
      "  ConvergenceWarning)\n"
     ]
    },
    {
     "name": "stdout",
     "output_type": "stream",
     "text": [
      "BayesianSearch: Testing config: {'topK': 800, 'shrink': 0, 'similarity': 'cosine', 'normalize': True}\n",
      "Similarity column 65134 ( 100 % ), 3416.19 column/sec, elapsed time 0.32 min\n",
      "SequentialEvaluator: Processed 30210 ( 43.24% ) in 30.00 seconds. Users per second: 1007\n",
      "SequentialEvaluator: Processed 61001 ( 87.32% ) in 60.07 seconds. Users per second: 1015\n",
      "SequentialEvaluator: Processed 69860 ( 100.00% ) in 67.90 seconds. Users per second: 1029\n",
      "BayesianSearch: Config is suboptimal. Config: {'topK': 800, 'shrink': 0, 'similarity': 'cosine', 'normalize': True} - results: {'ROC_AUC': 0.15102228266055936, 'PRECISION': 0.06939331043036652, 'RECALL': 0.013321614120290266, 'RECALL_TEST_LEN': 0.06939331043036652, 'MAP': 0.040767459522214715, 'MRR': 0.1508574291440061, 'NDCG': 0.02529857449281758, 'F1': 0.02235221537358015, 'HIT_RATE': 0.34582021185227596, 'ARHR': 0.17507753602444312, 'NOVELTY': 0.0009163469742731844, 'DIVERSITY_MEAN_INTER_LIST': 0.9713863497004213, 'DIVERSITY_HERFINDAHL': 0.9942744889886107, 'COVERAGE_ITEM': 0.06297786102496392, 'COVERAGE_USER': 0.9761345852895149, 'DIVERSITY_GINI': 0.12051294399669432, 'SHANNON_ENTROPY': 8.910135507419145}\n",
      "\n",
      "    7 | 01m33s |    0.04077 |      0.0044 |    0.0296 |       0.0000 |   11.9943 | \n",
      "BayesianSearch: Best config is: Config {'topK': 500, 'shrink': 1000, 'similarity': 'cosine', 'normalize': True}, MAP value is 0.0676\n",
      "\n"
     ]
    }
   ],
   "source": [
    "\n",
    "hyperparamethers_range_dictionary = {}\n",
    "hyperparamethers_range_dictionary[\"topK\"] = [5, 10, 20, 50, 100, 150, 200, 300, 400, 500, 600, 700, 800]\n",
    "hyperparamethers_range_dictionary[\"shrink\"] = [0, 10, 50, 100, 200, 300, 500, 1000]\n",
    "hyperparamethers_range_dictionary[\"similarity\"] = [\"cosine\"]\n",
    "hyperparamethers_range_dictionary[\"normalize\"] = [True, False]\n",
    "\n",
    "\n",
    "recommenderDictionary = {DictionaryKeys.CONSTRUCTOR_POSITIONAL_ARGS: [ICM_all, URM_train],\n",
    "                         DictionaryKeys.CONSTRUCTOR_KEYWORD_ARGS: {},\n",
    "                         DictionaryKeys.FIT_POSITIONAL_ARGS: dict(),\n",
    "                         DictionaryKeys.FIT_KEYWORD_ARGS: dict(),\n",
    "                         DictionaryKeys.FIT_RANGE_KEYWORD_ARGS: hyperparamethers_range_dictionary}\n",
    "\n",
    "output_root_path = \"result_experiments/\"\n",
    "\n",
    "import os\n",
    "\n",
    "# If directory does not exist, create\n",
    "if not os.path.exists(output_root_path):\n",
    "    os.makedirs(output_root_path)\n",
    "\n",
    "    \n",
    "    \n",
    "    \n",
    "n_cases = 2\n",
    "metric_to_optimize = \"MAP\"\n",
    "\n",
    "best_parameters_ItemKNNCBF = parameterSearch.search(recommenderDictionary,\n",
    "                                                 n_cases = n_cases,\n",
    "                                                 output_root_path = output_root_path,\n",
    "                                                 metric=metric_to_optimize)\n",
    "\n",
    "\n"
   ]
  },
  {
   "cell_type": "code",
   "execution_count": 27,
   "metadata": {},
   "outputs": [
    {
     "data": {
      "text/plain": [
       "{'topK': 500, 'shrink': 1000, 'similarity': 'cosine', 'normalize': True}"
      ]
     },
     "execution_count": 27,
     "metadata": {},
     "output_type": "execute_result"
    }
   ],
   "source": [
    "best_parameters_ItemKNNCBF"
   ]
  },
  {
   "cell_type": "code",
   "execution_count": 28,
   "metadata": {},
   "outputs": [
    {
     "name": "stdout",
     "output_type": "stream",
     "text": [
      "Similarity column 65134 ( 100 % ), 3432.57 column/sec, elapsed time 0.32 min\n"
     ]
    }
   ],
   "source": [
    "itemKNNCBF = ItemKNNCBFRecommender(ICM_all, URM_train)\n",
    "itemKNNCBF.fit(**best_parameters_ItemKNNCBF)"
   ]
  },
  {
   "cell_type": "code",
   "execution_count": 29,
   "metadata": {},
   "outputs": [
    {
     "name": "stdout",
     "output_type": "stream",
     "text": [
      "Group 0, average p.len 1.39, min 0, max 4\n",
      "Ignoring 67990 Users\n",
      "SequentialEvaluator: Processed 1888 ( 100.00% ) in 1.67 seconds. Users per second: 1128\n",
      "SequentialEvaluator: Processed 1888 ( 100.00% ) in 1.52 seconds. Users per second: 1239\n",
      "SequentialEvaluator: Processed 1888 ( 100.00% ) in 1.90 seconds. Users per second: 992\n",
      "Group 1, average p.len 4.48, min 4, max 5\n",
      "Ignoring 67990 Users\n",
      "SequentialEvaluator: Processed 3578 ( 100.00% ) in 3.30 seconds. Users per second: 1084\n",
      "SequentialEvaluator: Processed 3578 ( 100.00% ) in 3.03 seconds. Users per second: 1181\n",
      "SequentialEvaluator: Processed 3578 ( 100.00% ) in 3.61 seconds. Users per second: 991\n",
      "Group 2, average p.len 5.71, min 5, max 6\n",
      "Ignoring 67990 Users\n",
      "SequentialEvaluator: Processed 3578 ( 100.00% ) in 3.32 seconds. Users per second: 1079\n",
      "SequentialEvaluator: Processed 3578 ( 100.00% ) in 3.05 seconds. Users per second: 1175\n",
      "SequentialEvaluator: Processed 3578 ( 100.00% ) in 3.65 seconds. Users per second: 980\n",
      "Group 3, average p.len 6.82, min 6, max 7\n",
      "Ignoring 67990 Users\n",
      "SequentialEvaluator: Processed 3578 ( 100.00% ) in 3.40 seconds. Users per second: 1052\n",
      "SequentialEvaluator: Processed 3578 ( 100.00% ) in 3.23 seconds. Users per second: 1107\n",
      "SequentialEvaluator: Processed 3578 ( 100.00% ) in 3.63 seconds. Users per second: 987\n",
      "Group 4, average p.len 7.89, min 7, max 8\n",
      "Ignoring 67990 Users\n",
      "SequentialEvaluator: Processed 3578 ( 100.00% ) in 3.65 seconds. Users per second: 981\n",
      "SequentialEvaluator: Processed 3578 ( 100.00% ) in 3.32 seconds. Users per second: 1077\n",
      "SequentialEvaluator: Processed 3578 ( 100.00% ) in 3.62 seconds. Users per second: 989\n",
      "Group 5, average p.len 9.13, min 8, max 10\n",
      "Ignoring 67990 Users\n",
      "SequentialEvaluator: Processed 3578 ( 100.00% ) in 3.49 seconds. Users per second: 1024\n",
      "SequentialEvaluator: Processed 3578 ( 100.00% ) in 3.22 seconds. Users per second: 1112\n",
      "SequentialEvaluator: Processed 3578 ( 100.00% ) in 3.62 seconds. Users per second: 989\n",
      "Group 6, average p.len 10.39, min 10, max 11\n",
      "Ignoring 67990 Users\n",
      "SequentialEvaluator: Processed 3578 ( 100.00% ) in 3.52 seconds. Users per second: 1018\n",
      "SequentialEvaluator: Processed 3578 ( 100.00% ) in 3.27 seconds. Users per second: 1095\n",
      "SequentialEvaluator: Processed 3578 ( 100.00% ) in 3.61 seconds. Users per second: 992\n",
      "Group 7, average p.len 11.87, min 11, max 13\n",
      "Ignoring 67990 Users\n",
      "SequentialEvaluator: Processed 3578 ( 100.00% ) in 3.69 seconds. Users per second: 970\n",
      "SequentialEvaluator: Processed 3578 ( 100.00% ) in 3.50 seconds. Users per second: 1023\n",
      "SequentialEvaluator: Processed 3578 ( 100.00% ) in 3.59 seconds. Users per second: 997\n",
      "Group 8, average p.len 13.57, min 13, max 15\n",
      "Ignoring 67990 Users\n",
      "SequentialEvaluator: Processed 3578 ( 100.00% ) in 3.68 seconds. Users per second: 972\n",
      "SequentialEvaluator: Processed 3578 ( 100.00% ) in 3.52 seconds. Users per second: 1018\n",
      "SequentialEvaluator: Processed 3578 ( 100.00% ) in 3.65 seconds. Users per second: 982\n",
      "Group 9, average p.len 15.66, min 15, max 17\n",
      "Ignoring 67990 Users\n",
      "SequentialEvaluator: Processed 3578 ( 100.00% ) in 3.74 seconds. Users per second: 955\n",
      "SequentialEvaluator: Processed 3578 ( 100.00% ) in 3.55 seconds. Users per second: 1008\n",
      "SequentialEvaluator: Processed 3578 ( 100.00% ) in 3.54 seconds. Users per second: 1012\n"
     ]
    }
   ],
   "source": [
    "\n",
    "\n",
    "\n",
    "MAP_itemKNNCF_per_group = []\n",
    "MAP_itemKNNCBF_per_group = []\n",
    "MAP_topPop_per_group = []\n",
    "cutoff = 10\n",
    "\n",
    "for group_id in range(0, 10):\n",
    "    \n",
    "    start_pos = group_id*block_size\n",
    "    end_pos = min((group_id+1)*block_size, len(profile_length))\n",
    "    \n",
    "    users_in_group = sorted_users[start_pos:end_pos]\n",
    "    \n",
    "    users_in_group_p_len = profile_length[users_in_group]\n",
    "    \n",
    "    print(\"Group {}, average p.len {:.2f}, min {}, max {}\".format(group_id, \n",
    "        users_in_group_p_len.mean(), users_in_group_p_len.min(), users_in_group_p_len.max()))\n",
    "    \n",
    "    \n",
    "    users_not_in_group_flag = np.isin(sorted_users, users_in_group, invert = True)\n",
    "    users_not_in_group = sorted_users[users_not_in_group_flag]\n",
    "    \n",
    "    evaluator_test = SequentialEvaluator(URM_test, cutoff_list=[cutoff], ignore_users = users_not_in_group)\n",
    "    \n",
    "    \n",
    "    results, _ = evaluator_test.evaluateRecommender(itemKNNCF)\n",
    "    MAP_itemKNNCF_per_group.append(results[cutoff][\"MAP\"])\n",
    " \n",
    "    results, _ = evaluator_test.evaluateRecommender(itemKNNCBF)\n",
    "    MAP_itemKNNCBF_per_group.append(results[cutoff][\"MAP\"])\n",
    "\n",
    "    results, _ = evaluator_test.evaluateRecommender(topPop)\n",
    "    MAP_topPop_per_group.append(results[cutoff][\"MAP\"])\n",
    "\n",
    "    \n",
    "    "
   ]
  },
  {
   "cell_type": "code",
   "execution_count": 30,
   "metadata": {},
   "outputs": [
    {
     "data": {
      "image/png": "[encoded data removed]",
      "text/plain": [
       "<Figure size 432x288 with 1 Axes>"
      ]
     },
     "metadata": {
      "needs_background": "light"
     },
     "output_type": "display_data"
    }
   ],
   "source": [
    "import matplotlib.pyplot as pyplot\n",
    "%matplotlib inline  \n",
    "\n",
    "pyplot.plot(MAP_itemKNNCF_per_group, label=\"itemKNNCF\")\n",
    "pyplot.plot(MAP_itemKNNCBF_per_group, label=\"itemKNNCBF\")\n",
    "pyplot.plot(MAP_topPop_per_group, label=\"topPop\")\n",
    "pyplot.ylabel('MAP')\n",
    "pyplot.xlabel('User Group')\n",
    "pyplot.legend()\n",
    "pyplot.show()"
   ]
  },
  {
   "cell_type": "code",
   "execution_count": null,
   "metadata": {},
   "outputs": [],
   "source": []
  }
 ],
 "metadata": {
  "kernelspec": {
   "display_name": "Python 3",
   "language": "python",
   "name": "python3"
  },
  "language_info": {
   "codemirror_mode": {
    "name": "ipython",
    "version": 3
   },
   "file_extension": ".py",
   "mimetype": "text/x-python",
   "name": "python",
   "nbconvert_exporter": "python",
   "pygments_lexer": "ipython3",
   "version": "3.6.6"
  }
 },
 "nbformat": 4,
 "nbformat_minor": 2
}
