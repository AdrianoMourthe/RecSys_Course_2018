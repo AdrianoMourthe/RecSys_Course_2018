{
 "cells": [
  {
   "cell_type": "markdown",
   "metadata": {},
   "source": [
    "# Recommender Systems 2021/22\n",
    "\n",
    "### Practice - PureSVD\n",
    "\n",
    "PureSVD relies on the SVD decomposition of the URM, which is a well known matrix decompositoin technique available in most numerical libraries.\n",
    "\n",
    "In our case, an SVD decomposition of the URM *R* as ($m \\times n$) is as follows\n",
    "\n",
    "$$ R = U \\Sigma V^* $$\n",
    "\n",
    "Where $U$ is an orthogonal $m \\times m$ matrix, $\\Sigma$ is a rectangular diagonal matrix ($m \\times n$), and $V^*$ is the conjugate transposed of an $n \\times n$ matrix. \n",
    "\n",
    "The SVD decomposition will try to approximate *exactly* the original matrix, this is not what we want! \n",
    "We use instead the *truncated* SVD that will limit the decomposition at the desired number of latent dimensions, approximating the original matrix.\n",
    "\n",
    "\n",
    "$$ \\widehat{R} = U_{t} \\Sigma_{t} V^T_{t} $$\n",
    "\n",
    "Where $U_{t}$ is a $m \\times t$ matrix, $\\Sigma_{t}$ is a $t \\times t$ diagonal matrix, and $V^*_{t}$ is a $t \\times n$ matrix. For this approximation, only the $t$ largest singular values are kept.\n"
   ]
  },
  {
   "cell_type": "code",
   "execution_count": 2,
   "metadata": {},
   "outputs": [],
   "source": [
    "import time\n",
    "import numpy as np"
   ]
  },
  {
   "cell_type": "code",
   "execution_count": 3,
   "metadata": {},
   "outputs": [
    {
     "name": "stdout",
     "output_type": "stream",
     "text": [
      "Movielens10M: Verifying data consistency...\n",
      "Movielens10M: Verifying data consistency... Passed!\n",
      "DataReader: current dataset is: <class 'Data_manager.Dataset.Dataset'>\n",
      "\tNumber of items: 10681\n",
      "\tNumber of users: 69878\n",
      "\tNumber of interactions in URM_all: 10000054\n",
      "\tValue range in URM_all: 0.50-5.00\n",
      "\tInteraction density: 1.34E-02\n",
      "\tInteractions per user:\n",
      "\t\t Min: 2.00E+01\n",
      "\t\t Avg: 1.43E+02\n",
      "\t\t Max: 7.36E+03\n",
      "\tInteractions per item:\n",
      "\t\t Min: 0.00E+00\n",
      "\t\t Avg: 9.36E+02\n",
      "\t\t Max: 3.49E+04\n",
      "\tGini Index: 0.57\n",
      "\n",
      "\tICM name: ICM_all, Value range: 1.00 / 69.00, Num features: 10126, feature occurrences: 128384, density 1.19E-03\n",
      "\tICM name: ICM_genres, Value range: 1.00 / 1.00, Num features: 20, feature occurrences: 21564, density 1.01E-01\n",
      "\tICM name: ICM_tags, Value range: 1.00 / 69.00, Num features: 10106, feature occurrences: 106820, density 9.90E-04\n",
      "\tICM name: ICM_year, Value range: 6.00E+00 / 2.01E+03, Num features: 1, feature occurrences: 10681, density 1.00E+00\n",
      "\n",
      "\n",
      "Warning: 71 (0.10 %) of 69878 users have no sampled items\n"
     ]
    }
   ],
   "source": [
    "from Data_manager.Movielens.Movielens10MReader import Movielens10MReader\n",
    "from Data_manager.split_functions.split_train_validation_random_holdout import split_train_in_two_percentage_global_sample\n",
    "\n",
    "\n",
    "data_reader = Movielens10MReader()\n",
    "data_loaded = data_reader.load_data()\n",
    "\n",
    "URM_all = data_loaded.get_URM_all()\n",
    "\n",
    "URM_train, URM_test = split_train_in_two_percentage_global_sample(URM_all, train_percentage = 0.80)"
   ]
  },
  {
   "cell_type": "code",
   "execution_count": 4,
   "metadata": {},
   "outputs": [
    {
     "data": {
      "text/plain": [
       "<69878x10681 sparse matrix of type '<class 'numpy.float64'>'\n",
       "\twith 8000043 stored elements in Compressed Sparse Row format>"
      ]
     },
     "execution_count": 4,
     "metadata": {},
     "output_type": "execute_result"
    }
   ],
   "source": [
    "URM_train"
   ]
  },
  {
   "cell_type": "markdown",
   "metadata": {},
   "source": [
    "### What do we need for PureSVD?\n",
    "\n",
    "* A numerical library like sklearn\n",
    "* ... nothing else really\n"
   ]
  },
  {
   "cell_type": "code",
   "execution_count": 5,
   "metadata": {},
   "outputs": [],
   "source": [
    "n_users, n_items = URM_train.shape"
   ]
  },
  {
   "cell_type": "markdown",
   "metadata": {},
   "source": [
    "## Step one and only: Compute the decomposition\n",
    "\n",
    "In this case I use randomized_svd, but other approximate decompositions are also available which may rely on different algorithms to find the result."
   ]
  },
  {
   "cell_type": "code",
   "execution_count": 29,
   "metadata": {},
   "outputs": [],
   "source": [
    "from sklearn.utils.extmath import randomized_svd\n",
    "\n",
    "num_factors = 10\n",
    "\n",
    "U, Sigma, VT = randomized_svd(URM_train,\n",
    "                              n_components=num_factors)"
   ]
  },
  {
   "cell_type": "code",
   "execution_count": 30,
   "metadata": {},
   "outputs": [
    {
     "data": {
      "text/plain": [
       "(69878, 10)"
      ]
     },
     "execution_count": 30,
     "metadata": {},
     "output_type": "execute_result"
    }
   ],
   "source": [
    "U.shape"
   ]
  },
  {
   "cell_type": "code",
   "execution_count": 31,
   "metadata": {},
   "outputs": [
    {
     "data": {
      "text/plain": [
       "array([[ 8.47912368e-04, -3.72089065e-03, -8.88941296e-04, ...,\n",
       "        -1.00285734e-03, -2.19162762e-03, -7.98325456e-04],\n",
       "       [ 5.84183498e-04, -1.32242760e-03, -1.65738566e-04, ...,\n",
       "         2.64485325e-03,  2.44010951e-03,  1.10346559e-03],\n",
       "       [ 6.24701053e-04,  3.62539244e-04, -1.02643100e-03, ...,\n",
       "         3.37698138e-04,  1.48949376e-03,  3.88825003e-04],\n",
       "       ...,\n",
       "       [ 3.28096860e-03,  1.75144762e-03,  5.76313371e-03, ...,\n",
       "        -2.49521385e-03,  2.54684307e-03,  3.46101433e-03],\n",
       "       [ 1.42262008e-03, -5.19205151e-03,  1.05363435e-03, ...,\n",
       "         1.17071335e-03, -2.57942140e-03,  2.01736358e-03],\n",
       "       [ 1.19975888e-03, -9.04033732e-04, -8.05454928e-04, ...,\n",
       "         1.56024412e-03,  8.17761394e-05,  4.91240176e-03]])"
      ]
     },
     "execution_count": 31,
     "metadata": {},
     "output_type": "execute_result"
    }
   ],
   "source": [
    "U"
   ]
  },
  {
   "cell_type": "code",
   "execution_count": 32,
   "metadata": {},
   "outputs": [
    {
     "data": {
      "text/plain": [
       "(10,)"
      ]
     },
     "execution_count": 32,
     "metadata": {},
     "output_type": "execute_result"
    }
   ],
   "source": [
    "Sigma.shape"
   ]
  },
  {
   "cell_type": "code",
   "execution_count": 33,
   "metadata": {},
   "outputs": [
    {
     "data": {
      "text/plain": [
       "array([4276.72930267, 1783.17401206, 1532.53605924, 1227.13350962,\n",
       "       1184.16416059, 1014.13542964,  959.70453623,  907.55579919,\n",
       "        841.56176683,  746.13741522])"
      ]
     },
     "execution_count": 33,
     "metadata": {},
     "output_type": "execute_result"
    }
   ],
   "source": [
    "Sigma"
   ]
  },
  {
   "cell_type": "code",
   "execution_count": 34,
   "metadata": {},
   "outputs": [
    {
     "data": {
      "text/plain": [
       "(10, 10681)"
      ]
     },
     "execution_count": 34,
     "metadata": {},
     "output_type": "execute_result"
    }
   ],
   "source": [
    "VT.shape"
   ]
  },
  {
   "cell_type": "code",
   "execution_count": 35,
   "metadata": {},
   "outputs": [
    {
     "data": {
      "text/plain": [
       "array([[ 0.00670559,  0.03255627,  0.041844  , ...,  0.        ,\n",
       "         0.        ,  0.        ],\n",
       "       [-0.01462121, -0.09530197, -0.07075969, ..., -0.        ,\n",
       "        -0.        , -0.        ],\n",
       "       [ 0.00282038, -0.01129779, -0.04187884, ..., -0.        ,\n",
       "        -0.        , -0.        ],\n",
       "       ...,\n",
       "       [ 0.00121323, -0.02040486, -0.03218989, ...,  0.        ,\n",
       "         0.        ,  0.        ],\n",
       "       [-0.00533629, -0.00628752, -0.03111863, ...,  0.        ,\n",
       "         0.        ,  0.        ],\n",
       "       [-0.01383618,  0.01570495, -0.08671511, ...,  0.        ,\n",
       "         0.        ,  0.        ]])"
      ]
     },
     "execution_count": 35,
     "metadata": {},
     "output_type": "execute_result"
    }
   ],
   "source": [
    "VT"
   ]
  },
  {
   "cell_type": "markdown",
   "metadata": {},
   "source": [
    "### Now we can compute the predictions\n",
    "\n",
    "In order to compute the prediction we simply have to \"reconstruct\" the URM starting from the decomposition we have obtained, hence:\n",
    "\n",
    "$$ \\widehat{URM} = U_{t} \\Sigma_{t} V^T_{t} $$"
   ]
  },
  {
   "cell_type": "code",
   "execution_count": 39,
   "metadata": {},
   "outputs": [
    {
     "data": {
      "text/plain": [
       "2.2976578781467962"
      ]
     },
     "execution_count": 39,
     "metadata": {},
     "output_type": "execute_result"
    }
   ],
   "source": [
    "user_id = 17025\n",
    "item_id = 468\n",
    "\n",
    "user_factors = np.dot(U, np.diag(Sigma))\n",
    "item_factors = VT\n",
    "\n",
    "predicted_rating_mf = np.dot(user_factors[user_id,:], item_factors[:,item_id])\n",
    "predicted_rating_mf"
   ]
  },
  {
   "cell_type": "markdown",
   "metadata": {},
   "source": [
    "## Item-based version of PureSVD\n",
    "\n",
    "It is proven that via folding-in you can construct a matematically equivalent version of PureSVD that is item-based.\n",
    "See for example: Paolo Cremonesi, Yehuda Koren, and Roberto Turrin. 2010. Performance of recommender algorithms on top-n recommendation tasks. https://doi.org/10.1145/1864708.1864721\n",
    "\n",
    "Why would you want to do that?\n",
    "* Allows to compute recommendations for users that did not exist when you trained the model (you still need some interactions in their user profile to be able to compute recommendations)\n",
    "* Allows to create hybrid item-item similarities"
   ]
  },
  {
   "cell_type": "markdown",
   "metadata": {},
   "source": [
    "You can represent the user embeddings as $U_t \\Sigma_t$ and the item embeddings as $V$.\n",
    "\n",
    "The equivalence tells you that you can write $$ R = U_t \\Sigma_t V^T_t = R V V^T $$"
   ]
  },
  {
   "cell_type": "code",
   "execution_count": 40,
   "metadata": {},
   "outputs": [
    {
     "data": {
      "text/plain": [
       "(10681, 10681)"
      ]
     },
     "execution_count": 40,
     "metadata": {},
     "output_type": "execute_result"
    }
   ],
   "source": [
    "item_item_similarity = np.dot(VT.T,VT)\n",
    "item_item_similarity.shape"
   ]
  },
  {
   "cell_type": "code",
   "execution_count": 43,
   "metadata": {},
   "outputs": [
    {
     "data": {
      "text/plain": [
       "array([2.29710945])"
      ]
     },
     "execution_count": 43,
     "metadata": {},
     "output_type": "execute_result"
    }
   ],
   "source": [
    "predicted_rating_similarity = URM_train[user_id,:].dot(item_item_similarity[:,item_id])\n",
    "predicted_rating_similarity"
   ]
  },
  {
   "cell_type": "markdown",
   "metadata": {},
   "source": [
    "The predictios are almost identical, some small numerical diffrences can occur as the representation is always approximate"
   ]
  },
  {
   "cell_type": "code",
   "execution_count": null,
   "metadata": {},
   "outputs": [],
   "source": []
  }
 ],
 "metadata": {
  "kernelspec": {
   "display_name": "Python 3",
   "language": "python",
   "name": "python3"
  },
  "language_info": {
   "codemirror_mode": {
    "name": "ipython",
    "version": 3
   },
   "file_extension": ".py",
   "mimetype": "text/x-python",
   "name": "python",
   "nbconvert_exporter": "python",
   "pygments_lexer": "ipython3",
   "version": "3.8.8"
  }
 },
 "nbformat": 4,
 "nbformat_minor": 2
}
