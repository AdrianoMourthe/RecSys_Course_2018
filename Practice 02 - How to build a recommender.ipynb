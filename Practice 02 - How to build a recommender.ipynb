{
 "cells": [
  {
   "cell_type": "markdown",
   "metadata": {},
   "source": [
    "# Recommender Systems 2020/21\n",
    "\n",
    "### Practice 2 - Non personalized recommenders"
   ]
  },
  {
   "cell_type": "markdown",
   "metadata": {},
   "source": [
    "### We will use the Movielens 10 million dataset. We download it and uncompress the file we need.\n",
    "\n",
    "### In order to reuse it in the future, we will put all of that in a class that we can call easily"
   ]
  },
  {
   "cell_type": "code",
   "execution_count": 1,
   "metadata": {},
   "outputs": [],
   "source": [
    "from urllib.request import urlretrieve\n",
    "import zipfile"
   ]
  },
  {
   "cell_type": "code",
   "execution_count": 2,
   "metadata": {},
   "outputs": [],
   "source": [
    "import os\n",
    "\n",
    "# If file exists, skip the download\n",
    "data_file_path = \"data/Movielens_10M/\"\n",
    "data_file_name = data_file_path + \"movielens_10m.zip\"\n",
    "\n",
    "# If directory does not exist, create\n",
    "if not os.path.exists(data_file_path):\n",
    "    os.makedirs(data_file_path)\n",
    "\n",
    "if not os.path.exists(data_file_name):\n",
    "    urlretrieve (\"http://files.grouplens.org/datasets/movielens/ml-10m.zip\", data_file_name)"
   ]
  },
  {
   "cell_type": "code",
   "execution_count": 3,
   "metadata": {},
   "outputs": [],
   "source": [
    "dataFile = zipfile.ZipFile(\"data/Movielens_10M/movielens_10m.zip\")\n",
    "\n",
    "URM_path = dataFile.extract(\"ml-10M100K/ratings.dat\", path = \"data/Movielens_10M\")\n",
    "\n",
    "URM_file = open(URM_path, 'r')"
   ]
  },
  {
   "cell_type": "code",
   "execution_count": 4,
   "metadata": {},
   "outputs": [
    {
     "data": {
      "text/plain": [
       "_io.TextIOWrapper"
      ]
     },
     "execution_count": 4,
     "metadata": {},
     "output_type": "execute_result"
    }
   ],
   "source": [
    "type(URM_file)"
   ]
  },
  {
   "cell_type": "markdown",
   "metadata": {},
   "source": [
    "#### Let's take a look at the data"
   ]
  },
  {
   "cell_type": "code",
   "execution_count": 5,
   "metadata": {},
   "outputs": [],
   "source": [
    "import pandas as pd"
   ]
  },
  {
   "cell_type": "code",
   "execution_count": 6,
   "metadata": {},
   "outputs": [
    {
     "name": "stderr",
     "output_type": "stream",
     "text": [
      "<ipython-input-6-f0dd1a8145be>:1: ParserWarning: Falling back to the 'python' engine because the 'c' engine does not support regex separators (separators > 1 char and different from '\\s+' are interpreted as regex); you can avoid this warning by specifying engine='python'.\n",
      "  URM_all_dataframe = pd.read_csv(filepath_or_buffer=URM_path,\n"
     ]
    }
   ],
   "source": [
    "URM_all_dataframe = pd.read_csv(filepath_or_buffer=URM_path, \n",
    "                                sep=\"::\", \n",
    "                                header=None, \n",
    "                                dtype={0:int, 1:int, 2:float, 3:int})\n",
    "\n",
    "URM_all_dataframe.columns = [\"UserID\", \"ItemID\", \"Interaction\", \"Timestamp\"]"
   ]
  },
  {
   "cell_type": "code",
   "execution_count": 7,
   "metadata": {},
   "outputs": [
    {
     "data": {
      "text/html": [
       "<div>\n",
       "<style scoped>\n",
       "    .dataframe tbody tr th:only-of-type {\n",
       "        vertical-align: middle;\n",
       "    }\n",
       "\n",
       "    .dataframe tbody tr th {\n",
       "        vertical-align: top;\n",
       "    }\n",
       "\n",
       "    .dataframe thead th {\n",
       "        text-align: right;\n",
       "    }\n",
       "</style>\n",
       "<table border=\"1\" class=\"dataframe\">\n",
       "  <thead>\n",
       "    <tr style=\"text-align: right;\">\n",
       "      <th></th>\n",
       "      <th>UserID</th>\n",
       "      <th>ItemID</th>\n",
       "      <th>Interaction</th>\n",
       "      <th>Timestamp</th>\n",
       "    </tr>\n",
       "  </thead>\n",
       "  <tbody>\n",
       "    <tr>\n",
       "      <th>0</th>\n",
       "      <td>1</td>\n",
       "      <td>122</td>\n",
       "      <td>5.0</td>\n",
       "      <td>838985046</td>\n",
       "    </tr>\n",
       "    <tr>\n",
       "      <th>1</th>\n",
       "      <td>1</td>\n",
       "      <td>185</td>\n",
       "      <td>5.0</td>\n",
       "      <td>838983525</td>\n",
       "    </tr>\n",
       "    <tr>\n",
       "      <th>2</th>\n",
       "      <td>1</td>\n",
       "      <td>231</td>\n",
       "      <td>5.0</td>\n",
       "      <td>838983392</td>\n",
       "    </tr>\n",
       "    <tr>\n",
       "      <th>3</th>\n",
       "      <td>1</td>\n",
       "      <td>292</td>\n",
       "      <td>5.0</td>\n",
       "      <td>838983421</td>\n",
       "    </tr>\n",
       "    <tr>\n",
       "      <th>4</th>\n",
       "      <td>1</td>\n",
       "      <td>316</td>\n",
       "      <td>5.0</td>\n",
       "      <td>838983392</td>\n",
       "    </tr>\n",
       "    <tr>\n",
       "      <th>5</th>\n",
       "      <td>1</td>\n",
       "      <td>329</td>\n",
       "      <td>5.0</td>\n",
       "      <td>838983392</td>\n",
       "    </tr>\n",
       "    <tr>\n",
       "      <th>6</th>\n",
       "      <td>1</td>\n",
       "      <td>355</td>\n",
       "      <td>5.0</td>\n",
       "      <td>838984474</td>\n",
       "    </tr>\n",
       "    <tr>\n",
       "      <th>7</th>\n",
       "      <td>1</td>\n",
       "      <td>356</td>\n",
       "      <td>5.0</td>\n",
       "      <td>838983653</td>\n",
       "    </tr>\n",
       "    <tr>\n",
       "      <th>8</th>\n",
       "      <td>1</td>\n",
       "      <td>362</td>\n",
       "      <td>5.0</td>\n",
       "      <td>838984885</td>\n",
       "    </tr>\n",
       "    <tr>\n",
       "      <th>9</th>\n",
       "      <td>1</td>\n",
       "      <td>364</td>\n",
       "      <td>5.0</td>\n",
       "      <td>838983707</td>\n",
       "    </tr>\n",
       "  </tbody>\n",
       "</table>\n",
       "</div>"
      ],
      "text/plain": [
       "   UserID  ItemID  Interaction  Timestamp\n",
       "0       1     122          5.0  838985046\n",
       "1       1     185          5.0  838983525\n",
       "2       1     231          5.0  838983392\n",
       "3       1     292          5.0  838983421\n",
       "4       1     316          5.0  838983392\n",
       "5       1     329          5.0  838983392\n",
       "6       1     355          5.0  838984474\n",
       "7       1     356          5.0  838983653\n",
       "8       1     362          5.0  838984885\n",
       "9       1     364          5.0  838983707"
      ]
     },
     "execution_count": 7,
     "metadata": {},
     "output_type": "execute_result"
    }
   ],
   "source": [
    "URM_all_dataframe.head(n=10)"
   ]
  },
  {
   "cell_type": "code",
   "execution_count": 8,
   "metadata": {},
   "outputs": [
    {
     "name": "stdout",
     "output_type": "stream",
     "text": [
      "The number of interactions is 10000054\n"
     ]
    }
   ],
   "source": [
    "print (\"The number of interactions is {}\".format(len(URM_all_dataframe)))"
   ]
  },
  {
   "cell_type": "markdown",
   "metadata": {},
   "source": [
    "### We can use this data to create a sparse matrix, notice that we have red UserID and ItemID as int\n",
    "### This is not always possible if the IDs are alphanumeric"
   ]
  },
  {
   "cell_type": "markdown",
   "metadata": {},
   "source": [
    "### Now we can extract the list of unique user id and item id and display some statistics"
   ]
  },
  {
   "cell_type": "code",
   "execution_count": 9,
   "metadata": {},
   "outputs": [],
   "source": [
    "userID_unique = URM_all_dataframe[\"UserID\"].unique()\n",
    "itemID_unique = URM_all_dataframe[\"ItemID\"].unique()"
   ]
  },
  {
   "cell_type": "code",
   "execution_count": 10,
   "metadata": {},
   "outputs": [
    {
     "name": "stdout",
     "output_type": "stream",
     "text": [
      "Number of items\t 10677, Number of users\t 69878\n",
      "Max ID items\t 65133, Max Id users\t 71567\n",
      "\n"
     ]
    }
   ],
   "source": [
    "n_users = len(userID_unique)\n",
    "n_items = len(itemID_unique)\n",
    "n_interactions = len(URM_all_dataframe)\n",
    "\n",
    "print (\"Number of items\\t {}, Number of users\\t {}\".format(n_items, n_users))\n",
    "print (\"Max ID items\\t {}, Max Id users\\t {}\\n\".format(max(itemID_unique), max(userID_unique)))"
   ]
  },
  {
   "cell_type": "markdown",
   "metadata": {},
   "source": [
    "### See that the max ID of items and users is higher than the number of unique values -> empty profiles\n",
    "### We should remove empty indices, to do so we create a new mapping"
   ]
  },
  {
   "cell_type": "code",
   "execution_count": 11,
   "metadata": {},
   "outputs": [],
   "source": [
    "user_original_ID_to_index_dict = {}\n",
    "\n",
    "for user_id in userID_unique:\n",
    "    user_original_ID_to_index_dict[user_id] = len(user_original_ID_to_index_dict)"
   ]
  },
  {
   "cell_type": "code",
   "execution_count": 12,
   "metadata": {},
   "outputs": [],
   "source": [
    "item_original_ID_to_index_dict = {}\n",
    "\n",
    "for item_id in itemID_unique:\n",
    "    item_original_ID_to_index_dict[item_id] = len(item_original_ID_to_index_dict)"
   ]
  },
  {
   "cell_type": "code",
   "execution_count": 13,
   "metadata": {},
   "outputs": [
    {
     "name": "stdout",
     "output_type": "stream",
     "text": [
      "New index for item 292 is 3\n"
     ]
    }
   ],
   "source": [
    "original_item_ID = 292\n",
    "print(\"New index for item {} is {}\".format(original_item_ID, item_original_ID_to_index_dict[original_item_ID]))"
   ]
  },
  {
   "cell_type": "markdown",
   "metadata": {},
   "source": [
    "### We now replace the IDs in the dataframe and we are ready to use the data"
   ]
  },
  {
   "cell_type": "code",
   "execution_count": 14,
   "metadata": {},
   "outputs": [],
   "source": [
    "URM_all_dataframe[\"UserID\"] = [user_original_ID_to_index_dict[user_original] for user_original in\n",
    "                                      URM_all_dataframe[\"UserID\"].values]\n",
    "\n",
    "URM_all_dataframe[\"ItemID\"] = [item_original_ID_to_index_dict[item_original] for item_original in \n",
    "                                      URM_all_dataframe[\"ItemID\"].values]"
   ]
  },
  {
   "cell_type": "code",
   "execution_count": 15,
   "metadata": {},
   "outputs": [
    {
     "data": {
      "text/html": [
       "<div>\n",
       "<style scoped>\n",
       "    .dataframe tbody tr th:only-of-type {\n",
       "        vertical-align: middle;\n",
       "    }\n",
       "\n",
       "    .dataframe tbody tr th {\n",
       "        vertical-align: top;\n",
       "    }\n",
       "\n",
       "    .dataframe thead th {\n",
       "        text-align: right;\n",
       "    }\n",
       "</style>\n",
       "<table border=\"1\" class=\"dataframe\">\n",
       "  <thead>\n",
       "    <tr style=\"text-align: right;\">\n",
       "      <th></th>\n",
       "      <th>UserID</th>\n",
       "      <th>ItemID</th>\n",
       "      <th>Interaction</th>\n",
       "      <th>Timestamp</th>\n",
       "    </tr>\n",
       "  </thead>\n",
       "  <tbody>\n",
       "    <tr>\n",
       "      <th>0</th>\n",
       "      <td>0</td>\n",
       "      <td>0</td>\n",
       "      <td>5.0</td>\n",
       "      <td>838985046</td>\n",
       "    </tr>\n",
       "    <tr>\n",
       "      <th>1</th>\n",
       "      <td>0</td>\n",
       "      <td>1</td>\n",
       "      <td>5.0</td>\n",
       "      <td>838983525</td>\n",
       "    </tr>\n",
       "    <tr>\n",
       "      <th>2</th>\n",
       "      <td>0</td>\n",
       "      <td>2</td>\n",
       "      <td>5.0</td>\n",
       "      <td>838983392</td>\n",
       "    </tr>\n",
       "    <tr>\n",
       "      <th>3</th>\n",
       "      <td>0</td>\n",
       "      <td>3</td>\n",
       "      <td>5.0</td>\n",
       "      <td>838983421</td>\n",
       "    </tr>\n",
       "    <tr>\n",
       "      <th>4</th>\n",
       "      <td>0</td>\n",
       "      <td>4</td>\n",
       "      <td>5.0</td>\n",
       "      <td>838983392</td>\n",
       "    </tr>\n",
       "    <tr>\n",
       "      <th>5</th>\n",
       "      <td>0</td>\n",
       "      <td>5</td>\n",
       "      <td>5.0</td>\n",
       "      <td>838983392</td>\n",
       "    </tr>\n",
       "    <tr>\n",
       "      <th>6</th>\n",
       "      <td>0</td>\n",
       "      <td>6</td>\n",
       "      <td>5.0</td>\n",
       "      <td>838984474</td>\n",
       "    </tr>\n",
       "    <tr>\n",
       "      <th>7</th>\n",
       "      <td>0</td>\n",
       "      <td>7</td>\n",
       "      <td>5.0</td>\n",
       "      <td>838983653</td>\n",
       "    </tr>\n",
       "    <tr>\n",
       "      <th>8</th>\n",
       "      <td>0</td>\n",
       "      <td>8</td>\n",
       "      <td>5.0</td>\n",
       "      <td>838984885</td>\n",
       "    </tr>\n",
       "    <tr>\n",
       "      <th>9</th>\n",
       "      <td>0</td>\n",
       "      <td>9</td>\n",
       "      <td>5.0</td>\n",
       "      <td>838983707</td>\n",
       "    </tr>\n",
       "  </tbody>\n",
       "</table>\n",
       "</div>"
      ],
      "text/plain": [
       "   UserID  ItemID  Interaction  Timestamp\n",
       "0       0       0          5.0  838985046\n",
       "1       0       1          5.0  838983525\n",
       "2       0       2          5.0  838983392\n",
       "3       0       3          5.0  838983421\n",
       "4       0       4          5.0  838983392\n",
       "5       0       5          5.0  838983392\n",
       "6       0       6          5.0  838984474\n",
       "7       0       7          5.0  838983653\n",
       "8       0       8          5.0  838984885\n",
       "9       0       9          5.0  838983707"
      ]
     },
     "execution_count": 15,
     "metadata": {},
     "output_type": "execute_result"
    }
   ],
   "source": [
    "URM_all_dataframe.head(n=10)"
   ]
  },
  {
   "cell_type": "code",
   "execution_count": 16,
   "metadata": {},
   "outputs": [
    {
     "name": "stdout",
     "output_type": "stream",
     "text": [
      "Number of items\t 10677, Number of users\t 69878\n",
      "Max ID items\t 10676, Max Id users\t 69877\n",
      "\n",
      "Average interactions per user 143.11\n",
      "Average interactions per item 936.60\n",
      "\n",
      "Sparsity 98.66 %\n"
     ]
    }
   ],
   "source": [
    "userID_unique = URM_all_dataframe[\"UserID\"].unique()\n",
    "itemID_unique = URM_all_dataframe[\"ItemID\"].unique()\n",
    "\n",
    "n_users = len(userID_unique)\n",
    "n_items = len(itemID_unique)\n",
    "n_interactions = len(URM_all_dataframe)\n",
    "\n",
    "print (\"Number of items\\t {}, Number of users\\t {}\".format(n_items, n_users))\n",
    "print (\"Max ID items\\t {}, Max Id users\\t {}\\n\".format(max(itemID_unique), max(userID_unique)))\n",
    "print (\"Average interactions per user {:.2f}\".format(n_interactions/n_users))\n",
    "print (\"Average interactions per item {:.2f}\\n\".format(n_interactions/n_items))\n",
    "\n",
    "print (\"Sparsity {:.2f} %\".format((1-float(n_interactions)/(n_items*n_users))*100))\n"
   ]
  },
  {
   "cell_type": "markdown",
   "metadata": {},
   "source": [
    "##### Rating distribution in time"
   ]
  },
  {
   "cell_type": "code",
   "execution_count": 17,
   "metadata": {},
   "outputs": [
    {
     "data": {
      "image/png": "[encoded data removed]",
      "text/plain": [
       "<Figure size 432x288 with 1 Axes>"
      ]
     },
     "metadata": {
      "needs_background": "light"
     },
     "output_type": "display_data"
    }
   ],
   "source": [
    "import matplotlib.pyplot as pyplot\n",
    "\n",
    "# Clone the list to avoid changing the ordering of the original data\n",
    "timestamp_sorted = list(URM_all_dataframe[\"Timestamp\"].values)\n",
    "timestamp_sorted.sort()\n",
    "\n",
    "\n",
    "pyplot.plot(timestamp_sorted, 'ro')\n",
    "pyplot.ylabel('Timestamp ')\n",
    "pyplot.xlabel('Sorted Item')\n",
    "pyplot.show()"
   ]
  },
  {
   "cell_type": "markdown",
   "metadata": {},
   "source": [
    "#### To store the data we use a sparse matrix. We build it as a COO matrix and then change its format\n",
    "\n",
    "#### The COO constructor expects (data, (row, column))"
   ]
  },
  {
   "cell_type": "code",
   "execution_count": 18,
   "metadata": {},
   "outputs": [
    {
     "data": {
      "text/plain": [
       "<69878x10677 sparse matrix of type '<class 'numpy.float64'>'\n",
       "\twith 10000054 stored elements in COOrdinate format>"
      ]
     },
     "execution_count": 18,
     "metadata": {},
     "output_type": "execute_result"
    }
   ],
   "source": [
    "import scipy.sparse as sps\n",
    "\n",
    "URM_all = sps.coo_matrix((URM_all_dataframe[\"Interaction\"].values, \n",
    "                          (URM_all_dataframe[\"UserID\"].values, URM_all_dataframe[\"ItemID\"].values)))\n",
    "\n",
    "URM_all"
   ]
  },
  {
   "cell_type": "code",
   "execution_count": 19,
   "metadata": {
    "scrolled": true
   },
   "outputs": [
    {
     "data": {
      "text/plain": [
       "<69878x10677 sparse matrix of type '<class 'numpy.float64'>'\n",
       "\twith 10000054 stored elements in Compressed Sparse Row format>"
      ]
     },
     "execution_count": 19,
     "metadata": {},
     "output_type": "execute_result"
    }
   ],
   "source": [
    "URM_all.tocsr()"
   ]
  },
  {
   "cell_type": "markdown",
   "metadata": {},
   "source": [
    "### We compute the item popularity as the number of interaction in each column\n",
    "\n",
    "### We can use the properties of sparse matrices in CSC format"
   ]
  },
  {
   "cell_type": "code",
   "execution_count": 20,
   "metadata": {},
   "outputs": [
    {
     "data": {
      "text/plain": [
       "array([ 2412, 14975, 17851, ...,     1,     1,     1], dtype=int32)"
      ]
     },
     "execution_count": 20,
     "metadata": {},
     "output_type": "execute_result"
    }
   ],
   "source": [
    "import numpy as np\n",
    "\n",
    "item_popularity = np.ediff1d(URM_all.tocsc().indptr)\n",
    "item_popularity"
   ]
  },
  {
   "cell_type": "code",
   "execution_count": 21,
   "metadata": {},
   "outputs": [
    {
     "data": {
      "text/plain": [
       "array([    1,     1,     1, ..., 33668, 34457, 34864], dtype=int32)"
      ]
     },
     "execution_count": 21,
     "metadata": {},
     "output_type": "execute_result"
    }
   ],
   "source": [
    "item_popularity = np.sort(item_popularity)\n",
    "item_popularity"
   ]
  },
  {
   "cell_type": "code",
   "execution_count": 22,
   "metadata": {},
   "outputs": [
    {
     "data": {
      "image/png": "[encoded data removed]",
      "text/plain": [
       "<Figure size 432x288 with 1 Axes>"
      ]
     },
     "metadata": {
      "needs_background": "light"
     },
     "output_type": "display_data"
    }
   ],
   "source": [
    "pyplot.plot(item_popularity, 'ro')\n",
    "pyplot.ylabel('Num Interactions ')\n",
    "pyplot.xlabel('Sorted Item')\n",
    "pyplot.show()"
   ]
  },
  {
   "cell_type": "code",
   "execution_count": 23,
   "metadata": {},
   "outputs": [
    {
     "name": "stdout",
     "output_type": "stream",
     "text": [
      "Average per-item interactions over the whole dataset 936.60\n",
      "Average per-item interactions for the top 10% popular items 6479.52\n",
      "Average per-item interactions for the least 10% popular items 5.23\n",
      "Average per-item interactions for the median 10% popular items 136.45\n"
     ]
    }
   ],
   "source": [
    "ten_percent = int(n_items/10)\n",
    "\n",
    "print(\"Average per-item interactions over the whole dataset {:.2f}\".\n",
    "      format(item_popularity.mean()))\n",
    "\n",
    "print(\"Average per-item interactions for the top 10% popular items {:.2f}\".\n",
    "      format(item_popularity[-ten_percent:].mean()))\n",
    "\n",
    "print(\"Average per-item interactions for the least 10% popular items {:.2f}\".\n",
    "      format(item_popularity[:ten_percent].mean()))\n",
    "\n",
    "print(\"Average per-item interactions for the median 10% popular items {:.2f}\".\n",
    "      format(item_popularity[int(n_items*0.45):int(n_items*0.55)].mean()))"
   ]
  },
  {
   "cell_type": "code",
   "execution_count": 24,
   "metadata": {},
   "outputs": [
    {
     "name": "stdout",
     "output_type": "stream",
     "text": [
      "Number of items with zero interactions 0\n"
     ]
    }
   ],
   "source": [
    "print(\"Number of items with zero interactions {}\".\n",
    "      format(np.sum(item_popularity==0)))"
   ]
  },
  {
   "cell_type": "markdown",
   "metadata": {},
   "source": [
    "### We compute the user activity (profile length) as the number of interaction in each row\n",
    "\n",
    "### We can use the properties of sparse matrices in CSR format"
   ]
  },
  {
   "cell_type": "code",
   "execution_count": 25,
   "metadata": {},
   "outputs": [
    {
     "data": {
      "image/png": "[encoded data removed]",
      "text/plain": [
       "<Figure size 432x288 with 1 Axes>"
      ]
     },
     "metadata": {
      "needs_background": "light"
     },
     "output_type": "display_data"
    }
   ],
   "source": [
    "user_activity = np.ediff1d(URM_all.tocsr().indptr)\n",
    "user_activity = np.sort(user_activity)\n",
    "\n",
    "\n",
    "pyplot.plot(user_activity, 'ro')\n",
    "pyplot.ylabel('Num Interactions ')\n",
    "pyplot.xlabel('Sorted User')\n",
    "pyplot.show()"
   ]
  },
  {
   "cell_type": "markdown",
   "metadata": {},
   "source": [
    "### In order to evaluate our recommender we have to define:\n",
    "* A splitting of the data in URM_train and URM_test\n",
    "* An evaluation metric\n",
    "* A functon computing the evaluation for each user\n",
    "\n",
    "### The splitting of the data is very important to ensure your algorithm is evaluated in a realistic scenario by using test it has never seen. We create two splits:\n",
    "#### - Train data: we will use this to train our model\n",
    "#### - Test data: we will use this to evaluate our model"
   ]
  },
  {
   "cell_type": "code",
   "execution_count": 26,
   "metadata": {},
   "outputs": [
    {
     "data": {
      "text/plain": [
       "array([ True,  True,  True, ...,  True,  True,  True])"
      ]
     },
     "execution_count": 26,
     "metadata": {},
     "output_type": "execute_result"
    }
   ],
   "source": [
    "train_test_split = 0.80\n",
    "\n",
    "n_interactions = URM_all.nnz\n",
    "\n",
    "\n",
    "train_mask = np.random.choice([True,False], n_interactions, p=[train_test_split, 1-train_test_split])\n",
    "train_mask"
   ]
  },
  {
   "cell_type": "code",
   "execution_count": 27,
   "metadata": {},
   "outputs": [
    {
     "data": {
      "text/plain": [
       "<69878x10676 sparse matrix of type '<class 'numpy.float64'>'\n",
       "\twith 7999015 stored elements in Compressed Sparse Row format>"
      ]
     },
     "execution_count": 27,
     "metadata": {},
     "output_type": "execute_result"
    }
   ],
   "source": [
    "URM_train = sps.csr_matrix((URM_all.data[train_mask],\n",
    "                            (URM_all.row[train_mask], URM_all.col[train_mask])))\n",
    "\n",
    "URM_train"
   ]
  },
  {
   "cell_type": "code",
   "execution_count": 28,
   "metadata": {},
   "outputs": [
    {
     "data": {
      "text/plain": [
       "<69878x10677 sparse matrix of type '<class 'numpy.float64'>'\n",
       "\twith 2001039 stored elements in Compressed Sparse Row format>"
      ]
     },
     "execution_count": 28,
     "metadata": {},
     "output_type": "execute_result"
    }
   ],
   "source": [
    "test_mask = np.logical_not(train_mask)\n",
    "\n",
    "URM_test = sps.csr_matrix((URM_all.data[test_mask],\n",
    "                            (URM_all.row[test_mask], URM_all.col[test_mask])))\n",
    "\n",
    "URM_test"
   ]
  },
  {
   "cell_type": "markdown",
   "metadata": {},
   "source": [
    "### Evaluation metric"
   ]
  },
  {
   "cell_type": "markdown",
   "metadata": {},
   "source": [
    "#### We call items in the test set 'relevant'"
   ]
  },
  {
   "cell_type": "code",
   "execution_count": 29,
   "metadata": {},
   "outputs": [
    {
     "data": {
      "text/plain": [
       "array([  22,   27,   34,   38,   71,   85,  236,  394,  399,  425, 1312,\n",
       "       1464, 1558, 2492])"
      ]
     },
     "execution_count": 29,
     "metadata": {},
     "output_type": "execute_result"
    }
   ],
   "source": [
    "user_id = 124\n",
    "relevant_items = URM_test[user_id].indices\n",
    "relevant_items"
   ]
  },
  {
   "cell_type": "markdown",
   "metadata": {},
   "source": [
    "#### Say that we have a recommendation list such as this"
   ]
  },
  {
   "cell_type": "code",
   "execution_count": 30,
   "metadata": {},
   "outputs": [
    {
     "data": {
      "text/plain": [
       "array([ 241, 1622,   15,  857, 5823])"
      ]
     },
     "execution_count": 30,
     "metadata": {},
     "output_type": "execute_result"
    }
   ],
   "source": [
    "recommended_items = np.array([241, 1622, 15, 857, 5823])\n",
    "recommended_items"
   ]
  },
  {
   "cell_type": "code",
   "execution_count": 31,
   "metadata": {},
   "outputs": [
    {
     "data": {
      "text/plain": [
       "array([False, False, False, False, False])"
      ]
     },
     "execution_count": 31,
     "metadata": {},
     "output_type": "execute_result"
    }
   ],
   "source": [
    "is_relevant = np.in1d(recommended_items, relevant_items, assume_unique=True)\n",
    "is_relevant"
   ]
  },
  {
   "cell_type": "markdown",
   "metadata": {},
   "source": [
    "### Precision: how many of the recommended items are relevant"
   ]
  },
  {
   "cell_type": "code",
   "execution_count": 32,
   "metadata": {},
   "outputs": [],
   "source": [
    "def precision(recommended_items, relevant_items):\n",
    "    \n",
    "    is_relevant = np.in1d(recommended_items, relevant_items, assume_unique=True)\n",
    "    \n",
    "    precision_score = np.sum(is_relevant, dtype=np.float32) / len(is_relevant)\n",
    "    \n",
    "    return precision_score"
   ]
  },
  {
   "cell_type": "markdown",
   "metadata": {},
   "source": [
    "### Recall: how many of the relevant items I was able to recommend"
   ]
  },
  {
   "cell_type": "code",
   "execution_count": 33,
   "metadata": {},
   "outputs": [],
   "source": [
    "def recall(recommended_items, relevant_items):\n",
    "    \n",
    "    is_relevant = np.in1d(recommended_items, relevant_items, assume_unique=True)\n",
    "    \n",
    "    recall_score = np.sum(is_relevant, dtype=np.float32) / relevant_items.shape[0]\n",
    "    \n",
    "    return recall_score"
   ]
  },
  {
   "cell_type": "markdown",
   "metadata": {},
   "source": [
    "### Mean Average Precision"
   ]
  },
  {
   "cell_type": "code",
   "execution_count": 34,
   "metadata": {},
   "outputs": [],
   "source": [
    "def MAP(recommended_items, relevant_items):\n",
    "   \n",
    "    is_relevant = np.in1d(recommended_items, relevant_items, assume_unique=True)\n",
    "    \n",
    "    # Cumulative sum: precision at 1, at 2, at 3 ...\n",
    "    p_at_k = is_relevant * np.cumsum(is_relevant, dtype=np.float32) / (1 + np.arange(is_relevant.shape[0]))\n",
    "    \n",
    "    map_score = np.sum(p_at_k) / np.min([relevant_items.shape[0], is_relevant.shape[0]])\n",
    "\n",
    "    return map_score"
   ]
  },
  {
   "cell_type": "markdown",
   "metadata": {},
   "source": [
    "### Now that we have the data, we can build our first recommender. We need two things:\n",
    "* a 'fit' function to train our model\n",
    "* a 'recommend' function that uses our model to recommend\n",
    "\n",
    "### Let's start with a random recommender"
   ]
  },
  {
   "cell_type": "markdown",
   "metadata": {},
   "source": [
    "#### In a random recommend we don't have anything to learn from the data"
   ]
  },
  {
   "cell_type": "code",
   "execution_count": 35,
   "metadata": {},
   "outputs": [],
   "source": [
    "class RandomRecommender(object):\n",
    "\n",
    "    def fit(self, URM_train):\n",
    "           \n",
    "        self.n_items = URM_train.shape[1]\n",
    "    \n",
    "    \n",
    "    def recommend(self, user_id, at=5):\n",
    "    \n",
    "        recommended_items = np.random.choice(self.n_items, at)\n",
    "\n",
    "        return recommended_items"
   ]
  },
  {
   "cell_type": "code",
   "execution_count": 36,
   "metadata": {},
   "outputs": [
    {
     "name": "stdout",
     "output_type": "stream",
     "text": [
      "[3737  289 1939 5937 9305]\n",
      "[ 8407 10302  7814  9879  4857]\n",
      "[8855 5626 5532 7692  193]\n",
      "[1307 6464 1479 1292 2223]\n",
      "[5933 4342 3110   19  244]\n",
      "[1550 9450  758 5483 6514]\n",
      "[ 4628  5053 10520  2884  4802]\n",
      "[   4 8747 2723 2844 5511]\n",
      "[ 8854  8970  8392  6165 10064]\n",
      "[10189  7707  3761  5543  1460]\n"
     ]
    }
   ],
   "source": [
    "randomRecommender = RandomRecommender()\n",
    "randomRecommender.fit(URM_train)\n",
    "\n",
    "for user_id in range(10):\n",
    "    print(randomRecommender.recommend(user_id, at=5))"
   ]
  },
  {
   "cell_type": "markdown",
   "metadata": {},
   "source": [
    "### Put all together in an evaluation function and let's test it!"
   ]
  },
  {
   "cell_type": "code",
   "execution_count": 37,
   "metadata": {},
   "outputs": [],
   "source": [
    "# We pass as paramether the recommender class\n",
    "\n",
    "def evaluate_algorithm(URM_test, recommender_object, at=5):\n",
    "    \n",
    "    cumulative_precision = 0.0\n",
    "    cumulative_recall = 0.0\n",
    "    cumulative_MAP = 0.0\n",
    "    \n",
    "    num_eval = 0\n",
    "\n",
    "\n",
    "    for user_id in range(URM_test.shape[0]):\n",
    "\n",
    "        relevant_items = URM_test.indices[URM_test.indptr[user_id]:URM_test.indptr[user_id+1]]\n",
    "        \n",
    "        if len(relevant_items)>0:\n",
    "            \n",
    "            recommended_items = recommender_object.recommend(user_id, at=at)\n",
    "            num_eval+=1\n",
    "\n",
    "            cumulative_precision += precision(recommended_items, relevant_items)\n",
    "            cumulative_recall += recall(recommended_items, relevant_items)\n",
    "            cumulative_MAP += MAP(recommended_items, relevant_items)\n",
    "            \n",
    "    cumulative_precision /= num_eval\n",
    "    cumulative_recall /= num_eval\n",
    "    cumulative_MAP /= num_eval\n",
    "    \n",
    "    print(\"Recommender performance is: Precision = {:.4f}, Recall = {:.4f}, MAP = {:.4f}\".format(\n",
    "        cumulative_precision, cumulative_recall, cumulative_MAP)) \n"
   ]
  },
  {
   "cell_type": "code",
   "execution_count": 38,
   "metadata": {},
   "outputs": [
    {
     "name": "stdout",
     "output_type": "stream",
     "text": [
      "Recommender performance is: Precision = 0.0029, Recall = 0.0005, MAP = 0.0014\n"
     ]
    }
   ],
   "source": [
    "evaluate_algorithm(URM_test, randomRecommender)"
   ]
  },
  {
   "cell_type": "markdown",
   "metadata": {},
   "source": [
    "### So the code works. The performance however..."
   ]
  },
  {
   "cell_type": "markdown",
   "metadata": {},
   "source": [
    "# Top Popular recommender\n",
    "\n",
    "#### We recommend to all users the most popular items, that is those with the highest number of interactions\n",
    "#### In this case our model is the item popularity"
   ]
  },
  {
   "cell_type": "code",
   "execution_count": 39,
   "metadata": {},
   "outputs": [],
   "source": [
    "class TopPopRecommender(object):\n",
    "\n",
    "    def fit(self, URM_train):\n",
    "\n",
    "        item_popularity = np.ediff1d(URM_all.tocsc().indptr)\n",
    "\n",
    "        # We are not interested in sorting the popularity value,\n",
    "        # but to order the items according to it\n",
    "        self.popular_items = np.argsort(item_popularity)\n",
    "        self.popular_items = np.flip(self.popular_items, axis = 0)\n",
    "    \n",
    "    \n",
    "    def recommend(self, user_id, at=5):\n",
    "    \n",
    "        recommended_items = self.popular_items[0:at]\n",
    "\n",
    "        return recommended_items\n",
    "\n"
   ]
  },
  {
   "cell_type": "markdown",
   "metadata": {},
   "source": [
    "### Now train and test our model"
   ]
  },
  {
   "cell_type": "code",
   "execution_count": 40,
   "metadata": {},
   "outputs": [],
   "source": [
    "topPopRecommender = TopPopRecommender()\n",
    "topPopRecommender.fit(URM_train)"
   ]
  },
  {
   "cell_type": "code",
   "execution_count": 41,
   "metadata": {},
   "outputs": [
    {
     "name": "stdout",
     "output_type": "stream",
     "text": [
      "[1008    7  139   14 1293]\n",
      "[1008    7  139   14 1293]\n",
      "[1008    7  139   14 1293]\n",
      "[1008    7  139   14 1293]\n",
      "[1008    7  139   14 1293]\n",
      "[1008    7  139   14 1293]\n",
      "[1008    7  139   14 1293]\n",
      "[1008    7  139   14 1293]\n",
      "[1008    7  139   14 1293]\n",
      "[1008    7  139   14 1293]\n"
     ]
    }
   ],
   "source": [
    "for user_id in range(10):\n",
    "    print(topPopRecommender.recommend(user_id, at=5))"
   ]
  },
  {
   "cell_type": "code",
   "execution_count": 42,
   "metadata": {},
   "outputs": [
    {
     "name": "stdout",
     "output_type": "stream",
     "text": [
      "Recommender performance is: Precision = 0.0954, Recall = 0.0305, MAP = 0.0525\n"
     ]
    }
   ],
   "source": [
    "evaluate_algorithm(URM_test, topPopRecommender, at=5)"
   ]
  },
  {
   "cell_type": "markdown",
   "metadata": {},
   "source": [
    "### That's better, but we can improve\n",
    "\n",
    "### Hint, remove items already seen by the user. We can either remove them from the recommended item list or we can set them to a score so low that it will cause them to end at the very bottom of all the available items"
   ]
  },
  {
   "cell_type": "code",
   "execution_count": 43,
   "metadata": {},
   "outputs": [],
   "source": [
    "class TopPopRecommender(object):\n",
    "\n",
    "    def fit(self, URM_train):\n",
    "        \n",
    "        self.URM_train = URM_train\n",
    "\n",
    "        item_popularity = np.ediff1d(URM_all.tocsc().indptr)\n",
    "\n",
    "        # We are not interested in sorting the popularity value,\n",
    "        # but to order the items according to it\n",
    "        self.popular_items = np.argsort(item_popularity)\n",
    "        self.popular_items = np.flip(self.popular_items, axis = 0)\n",
    "    \n",
    "    \n",
    "    def recommend(self, user_id, at=5, remove_seen=True):\n",
    "\n",
    "        if remove_seen:\n",
    "            seen_items = self.URM_train.indices[self.URM_train.indptr[user_id]:self.URM_train.indptr[user_id+1]]\n",
    "            \n",
    "            unseen_items_mask = np.in1d(self.popular_items, seen_items,\n",
    "                                        assume_unique=True, invert = True)\n",
    "\n",
    "            unseen_items = self.popular_items[unseen_items_mask]\n",
    "\n",
    "            recommended_items = unseen_items[0:at]\n",
    "\n",
    "        else:\n",
    "            recommended_items = self.popular_items[0:at]\n",
    "            \n",
    "\n",
    "        return recommended_items\n"
   ]
  },
  {
   "cell_type": "code",
   "execution_count": 44,
   "metadata": {},
   "outputs": [
    {
     "name": "stdout",
     "output_type": "stream",
     "text": [
      "[1008  139 1293   22  175]\n",
      "[1008    7  139   14 1293]\n",
      "[1008    7  139   14 1293]\n",
      "[1008    7  139   14 1293]\n",
      "[1008    7   14 1293   22]\n",
      "[1008    7  139   14 1293]\n",
      "[1008    7   14 1293   22]\n",
      "[1008    7 1293   22  175]\n",
      "[1008    7  139   14 1293]\n",
      "[ 139   14 1293   22   19]\n"
     ]
    }
   ],
   "source": [
    "topPopRecommender_removeSeen = TopPopRecommender()\n",
    "topPopRecommender_removeSeen.fit(URM_train)\n",
    "\n",
    "for user_id in range(10):\n",
    "    print(topPopRecommender_removeSeen.recommend(user_id, at=5))"
   ]
  },
  {
   "cell_type": "code",
   "execution_count": 45,
   "metadata": {},
   "outputs": [
    {
     "name": "stdout",
     "output_type": "stream",
     "text": [
      "Recommender performance is: Precision = 0.1985, Recall = 0.0531, MAP = 0.1471\n"
     ]
    }
   ],
   "source": [
    "evaluate_algorithm(URM_test, topPopRecommender_removeSeen)"
   ]
  },
  {
   "cell_type": "markdown",
   "metadata": {},
   "source": [
    "#### Simple but effective. Always remove seen items if your purpose is to recommend \"new\" ones"
   ]
  },
  {
   "cell_type": "markdown",
   "metadata": {},
   "source": [
    "# Global effects recommender\n",
    "\n",
    "#### We recommend to all users the highest rated items\n",
    "\n",
    "#### First we compute the average of all ratings, or global average"
   ]
  },
  {
   "cell_type": "code",
   "execution_count": 46,
   "metadata": {},
   "outputs": [
    {
     "name": "stdout",
     "output_type": "stream",
     "text": [
      "The global average is 3.51\n"
     ]
    }
   ],
   "source": [
    "globalAverage = np.mean(URM_train.data)\n",
    "\n",
    "print(\"The global average is {:.2f}\".format(globalAverage))"
   ]
  },
  {
   "cell_type": "markdown",
   "metadata": {},
   "source": [
    "#### We subtract the bias to all ratings"
   ]
  },
  {
   "cell_type": "code",
   "execution_count": 47,
   "metadata": {},
   "outputs": [
    {
     "name": "stdout",
     "output_type": "stream",
     "text": [
      "[1.48755422 1.48755422 1.48755422 1.48755422 1.48755422 1.48755422\n",
      " 1.48755422 1.48755422 1.48755422 1.48755422]\n"
     ]
    }
   ],
   "source": [
    "URM_train_unbiased = URM_train.copy()\n",
    "\n",
    "URM_train_unbiased.data -= globalAverage\n",
    "\n",
    "print(URM_train_unbiased.data[0:10])"
   ]
  },
  {
   "cell_type": "markdown",
   "metadata": {},
   "source": [
    "#### Then we compute the average rating for each item, or itemBias"
   ]
  },
  {
   "cell_type": "code",
   "execution_count": 48,
   "metadata": {},
   "outputs": [
    {
     "data": {
      "text/plain": [
       "matrix([[-1.76714577e-02, -6.49562884e-02, -1.19187065e-01, ...,\n",
       "         -7.51154247e-06, -2.16440909e-05,  6.97722055e-06]])"
      ]
     },
     "execution_count": 48,
     "metadata": {},
     "output_type": "execute_result"
    }
   ],
   "source": [
    "item_mean_rating = URM_train_unbiased.mean(axis=0)\n",
    "item_mean_rating"
   ]
  },
  {
   "cell_type": "code",
   "execution_count": 49,
   "metadata": {},
   "outputs": [
    {
     "data": {
      "image/png": "[encoded data removed]",
      "text/plain": [
       "<Figure size 432x288 with 1 Axes>"
      ]
     },
     "metadata": {
      "needs_background": "light"
     },
     "output_type": "display_data"
    }
   ],
   "source": [
    "item_mean_rating = np.array(item_mean_rating).squeeze()\n",
    "item_mean_rating = np.sort(item_mean_rating[item_mean_rating!=0])\n",
    "\n",
    "pyplot.plot(item_mean_rating, 'ro')\n",
    "pyplot.ylabel('Item Bias')\n",
    "pyplot.xlabel('Sorted Item')\n",
    "pyplot.show()"
   ]
  },
  {
   "cell_type": "markdown",
   "metadata": {},
   "source": [
    "#### And the average rating for each user, or userBias"
   ]
  },
  {
   "cell_type": "code",
   "execution_count": 50,
   "metadata": {},
   "outputs": [
    {
     "data": {
      "text/plain": [
       "matrix([[ 0.00250805],\n",
       "        [-0.00048932],\n",
       "        [ 0.00132205],\n",
       "        ...,\n",
       "        [ 0.00455284],\n",
       "        [ 0.00098605],\n",
       "        [-0.00178299]])"
      ]
     },
     "execution_count": 50,
     "metadata": {},
     "output_type": "execute_result"
    }
   ],
   "source": [
    "user_mean_rating = URM_train_unbiased.mean(axis=1)\n",
    "user_mean_rating"
   ]
  },
  {
   "cell_type": "code",
   "execution_count": 51,
   "metadata": {},
   "outputs": [
    {
     "data": {
      "image/png": "[encoded data removed]",
      "text/plain": [
       "<Figure size 432x288 with 1 Axes>"
      ]
     },
     "metadata": {
      "needs_background": "light"
     },
     "output_type": "display_data"
    }
   ],
   "source": [
    "user_mean_rating = np.array(user_mean_rating).squeeze()\n",
    "user_mean_rating = np.sort(user_mean_rating[user_mean_rating!=0.0])\n",
    "\n",
    "pyplot.plot(user_mean_rating, 'ro')\n",
    "pyplot.ylabel('User Bias')\n",
    "pyplot.xlabel('Sorted User')\n",
    "pyplot.show()"
   ]
  },
  {
   "cell_type": "markdown",
   "metadata": {},
   "source": [
    "#### Now we can sort the items by their itemBias and use the same recommendation principle as in TopPop"
   ]
  },
  {
   "cell_type": "code",
   "execution_count": 52,
   "metadata": {},
   "outputs": [],
   "source": [
    "class GlobalEffectsRecommender(object):\n",
    "\n",
    "    def fit(self, URM_train):\n",
    "        \n",
    "        self.URM_train = URM_train\n",
    "\n",
    "        globalAverage = np.mean(URM_train.data)\n",
    "\n",
    "        URM_train_unbiased = URM_train.copy()\n",
    "        URM_train_unbiased.data -= globalAverage\n",
    "\n",
    "        item_mean_rating = URM_train_unbiased.mean(axis=0)\n",
    "        item_mean_rating = np.array(item_mean_rating).squeeze()\n",
    "\n",
    "        self.bestRatedItems = np.argsort(item_mean_rating)\n",
    "        self.bestRatedItems = np.flip(self.bestRatedItems, axis = 0)\n",
    "\n",
    "        \n",
    "    \n",
    "    def recommend(self, user_id, at=5, remove_seen=True):\n",
    "\n",
    "        if remove_seen:\n",
    "            seen_items = self.URM_train.indices[self.URM_train.indptr[user_id]:self.URM_train.indptr[user_id+1]]\n",
    "            \n",
    "            unseen_items_mask = np.in1d(self.bestRatedItems, seen_items,\n",
    "                                        assume_unique=True, invert = True)\n",
    "\n",
    "            unseen_items = self.bestRatedItems[unseen_items_mask]\n",
    "\n",
    "            recommended_items = unseen_items[0:at]\n",
    "\n",
    "        else:\n",
    "            recommended_items = self.bestRatedItems[0:at]\n",
    "            \n",
    "\n",
    "        return recommended_items\n",
    "\n"
   ]
  },
  {
   "cell_type": "code",
   "execution_count": 53,
   "metadata": {},
   "outputs": [
    {
     "name": "stdout",
     "output_type": "stream",
     "text": [
      "Recommender performance is: Precision = 0.1684, Recall = 0.0386, MAP = 0.1219\n"
     ]
    }
   ],
   "source": [
    "globalEffectsRecommender = GlobalEffectsRecommender()\n",
    "globalEffectsRecommender.fit(URM_train)\n",
    "\n",
    "evaluate_algorithm(URM_test, globalEffectsRecommender)"
   ]
  },
  {
   "cell_type": "markdown",
   "metadata": {},
   "source": [
    "#### GlobalEffects has a worse result than TopPop even though we are using \"more\" information"
   ]
  },
  {
   "cell_type": "markdown",
   "metadata": {},
   "source": [
    "### Now let's try to combine User bias an item bias"
   ]
  },
  {
   "cell_type": "code",
   "execution_count": 54,
   "metadata": {},
   "outputs": [],
   "source": [
    "class GlobalEffectsRecommender(object):\n",
    "\n",
    "    def fit(self, URM_train):\n",
    "        \n",
    "        self.URM_train = URM_train\n",
    "\n",
    "        globalAverage = np.mean(URM_train.data)\n",
    "\n",
    "        URM_train_unbiased = URM_train.copy()\n",
    "        URM_train_unbiased.data -= globalAverage\n",
    "        \n",
    "        # User Bias\n",
    "        user_mean_rating = URM_train_unbiased.mean(axis=1)\n",
    "        user_mean_rating = np.array(user_mean_rating).squeeze()\n",
    "        \n",
    "        # In order to apply the user bias we have to change the rating value \n",
    "        # in the URM_train_unbiased inner data structures\n",
    "        # If we were to write:\n",
    "        # URM_train_unbiased[user_id].data -= user_mean_rating[user_id]\n",
    "        # we would change the value of a new matrix with no effect on the original data structure\n",
    "        for user_id in range(len(user_mean_rating)):\n",
    "            start_position = URM_train_unbiased.indptr[user_id]\n",
    "            end_position = URM_train_unbiased.indptr[user_id+1]\n",
    "            \n",
    "            URM_train_unbiased.data[start_position:end_position] -= user_mean_rating[user_id]\n",
    "\n",
    "        # Item Bias\n",
    "        item_mean_rating = URM_train_unbiased.mean(axis=0)\n",
    "        item_mean_rating = np.array(item_mean_rating).squeeze()\n",
    "\n",
    "        self.bestRatedItems = np.argsort(item_mean_rating)\n",
    "        self.bestRatedItems = np.flip(self.bestRatedItems, axis = 0)\n",
    "\n",
    "        \n",
    "    \n",
    "    def recommend(self, user_id, at=5, remove_seen=True):\n",
    "\n",
    "        if remove_seen:\n",
    "\n",
    "            seen_items = self.URM_train.indices[self.URM_train.indptr[user_id]:self.URM_train.indptr[user_id+1]]\n",
    "            \n",
    "            unseen_items_mask = np.in1d(self.bestRatedItems, seen_items,\n",
    "                                        assume_unique=True, invert = True)\n",
    "\n",
    "            unseen_items = self.bestRatedItems[unseen_items_mask]\n",
    "\n",
    "            recommended_items = unseen_items[0:at]\n",
    "\n",
    "\n",
    "        else:\n",
    "            recommended_items = self.bestRatedItems[0:at]\n",
    "            \n",
    "\n",
    "        return recommended_items\n"
   ]
  },
  {
   "cell_type": "code",
   "execution_count": 55,
   "metadata": {},
   "outputs": [
    {
     "name": "stdout",
     "output_type": "stream",
     "text": [
      "Recommender performance is: Precision = 0.1683, Recall = 0.0385, MAP = 0.1218\n"
     ]
    }
   ],
   "source": [
    "globalEffectsRecommender = GlobalEffectsRecommender()\n",
    "globalEffectsRecommender.fit(URM_train)\n",
    "\n",
    "evaluate_algorithm(URM_test, globalEffectsRecommender)"
   ]
  },
  {
   "cell_type": "markdown",
   "metadata": {},
   "source": [
    "#### The result is identical. User bias is essential in case of rating prediction but not relevant in case of TopK recommendations."
   ]
  },
  {
   "cell_type": "code",
   "execution_count": 57,
   "metadata": {},
   "outputs": [
    {
     "name": "stdout",
     "output_type": "stream",
     "text": [
      "Removing ratings <= 0\n",
      "Recommender performance is: Precision = 0.1985, Recall = 0.0531, MAP = 0.1471\n",
      "Removing ratings <= 1\n",
      "Recommender performance is: Precision = 0.1953, Recall = 0.0526, MAP = 0.1432\n",
      "Removing ratings <= 2\n",
      "Recommender performance is: Precision = 0.1884, Recall = 0.0516, MAP = 0.1357\n",
      "Removing ratings <= 3\n",
      "Recommender performance is: Precision = 0.1614, Recall = 0.0459, MAP = 0.1083\n",
      "Removing ratings <= 4\n",
      "Recommender performance is: Precision = 0.1237, Recall = 0.0381, MAP = 0.0744\n"
     ]
    }
   ],
   "source": [
    "for rating_threshold in range(0, 5):\n",
    "    \n",
    "    print(\"Removing ratings <= {}\".format(rating_threshold))\n",
    "    \n",
    "    URM_train_filtered = URM_train.copy()\n",
    "    URM_train_filtered.data[URM_train.data <= rating_threshold] = 0\n",
    "    \n",
    "    URM_train_filtered.eliminate_zeros()\n",
    "    \n",
    "    topPopRecommender = TopPopRecommender()\n",
    "    topPopRecommender.fit(URM_train_filtered)\n",
    "    \n",
    "    evaluate_algorithm(URM_test, topPopRecommender)"
   ]
  },
  {
   "cell_type": "markdown",
   "metadata": {},
   "source": [
    "## Question:\n",
    "\n",
    "#### Why is GlobalEffect performing worse than TopPop even if we are taking into account more information about the interaction?\n",
    "\n",
    "#### Why TopPop getting worse if we remove interactions with low rating value?\n",
    ".\n",
    "\n",
    ".\n",
    "\n",
    ".\n",
    "\n",
    ".\n",
    "\n",
    ".\n",
    "\n",
    ".\n",
    "\n",
    ".\n",
    "\n",
    ".\n",
    "\n",
    "### Sometimes ratings are not really more informative than interactions, depends on their quality"
   ]
  },
  {
   "cell_type": "code",
   "execution_count": null,
   "metadata": {},
   "outputs": [],
   "source": []
  }
 ],
 "metadata": {
  "kernelspec": {
   "display_name": "Python 3",
   "language": "python",
   "name": "python3"
  },
  "language_info": {
   "codemirror_mode": {
    "name": "ipython",
    "version": 3
   },
   "file_extension": ".py",
   "mimetype": "text/x-python",
   "name": "python",
   "nbconvert_exporter": "python",
   "pygments_lexer": "ipython3",
   "version": "3.8.8"
  }
 },
 "nbformat": 4,
 "nbformat_minor": 1
}
