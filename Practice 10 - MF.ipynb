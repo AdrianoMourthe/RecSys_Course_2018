{
 "cells": [
  {
   "cell_type": "markdown",
   "metadata": {
    "slideshow": {
     "slide_type": "slide"
    }
   },
   "source": [
    "# Recommender Systems 2020/21\n",
    "\n",
    "## Practice session on MF recommenders.\n",
    "\n",
    "### Outline\n",
    "* MF Recommenders\n",
    "* BPR-MF\n",
    "* PureSVD\n",
    "* Comparison of MF recommenders\n"
   ]
  },
  {
   "cell_type": "markdown",
   "metadata": {
    "slideshow": {
     "slide_type": "slide"
    }
   },
   "source": [
    "## Administrative code\n",
    "\n",
    "Download the dataset and generate _TRAIN_ and _TEST_ splits"
   ]
  },
  {
   "cell_type": "code",
   "execution_count": 1,
   "metadata": {
    "slideshow": {
     "slide_type": "subslide"
    }
   },
   "outputs": [
    {
     "name": "stdout",
     "output_type": "stream",
     "text": [
      "Movielens10M: Verifying data consistency...\n",
      "Movielens10M: Verifying data consistency... Passed!\n",
      "DataReader: current dataset is: <class 'Data_manager.Dataset.Dataset'>\n",
      "\tNumber of items: 10681\n",
      "\tNumber of users: 69878\n",
      "\tNumber of interactions in URM_all: 10000054\n",
      "\tValue range in URM_all: 0.50-5.00\n",
      "\tInteraction density: 1.34E-02\n",
      "\tInteractions per user:\n",
      "\t\t Min: 2.00E+01\n",
      "\t\t Avg: 1.43E+02\n",
      "\t\t Max: 7.36E+03\n",
      "\tInteractions per item:\n",
      "\t\t Min: 0.00E+00\n",
      "\t\t Avg: 9.36E+02\n",
      "\t\t Max: 3.49E+04\n",
      "\tGini Index: 0.57\n",
      "\n",
      "\tICM name: ICM_genres, Value range: 1.00 / 1.00, Num features: 20, feature occurrences: 21564, density 1.01E-01\n",
      "\tICM name: ICM_tags, Value range: 1.00 / 69.00, Num features: 10217, feature occurrences: 108563, density 9.95E-04\n",
      "\tICM name: ICM_all, Value range: 1.00 / 69.00, Num features: 10237, feature occurrences: 130127, density 1.19E-03\n",
      "\n",
      "\n"
     ]
    }
   ],
   "source": [
    "from Notebooks_utils.data_splitter import train_test_holdout\n",
    "from Data_manager.Movielens.Movielens10MReader import Movielens10MReader\n",
    "\n",
    "data_reader = Movielens10MReader()\n",
    "datasets_dict = data_reader.load_data()\n"
   ]
  },
  {
   "cell_type": "code",
   "execution_count": 2,
   "metadata": {
    "slideshow": {
     "slide_type": "subslide"
    }
   },
   "outputs": [
    {
     "name": "stdout",
     "output_type": "stream",
     "text": [
      "  (0, 0)\t5.0\n",
      "  (0, 1)\t5.0\n",
      "  (0, 2)\t5.0\n",
      "  (0, 3)\t5.0\n",
      "  (0, 4)\t5.0\n",
      "  (0, 5)\t5.0\n",
      "  (0, 6)\t5.0\n",
      "  (0, 7)\t5.0\n",
      "  (0, 8)\t5.0\n",
      "  (0, 9)\t5.0\n",
      "  (0, 10)\t5.0\n",
      "  (0, 11)\t5.0\n",
      "  (0, 12)\t5.0\n",
      "  (0, 13)\t5.0\n",
      "  (0, 14)\t5.0\n",
      "  (0, 15)\t5.0\n",
      "  (0, 16)\t5.0\n",
      "  (0, 17)\t5.0\n",
      "  (0, 18)\t5.0\n",
      "  (0, 19)\t5.0\n",
      "  (0, 20)\t5.0\n",
      "  (0, 21)\t5.0\n",
      "  (1, 16)\t3.0\n",
      "  (1, 22)\t5.0\n",
      "  (1, 23)\t3.0\n",
      "  :\t:\n",
      "  (69877, 463)\t3.0\n",
      "  (69877, 467)\t1.0\n",
      "  (69877, 468)\t4.0\n",
      "  (69877, 475)\t2.0\n",
      "  (69877, 481)\t3.0\n",
      "  (69877, 486)\t4.0\n",
      "  (69877, 505)\t3.0\n",
      "  (69877, 518)\t1.0\n",
      "  (69877, 537)\t5.0\n",
      "  (69877, 541)\t2.0\n",
      "  (69877, 1081)\t2.0\n",
      "  (69877, 1302)\t4.0\n",
      "  (69877, 1322)\t2.0\n",
      "  (69877, 1436)\t4.0\n",
      "  (69877, 1609)\t1.0\n",
      "  (69877, 1646)\t3.0\n",
      "  (69877, 1660)\t2.0\n",
      "  (69877, 1671)\t2.0\n",
      "  (69877, 2001)\t4.0\n",
      "  (69877, 2065)\t1.0\n",
      "  (69877, 2941)\t1.0\n",
      "  (69877, 3066)\t1.0\n",
      "  (69877, 3386)\t3.0\n",
      "  (69877, 3448)\t1.0\n",
      "  (69877, 5330)\t1.0\n"
     ]
    }
   ],
   "source": [
    "URM_all = datasets_dict.AVAILABLE_URM[\"URM_all\"]\n",
    "print(URM_all)\n",
    "\n",
    "URM_train, URM_test = train_test_holdout(URM_all, train_perc = 0.8)"
   ]
  },
  {
   "cell_type": "markdown",
   "metadata": {
    "slideshow": {
     "slide_type": "slide"
    }
   },
   "source": [
    "## MF Computing prediction\n",
    "\n",
    "<img src=\"https://miro.medium.com/max/988/1*tiF4e4Y-wVH732_6TbJVmQ.png\" alt=\"Latent Factors\" style=\"margin: 0 auto;\"/>\n",
    "\n",
    "In a MF model you have two matrices, let's call them $U$ and $V$. \n",
    "\n",
    "In $U$ you have one row for every user (i.e., users are in the rows). In $V$ you have one column for every item (i.e., items are in the columns). The other dimension (columns for $U$ and rows for $V$) is called latent factors.\n",
    "\n"
   ]
  },
  {
   "cell_type": "markdown",
   "metadata": {
    "slideshow": {
     "slide_type": "subslide"
    }
   },
   "source": [
    "<img src=\"https://miro.medium.com/max/988/1*tiF4e4Y-wVH732_6TbJVmQ.png\" alt=\"Latent Factors\" style=\"margin: 0 auto;\"/>\n",
    "\n",
    "\n",
    "The number of latent factors is variable (a hyperparameter), if we represent the number of item factors by $d$, then $U$ is an $m \\times d$ matrix and $V$ is a $d \\times n$ matrix. Lastly, $U$ is called the user factors matrix and $V$ is the item factors matrix."
   ]
  },
  {
   "cell_type": "code",
   "execution_count": 3,
   "metadata": {
    "slideshow": {
     "slide_type": "subslide"
    }
   },
   "outputs": [
    {
     "data": {
      "text/plain": [
       "(10, 69878, 10681)"
      ]
     },
     "execution_count": 3,
     "metadata": {},
     "output_type": "execute_result"
    }
   ],
   "source": [
    "num_factors = 10\n",
    "num_users, num_items = URM_train.shape\n",
    "\n",
    "num_factors, num_users, num_items"
   ]
  },
  {
   "cell_type": "code",
   "execution_count": 4,
   "metadata": {
    "slideshow": {
     "slide_type": "fragment"
    }
   },
   "outputs": [],
   "source": [
    "import numpy as np\n",
    "\n",
    "# user_factors is our U, U is n_users x num_factors\n",
    "user_factors = np.random.random((num_users, num_factors))\n",
    "\n",
    "# item_factors is our V\n",
    "item_factors = np.random.random((num_items, num_factors))"
   ]
  },
  {
   "cell_type": "code",
   "execution_count": 5,
   "metadata": {
    "slideshow": {
     "slide_type": "subslide"
    }
   },
   "outputs": [
    {
     "data": {
      "text/plain": [
       "(array([[0.0076791 , 0.36815528, 0.19459055, ..., 0.26655895, 0.70607547,\n",
       "         0.54622866],\n",
       "        [0.79626776, 0.43948424, 0.83515746, ..., 0.48680788, 0.29445689,\n",
       "         0.06279407],\n",
       "        [0.47966866, 0.90403288, 0.1169681 , ..., 0.74833846, 0.05505241,\n",
       "         0.4598629 ],\n",
       "        ...,\n",
       "        [0.36745153, 0.18683373, 0.4479162 , ..., 0.58374236, 0.38122042,\n",
       "         0.35890974],\n",
       "        [0.49916391, 0.30202127, 0.56535901, ..., 0.70060285, 0.87519669,\n",
       "         0.51389928],\n",
       "        [0.84128914, 0.90431331, 0.50443578, ..., 0.65738922, 0.15549214,\n",
       "         0.02087438]]),\n",
       " (69878, 10))"
      ]
     },
     "execution_count": 5,
     "metadata": {},
     "output_type": "execute_result"
    }
   ],
   "source": [
    "user_factors, user_factors.shape"
   ]
  },
  {
   "cell_type": "code",
   "execution_count": 6,
   "metadata": {
    "slideshow": {
     "slide_type": "subslide"
    }
   },
   "outputs": [
    {
     "data": {
      "text/plain": [
       "(array([[0.20103938, 0.43598308, 0.95719097, ..., 0.9855636 , 0.69505753,\n",
       "         0.11804892],\n",
       "        [0.30664207, 0.1069673 , 0.41647612, ..., 0.93946581, 0.37705487,\n",
       "         0.54539171],\n",
       "        [0.36111829, 0.26307   , 0.80266772, ..., 0.50735798, 0.70750426,\n",
       "         0.79217141],\n",
       "        ...,\n",
       "        [0.12076519, 0.51565327, 0.46658241, ..., 0.11949598, 0.92544233,\n",
       "         0.02684644],\n",
       "        [0.78376125, 0.80270972, 0.17067903, ..., 0.51489877, 0.96978348,\n",
       "         0.3415484 ],\n",
       "        [0.2793491 , 0.9887887 , 0.8229592 , ..., 0.31492957, 0.65463506,\n",
       "         0.38982586]]),\n",
       " (10681, 10))"
      ]
     },
     "execution_count": 6,
     "metadata": {},
     "output_type": "execute_result"
    }
   ],
   "source": [
    "item_factors, item_factors.shape"
   ]
  },
  {
   "cell_type": "markdown",
   "metadata": {
    "slideshow": {
     "slide_type": "subslide"
    }
   },
   "source": [
    "To compute the prediction we have to muliply the user factors to the item factors\n",
    "\n",
    "$$\\hat{x}_{ui} = \\langle w_u,h_i \\rangle = \\sum_{f=1}^k w_{uf} \\cdot h_{if}$$\n",
    "\n"
   ]
  },
  {
   "cell_type": "markdown",
   "metadata": {
    "slideshow": {
     "slide_type": "slide"
    }
   },
   "source": [
    "### Zooming-in in an specific user.\n",
    "\n",
    "Let's suppose Bob is user 42.\n",
    "\n",
    "<img src=\"images/bob_example.jpeg\" style=\"margin: 0 auto;width: 250px;\" alt=\"Bob Image\">\n",
    "\n",
    "And that we're interested into the movie Toy Story (with id 15).\n",
    "\n",
    "<img src=\"images/toy_story_poster.png\" style=\"margin: 0 auto;width: 250px;\" alt=\"Toy Story Poster Image\">\n",
    "\n",
    "In our specific case, let's see what is the rating for user $u = 42$ and item $i = 15$"
   ]
  },
  {
   "cell_type": "code",
   "execution_count": 7,
   "metadata": {
    "slideshow": {
     "slide_type": "subslide"
    }
   },
   "outputs": [
    {
     "name": "stdout",
     "output_type": "stream",
     "text": [
      "Prediction is 1.99\n"
     ]
    }
   ],
   "source": [
    "item_index = 15\n",
    "user_index = 42\n",
    "\n",
    "prediction = np.dot(user_factors[user_index,:], item_factors[item_index,:])\n",
    "\n",
    "print(\"Prediction is {:.2f}\".format(prediction))"
   ]
  },
  {
   "cell_type": "markdown",
   "metadata": {
    "slideshow": {
     "slide_type": "slide"
    }
   },
   "source": [
    "## MF BPR models"
   ]
  },
  {
   "cell_type": "markdown",
   "metadata": {
    "slideshow": {
     "slide_type": "subslide"
    }
   },
   "source": [
    "### Recap on BPR\n",
    "S.Rendle et al. BPR: Bayesian Personalized Ranking from Implicit Feedback. UAI2009\n",
    "\n",
    "The usual approach for item recommenders is to predict a personalized score $\\hat{x}_{ui}$ for an item that reflects the preference of the user for the item. Then the items are ranked by sorting them according to that score.\n",
    "\n",
    "Machine learning approaches are tipically fit by using observed items as a positive sample and missing ones for the negative class. A perfect model would thus be useless, as it would classify as negative (non-interesting) all the items that were non-observed at training time. The only reason why such methods work is regularization.\n",
    "\n",
    "BPR use a different approach. The training dataset is composed by triplets $(u,i,j)$ representing that user u is assumed to prefer i over j. For an implicit dataset this means that u observed i but not j:\n",
    "$$D_S := \\{(u,i,j) \\mid i \\in I_u^+ \\wedge j \\in I \\setminus I_u^+\\}$$\n"
   ]
  },
  {
   "cell_type": "markdown",
   "metadata": {
    "slideshow": {
     "slide_type": "subslide"
    }
   },
   "source": [
    "### BPR-OPT\n",
    "A machine learning model can be represented by a parameter vector $\\Theta$ which is found at fitting time. BPR wants to find the parameter vector that is most probable given the desired, but latent, preference structure $>_u$:\n",
    "$$p(\\Theta \\mid >_u) \\propto p(>_u \\mid \\Theta)p(\\Theta) $$\n",
    "$$\\prod_{u\\in U} p(>_u \\mid \\Theta) = \\dots = \\prod_{(u,i,j) \\in D_S} p(i >_u j \\mid \\Theta) $$\n",
    "\n",
    "The probability that a user really prefers item $i$ to item $j$ is defined as:\n",
    "$$ p(i >_u j \\mid \\Theta) := \\sigma(\\hat{x}_{uij}(\\Theta)) $$\n",
    "Where $\\sigma$ represent the logistic sigmoid and $\\hat{x}_{uij}(\\Theta)$ is an arbitrary real-valued function of $\\Theta$ (the output of your arbitrary model).\n"
   ]
  },
  {
   "cell_type": "markdown",
   "metadata": {
    "slideshow": {
     "slide_type": "subslide"
    }
   },
   "source": [
    "\n",
    "To complete the Bayesian setting, we define a prior density for the parameters:\n",
    "$$p(\\Theta) \\sim N(0, \\Sigma_\\Theta)$$\n",
    "And we can now formulate the maximum posterior estimator:\n",
    "$$BPR-OPT := \\log p(\\Theta \\mid >_u) $$\n",
    "$$ = \\log p(>_u \\mid \\Theta) p(\\Theta) $$\n",
    "$$ = \\log \\prod_{(u,i,j) \\in D_S} \\sigma(\\hat{x}_{uij})p(\\Theta) $$\n",
    "$$ = \\sum_{(u,i,j) \\in D_S} \\log \\sigma(\\hat{x}_{uij}) + \\log p(\\Theta) $$\n",
    "$$ = \\sum_{(u,i,j) \\in D_S} \\log \\sigma(\\hat{x}_{uij}) - \\lambda_\\Theta ||\\Theta||^2 $$\n",
    "\n",
    "Where $\\lambda_\\Theta$ are model specific regularization parameters.\n",
    "\n"
   ]
  },
  {
   "cell_type": "markdown",
   "metadata": {
    "slideshow": {
     "slide_type": "subslide"
    }
   },
   "source": [
    "### BPR learning algorithm\n",
    "Once obtained the log-likelihood, we need to maximize it in order to find our obtimal $\\Theta$. As the criterion is differentiable, gradient descent algorithms are an obvious choiche for maximization.\n",
    "\n",
    "Gradient descent comes in many fashions, you can find an overview on this thesis https://www.politesi.polimi.it/bitstream/10589/133864/3/tesi.pdf on pages 18-19-20. A nice post about momentum is available here https://distill.pub/2017/momentum/\n",
    "\n",
    "The basic version of gradient descent consists in evaluating the gradient using all the available samples and then perform a single update. The problem with this is, in our case, that our training dataset is very skewed. Suppose an item $i$ is very popular. Then we have many terms of the form $\\hat{x}_{uij}$ in the loss because for many users u the item $i$ is compared against all negative items $j$.\n"
   ]
  },
  {
   "cell_type": "markdown",
   "metadata": {
    "slideshow": {
     "slide_type": "subslide"
    }
   },
   "source": [
    "The other popular approach is stochastic gradient descent, where for each training sample an update is performed. This is a better approach, but the order in which the samples are traversed is crucial. To solve this issue BPR uses a stochastic gradient descent algorithm that choses the triples randomly.\n",
    "\n",
    "The gradient of BPR-OPT with respect to the model parameters is: \n",
    "$$\\frac{\\partial BPR-OPT}{\\partial \\Theta} = \\sum_{(u,i,j) \\in D_S} \\frac{\\partial}{\\partial \\Theta} \\log \\sigma (\\hat{x}_{uij}) - \\lambda_\\Theta \\frac{\\partial}{\\partial\\Theta} || \\Theta ||^2$$\n",
    "$$ =  \\sum_{(u,i,j) \\in D_S} \\frac{-e^{-\\hat{x}_{uij}}}{1+e^{-\\hat{x}_{uij}}} \\frac{\\partial}{\\partial \\Theta}\\hat{x}_{uij} - \\lambda_\\Theta \\Theta $$\n",
    "\n"
   ]
  },
  {
   "cell_type": "markdown",
   "metadata": {
    "slideshow": {
     "slide_type": "subslide"
    }
   },
   "source": [
    "### BPR-MF\n",
    "\n",
    "In order to practically apply this learning schema to an existing algorithm, we first split the real valued preference term: $\\hat{x}_{uij} := \\hat{x}_{ui} − \\hat{x}_{uj}$. And now we can apply any standard collaborative filtering model that predicts $\\hat{x}_{ui}$.\n",
    "\n",
    "The problem of predicting $\\hat{x}_{ui}$ can be seen as the task of estimating a matrix $X:U×I$. With matrix factorization the target matrix $X$ is approximated by the matrix product of two low-rank matrices $W:|U|\\times k$ and $H:|I|\\times k$:\n",
    "$$X := WH^t$$\n",
    "The prediction formula can also be written as:\n",
    "$$\\hat{x}_{ui} = \\langle w_u,h_i \\rangle = \\sum_{f=1}^k w_{uf} \\cdot h_{if}$$\n",
    "Besides the dot product ⟨⋅,⋅⟩, in general any kernel can be used.\n",
    "\n"
   ]
  },
  {
   "cell_type": "markdown",
   "metadata": {
    "slideshow": {
     "slide_type": "subslide"
    }
   },
   "source": [
    "We can now specify the derivatives:\n",
    "$$ \\frac{\\partial}{\\partial \\theta} \\hat{x}_{uij} = \\begin{cases}\n",
    "(h_{if} - h_{jf}) \\text{ if } \\theta=w_{uf}, \\\\\n",
    "w_{uf} \\text{ if } \\theta = h_{if}, \\\\\n",
    "-w_{uf} \\text{ if } \\theta = h_{jf}, \\\\\n",
    "0 \\text{ else }\n",
    "\\end{cases} $$\n",
    "\n",
    "Which basically means: user $u$ prefer $i$ over $j$, let's do the following:\n",
    "- Increase the relevance (according to $u$) of features belonging to $i$ but not to $j$ and vice-versa\n",
    "- Increase the relevance of features assigned to $i$\n",
    "- Decrease the relevance of features assigned to $j$\n",
    "\n",
    "\n"
   ]
  },
  {
   "cell_type": "markdown",
   "metadata": {
    "slideshow": {
     "slide_type": "slide"
    }
   },
   "source": [
    "## Train a MF MSE model\n",
    "\n",
    "### Use SGD as we saw for SLIM\n",
    "\n",
    "Keeping the same idea for $u = 42$ and $i = 15$, let's suppose that the real rating $r_{u,i} = 5$"
   ]
  },
  {
   "cell_type": "code",
   "execution_count": 8,
   "metadata": {
    "slideshow": {
     "slide_type": "subslide"
    }
   },
   "outputs": [
    {
     "name": "stdout",
     "output_type": "stream",
     "text": [
      "* Prediction error is 3.01\n",
      "* Real value (r_u,i) is 5\n",
      "* Prediction (rhat_u,i) is 1.99\n"
     ]
    }
   ],
   "source": [
    "test_data = 5\n",
    "\n",
    "prediction = np.dot(user_factors[user_index,:], item_factors[item_index,:])\n",
    "gradient = test_data - prediction\n",
    "\n",
    "print(f\"* Prediction error is {gradient:.2f}\")\n",
    "print(f\"* Real value (r_u,i) is {test_data}\")\n",
    "print(f\"* Prediction (rhat_u,i) is {prediction:.2f}\")"
   ]
  },
  {
   "cell_type": "markdown",
   "metadata": {
    "slideshow": {
     "slide_type": "fragment"
    }
   },
   "source": [
    "Remember, for SGD we have a regularization parameter $\\lambda_\\Theta$ and the learning rate hyperparameter $lr$ "
   ]
  },
  {
   "cell_type": "code",
   "execution_count": 9,
   "metadata": {
    "slideshow": {
     "slide_type": "-"
    }
   },
   "outputs": [],
   "source": [
    "learning_rate = 1e-2\n",
    "regularization = 1e-3\n",
    "\n",
    "# Copy original value to avoid messing up the updates\n",
    "H_i = item_factors[item_index,:]\n",
    "W_u = user_factors[user_index,:]\n",
    "\n",
    "user_factors[user_index,:] += learning_rate * (gradient * H_i - regularization * W_u)\n",
    "item_factors[item_index,:] += learning_rate * (gradient * W_u - regularization * H_i)"
   ]
  },
  {
   "cell_type": "markdown",
   "metadata": {
    "slideshow": {
     "slide_type": "fragment"
    }
   },
   "source": [
    "Now that we updated the user and item factors, let's see the new prediction"
   ]
  },
  {
   "cell_type": "code",
   "execution_count": 10,
   "metadata": {
    "slideshow": {
     "slide_type": "-"
    }
   },
   "outputs": [
    {
     "name": "stdout",
     "output_type": "stream",
     "text": [
      "* Prediction error is 2.86\n",
      "* Real value (r_u,i) is 5\n",
      "* Prediction (rhat_u,i) is 2.14\n"
     ]
    }
   ],
   "source": [
    "new_prediction = np.dot(user_factors[user_index,:], item_factors[item_index,:])\n",
    "new_gradient = test_data - new_prediction\n",
    " \n",
    "print(f\"* Prediction error is {new_gradient:.2f}\")\n",
    "print(f\"* Real value (r_u,i) is {test_data}\")\n",
    "print(f\"* Prediction (rhat_u,i) is {new_prediction:.2f}\")"
   ]
  },
  {
   "cell_type": "markdown",
   "metadata": {
    "slideshow": {
     "slide_type": "fragment"
    }
   },
   "source": [
    "Just for comparison"
   ]
  },
  {
   "cell_type": "code",
   "execution_count": 11,
   "metadata": {
    "slideshow": {
     "slide_type": "-"
    }
   },
   "outputs": [
    {
     "name": "stdout",
     "output_type": "stream",
     "text": [
      "Feature\t\t\t|Previous Values \t|After Gradient values\n",
      "___________________________________________________________________________\n",
      "Prediction Error\t|3.01\t\t\t|2.86\n",
      "Real value (r_u,i)\t|5\t\t\t|5\n",
      "Prediction (rhat_u,i)\t|1.99\t\t\t|2.14\n"
     ]
    }
   ],
   "source": [
    "print(f\"Feature\\t\\t\\t|Previous Values \\t|After Gradient values\")\n",
    "print(f\"___________________________________________________________________________\")\n",
    "print(f\"Prediction Error\\t|{gradient:.2f}\\t\\t\\t|{new_gradient:.2f}\")\n",
    "print(f\"Real value (r_u,i)\\t|{test_data}\\t\\t\\t|{test_data}\")\n",
    "print(f\"Prediction (rhat_u,i)\\t|{prediction:.2f}\\t\\t\\t|{new_prediction:.2f}\")"
   ]
  },
  {
   "cell_type": "markdown",
   "metadata": {
    "slideshow": {
     "slide_type": "slide"
    }
   },
   "source": [
    "### ⚠️WARNING: Initialization must be done with random non-zero values⚠️\n",
    "\n",
    "... otherwise this happens"
   ]
  },
  {
   "cell_type": "code",
   "execution_count": 12,
   "metadata": {
    "slideshow": {
     "slide_type": "fragment"
    }
   },
   "outputs": [],
   "source": [
    "user_factors = np.zeros((num_users, num_factors))\n",
    "item_factors = np.zeros((num_items, num_factors))"
   ]
  },
  {
   "cell_type": "code",
   "execution_count": 13,
   "metadata": {
    "slideshow": {
     "slide_type": "fragment"
    }
   },
   "outputs": [
    {
     "name": "stdout",
     "output_type": "stream",
     "text": [
      "* Prediction error is 5.00\n",
      "* Real value (r_u,i) is 5\n",
      "* Prediction (rhat_u,i) is 0.0\n"
     ]
    }
   ],
   "source": [
    "prediction = np.dot(user_factors[user_index,:], item_factors[item_index,:])\n",
    "gradient = test_data - prediction\n",
    "\n",
    "print(f\"* Prediction error is {gradient:.2f}\")\n",
    "print(f\"* Real value (r_u,i) is {test_data}\")\n",
    "print(f\"* Prediction (rhat_u,i) is {prediction}\")"
   ]
  },
  {
   "cell_type": "code",
   "execution_count": 14,
   "metadata": {
    "slideshow": {
     "slide_type": "fragment"
    }
   },
   "outputs": [],
   "source": [
    "W_u = user_factors[user_index,:]\n",
    "H_i = item_factors[item_index,:]\n",
    "\n",
    "user_factors[user_index,:] += learning_rate * (gradient * H_i - regularization * W_u)\n",
    "item_factors[item_index,:] += learning_rate * (gradient * W_u - regularization * H_i)"
   ]
  },
  {
   "cell_type": "code",
   "execution_count": 15,
   "metadata": {
    "slideshow": {
     "slide_type": "fragment"
    }
   },
   "outputs": [
    {
     "name": "stdout",
     "output_type": "stream",
     "text": [
      "* Prediction error is 5.00\n",
      "* Real value (r_u,i) is 5\n",
      "* Prediction (rhat_u,i) is 0.0\n"
     ]
    }
   ],
   "source": [
    "new_prediction = np.dot(user_factors[user_index,:], item_factors[item_index,:])\n",
    "new_gradient = test_data - new_prediction\n",
    "\n",
    "print(f\"* Prediction error is {new_gradient:.2f}\")\n",
    "print(f\"* Real value (r_u,i) is {test_data}\")\n",
    "print(f\"* Prediction (rhat_u,i) is {new_prediction}\")"
   ]
  },
  {
   "cell_type": "markdown",
   "metadata": {
    "slideshow": {
     "slide_type": "subslide"
    }
   },
   "source": [
    "### Since the updates multiply the gradient and the latent factors, if those are zero the SGD will never be able to move from that point"
   ]
  },
  {
   "cell_type": "markdown",
   "metadata": {
    "slideshow": {
     "slide_type": "slide"
    }
   },
   "source": [
    "## Now with BPR MF\n",
    "\n",
    "The basics are the same, except for how we compute the gradient, where we have to sample triplets $(u, i^+, i^-)$ instead."
   ]
  },
  {
   "cell_type": "code",
   "execution_count": 16,
   "metadata": {
    "slideshow": {
     "slide_type": "fragment"
    }
   },
   "outputs": [
    {
     "data": {
      "text/plain": [
       "(69878, 69804)"
      ]
     },
     "execution_count": 16,
     "metadata": {},
     "output_type": "execute_result"
    }
   ],
   "source": [
    "URM_mask = URM_train.copy()\n",
    "URM_mask.data[URM_mask.data <= 3] = 0\n",
    "\n",
    "URM_mask.eliminate_zeros()\n",
    "\n",
    "# Extract users having at least one interaction to choose from\n",
    "eligibleUsers = []\n",
    "\n",
    "for user_id in range(num_users):\n",
    "    start_pos = URM_mask.indptr[user_id]\n",
    "    end_pos = URM_mask.indptr[user_id+1]\n",
    "\n",
    "    if len(URM_mask.indices[start_pos:end_pos]) > 0:\n",
    "        eligibleUsers.append(user_id)  \n",
    "        \n",
    "num_users, len(eligibleUsers)"
   ]
  },
  {
   "cell_type": "code",
   "execution_count": 17,
   "metadata": {
    "slideshow": {
     "slide_type": "fragment"
    }
   },
   "outputs": [],
   "source": [
    "def sampleTriplet():\n",
    "    # By randomly selecting a user in this way we could end up \n",
    "    # with a user with no interactions\n",
    "    #user_id = np.random.randint(0, n_users)\n",
    "    user_id = np.random.choice(eligibleUsers)\n",
    "    \n",
    "    # Get user seen items and choose one\n",
    "    userSeenItems = URM_mask[user_id,:].indices\n",
    "    pos_item_id = np.random.choice(userSeenItems)\n",
    "\n",
    "    negItemSelected = False\n",
    "\n",
    "    # It's faster to just try again than to build a mapping of the non-seen items\n",
    "    while (not negItemSelected):\n",
    "        neg_item_id = np.random.randint(0, num_items)\n",
    "\n",
    "        if (neg_item_id not in userSeenItems):\n",
    "            negItemSelected = True\n",
    "\n",
    "    return user_id, pos_item_id, neg_item_id"
   ]
  },
  {
   "cell_type": "code",
   "execution_count": 18,
   "metadata": {
    "slideshow": {
     "slide_type": "fragment"
    }
   },
   "outputs": [
    {
     "name": "stdout",
     "output_type": "stream",
     "text": [
      "(166, 228, 8367)\n",
      "(67446, 1293, 6215)\n",
      "(16490, 166, 2666)\n",
      "(35232, 1406, 6670)\n",
      "(35107, 2511, 8937)\n",
      "(46911, 1316, 2226)\n",
      "(55823, 1566, 570)\n",
      "(67631, 1580, 1095)\n",
      "(64897, 1293, 10059)\n",
      "(14316, 179, 9256)\n"
     ]
    }
   ],
   "source": [
    "for _ in range(10):\n",
    "    print(sampleTriplet())"
   ]
  },
  {
   "cell_type": "code",
   "execution_count": 19,
   "metadata": {
    "slideshow": {
     "slide_type": "fragment"
    }
   },
   "outputs": [],
   "source": [
    "user_factors = np.random.random((num_users, num_factors))\n",
    "item_factors = np.random.random((num_items, num_factors))"
   ]
  },
  {
   "cell_type": "code",
   "execution_count": 20,
   "metadata": {
    "slideshow": {
     "slide_type": "fragment"
    }
   },
   "outputs": [
    {
     "name": "stdout",
     "output_type": "stream",
     "text": [
      "7093 93 2706\n"
     ]
    }
   ],
   "source": [
    "user_id, positive_item, negative_item = sampleTriplet()\n",
    "\n",
    "print(user_id, positive_item, negative_item)"
   ]
  },
  {
   "cell_type": "code",
   "execution_count": 21,
   "metadata": {
    "slideshow": {
     "slide_type": "fragment"
    }
   },
   "outputs": [
    {
     "data": {
      "text/plain": [
       "(array([0.85310055, 0.29037721, 0.92459365, 0.70091857, 0.7918885 ,\n",
       "        0.75971304, 0.871277  , 0.58570654, 0.37361739, 0.70913291]),\n",
       " array([0.43038477, 0.80063273, 0.71478896, 0.18707384, 0.63416571,\n",
       "        0.48530919, 0.90224257, 0.46023649, 0.79423379, 0.82130613]),\n",
       " array([0.70501697, 0.90731363, 0.66578043, 0.65009561, 0.23174949,\n",
       "        0.08555451, 0.1981846 , 0.05815617, 0.01847719, 0.61844925]))"
      ]
     },
     "execution_count": 21,
     "metadata": {},
     "output_type": "execute_result"
    }
   ],
   "source": [
    "user_factors[user_id, :], item_factors[positive_item,:], item_factors[negative_item,:]"
   ]
  },
  {
   "cell_type": "code",
   "execution_count": 22,
   "metadata": {
    "slideshow": {
     "slide_type": "fragment"
    }
   },
   "outputs": [
    {
     "data": {
      "text/plain": [
       "1.3604926760639033"
      ]
     },
     "execution_count": 22,
     "metadata": {},
     "output_type": "execute_result"
    }
   ],
   "source": [
    "x_uij = np.dot(user_factors[user_id, :], \n",
    "               (item_factors[positive_item,:] - item_factors[negative_item,:]))\n",
    "x_uij "
   ]
  },
  {
   "cell_type": "code",
   "execution_count": 23,
   "metadata": {
    "slideshow": {
     "slide_type": "fragment"
    }
   },
   "outputs": [
    {
     "data": {
      "text/plain": [
       "0.20416024118262058"
      ]
     },
     "execution_count": 23,
     "metadata": {},
     "output_type": "execute_result"
    }
   ],
   "source": [
    "sigmoid_item = 1 / (1 + np.exp(x_uij))\n",
    "sigmoid_item"
   ]
  },
  {
   "cell_type": "markdown",
   "metadata": {
    "slideshow": {
     "slide_type": "fragment"
    }
   },
   "source": [
    "#### When using BPR we have to update three components, the user factors and the item factors of both the positive and negative item"
   ]
  },
  {
   "cell_type": "code",
   "execution_count": 24,
   "metadata": {
    "slideshow": {
     "slide_type": "-"
    }
   },
   "outputs": [],
   "source": [
    "H_i = item_factors[positive_item,:]\n",
    "H_j = item_factors[negative_item,:]\n",
    "W_u = user_factors[user_id,:]\n",
    "\n",
    "user_factors[user_index,:] += learning_rate * (sigmoid_item * ( H_i - H_j ) - regularization * W_u)\n",
    "item_factors[positive_item,:] += learning_rate * (sigmoid_item * ( W_u ) - regularization * H_i)\n",
    "item_factors[negative_item,:] += learning_rate * (sigmoid_item * (-W_u ) - regularization * H_j)"
   ]
  },
  {
   "cell_type": "code",
   "execution_count": 25,
   "metadata": {
    "slideshow": {
     "slide_type": "fragment"
    }
   },
   "outputs": [
    {
     "data": {
      "text/plain": [
       "1.3813325952006281"
      ]
     },
     "execution_count": 25,
     "metadata": {},
     "output_type": "execute_result"
    }
   ],
   "source": [
    "new_x_uij = np.dot(user_factors[user_id, :], (item_factors[positive_item,:] - item_factors[negative_item,:]))\n",
    "new_x_uij"
   ]
  },
  {
   "cell_type": "markdown",
   "metadata": {
    "slideshow": {
     "slide_type": "fragment"
    }
   },
   "source": [
    "For comparison"
   ]
  },
  {
   "cell_type": "code",
   "execution_count": 26,
   "metadata": {
    "scrolled": true,
    "slideshow": {
     "slide_type": "fragment"
    }
   },
   "outputs": [
    {
     "name": "stdout",
     "output_type": "stream",
     "text": [
      "Feature\t\t\t|Previous Values \t|After Gradient values\n",
      "___________________________________________________________________________\n",
      "X_uij\t\t\t|1.36049\t\t|1.38133\n"
     ]
    }
   ],
   "source": [
    "print(f\"Feature\\t\\t\\t|Previous Values \\t|After Gradient values\")\n",
    "print(f\"___________________________________________________________________________\")\n",
    "print(f\"X_uij\\t\\t\\t|{x_uij:.5f}\\t\\t|{new_x_uij:.5f}\")\n"
   ]
  },
  {
   "cell_type": "markdown",
   "metadata": {
    "slideshow": {
     "slide_type": "subslide"
    }
   },
   "source": [
    "### How to rank items with MF ?\n",
    "\n",
    "Compute the prediction for all items and rank them"
   ]
  },
  {
   "cell_type": "code",
   "execution_count": 27,
   "metadata": {
    "slideshow": {
     "slide_type": "fragment"
    }
   },
   "outputs": [
    {
     "data": {
      "text/plain": [
       "array([2.64501212, 1.64712579, 2.26294367, ..., 2.04987469, 1.9322149 ,\n",
       "       2.86693196])"
      ]
     },
     "execution_count": 27,
     "metadata": {},
     "output_type": "execute_result"
    }
   ],
   "source": [
    "item_scores = np.dot(user_factors[user_index,:], item_factors.T)\n",
    "item_scores"
   ]
  },
  {
   "cell_type": "code",
   "execution_count": 28,
   "metadata": {
    "slideshow": {
     "slide_type": "fragment"
    }
   },
   "outputs": [
    {
     "data": {
      "text/plain": [
       "(10681,)"
      ]
     },
     "execution_count": 28,
     "metadata": {},
     "output_type": "execute_result"
    }
   ],
   "source": [
    "item_scores.shape"
   ]
  },
  {
   "cell_type": "markdown",
   "metadata": {
    "slideshow": {
     "slide_type": "slide"
    }
   },
   "source": [
    "### Early stopping, how to use it and when it is needed\n",
    "\n",
    "Problem, how many epochs? 5, 10, 150, 2487 ?\n",
    "\n",
    "We could try different values in increasing order: 5, 10, 15, 20, 25...\n",
    "\n",
    "### However, in this way we would train up to a point, test and then discard the model, to re-train it again up to that same point and then some more... not a good idea.\n"
   ]
  },
  {
   "cell_type": "markdown",
   "metadata": {
    "slideshow": {
     "slide_type": "fragment"
    }
   },
   "source": [
    "### Early stopping! \n",
    "* Train the model up to a certain number of epochs, say 5\n",
    "* Compute the recommendation quality on the validation set\n",
    "* Train for other 5 epochs\n",
    "* Compute the recommendation quality on the validation set AND compare it with the previous one. If better, then we have another best model, if not, go ahead...\n",
    "* Repeat until you have either reached the max number of epoch you want to allow (e.g., 300) or a certain number of contiguous validation seps have not updated te best model\n"
   ]
  },
  {
   "cell_type": "markdown",
   "metadata": {
    "slideshow": {
     "slide_type": "fragment"
    }
   },
   "source": [
    "### Advantages:\n",
    "* Easy to implement, we already have all that is required, a train function, a predictor function and an evaluator\n",
    "* MUCH faster than retraining everything from the beginning\n",
    "* Often allows to reach even better solutions\n",
    "\n",
    "### Challenges:\n",
    "* The evaluation step may be very slow compared to the time it takes to re-train the model"
   ]
  },
  {
   "cell_type": "markdown",
   "metadata": {
    "slideshow": {
     "slide_type": "slide"
    }
   },
   "source": [
    "## PureSVD model\n",
    "\n",
    "### As opposed to the previous ones, PureSVD relies on the SVD decomposition of the URM, which is an easily available function\n",
    "\n",
    "In our case, an SVD decomposition of the URM ($m \\times n$)is as follows\n",
    "\n",
    "$$ URM = U \\Sigma V^T $$\n",
    "\n",
    "Where $U$ is an orthogonal $m \\times m$ matrix, $\\Sigma$ is a rectangular diagonal matrix ($m \\times n$), and $V^T$ is an orthogonal $n \\times n$ matrix. \n",
    "\n"
   ]
  },
  {
   "cell_type": "markdown",
   "metadata": {
    "slideshow": {
     "slide_type": "fragment"
    }
   },
   "source": [
    "However, calculating the SVD for the whole URM consumes lots of resources (time and memory), we can use a *truncated* version of SVD called *Truncated SVD*, the idea is similar to the original SVD, but instead of calculating an *exact* decomposition, we approximate URM:\n",
    "\n",
    "$$ \\widehat{URM} = U_{t} \\Sigma_{t} V^*_{t} $$\n",
    "\n",
    "Where $U_{t}$ is a $m \\times t$ matrix, $\\Sigma_{t}$ is a $t$ vector, and $V^*_{t}$ is a $t \\times n$ matrix. For this approximation, only the $t$ largest singular values are kept."
   ]
  },
  {
   "cell_type": "code",
   "execution_count": 29,
   "metadata": {
    "slideshow": {
     "slide_type": "fragment"
    }
   },
   "outputs": [],
   "source": [
    "from sklearn.utils.extmath import randomized_svd\n",
    "\n",
    "# Other SVDs are also available, like from sklearn.decomposition import TruncatedSVD"
   ]
  },
  {
   "cell_type": "code",
   "execution_count": 30,
   "metadata": {
    "slideshow": {
     "slide_type": "fragment"
    }
   },
   "outputs": [],
   "source": [
    "U, Sigma, VT = randomized_svd(URM_train,\n",
    "                              n_components=num_factors,\n",
    "                              random_state=1234)"
   ]
  },
  {
   "cell_type": "code",
   "execution_count": 31,
   "metadata": {
    "slideshow": {
     "slide_type": "fragment"
    }
   },
   "outputs": [
    {
     "data": {
      "text/plain": [
       "(array([[ 1.00697792e-03, -4.16835549e-03, -8.05346756e-04, ...,\n",
       "         -1.20490324e-03, -2.04819584e-03,  6.65386894e-04],\n",
       "        [ 5.43523827e-04, -1.04750696e-03,  7.31684968e-05, ...,\n",
       "          4.09675228e-03,  1.55031510e-03,  4.60178881e-04],\n",
       "        [ 4.93759185e-04,  1.90945487e-04, -2.60695870e-04, ...,\n",
       "         -3.38377873e-04,  2.02657680e-03,  4.44420402e-04],\n",
       "        ...,\n",
       "        [ 2.95636257e-03,  1.99429843e-03,  5.72660472e-03, ...,\n",
       "         -6.62544429e-04,  2.42846006e-03,  1.20614357e-03],\n",
       "        [ 1.33276737e-03, -5.88435525e-03,  1.08984445e-03, ...,\n",
       "         -5.27296409e-04, -1.78885006e-03,  2.24224103e-03],\n",
       "        [ 1.41446517e-03, -9.73843717e-04, -7.10363935e-04, ...,\n",
       "          2.82713633e-03, -1.34829203e-03,  4.80334231e-03]]),\n",
       " (69878, 10))"
      ]
     },
     "execution_count": 31,
     "metadata": {},
     "output_type": "execute_result"
    }
   ],
   "source": [
    "U, U.shape"
   ]
  },
  {
   "cell_type": "code",
   "execution_count": 32,
   "metadata": {
    "slideshow": {
     "slide_type": "fragment"
    }
   },
   "outputs": [
    {
     "data": {
      "text/plain": [
       "(array([4274.37906171, 1783.705363  , 1532.63892215, 1226.64833113,\n",
       "        1182.63820462, 1012.97220795,  961.73078121,  909.55143491,\n",
       "         842.61487792,  744.71652311]),\n",
       " (10,))"
      ]
     },
     "execution_count": 32,
     "metadata": {},
     "output_type": "execute_result"
    }
   ],
   "source": [
    "Sigma, Sigma.shape"
   ]
  },
  {
   "cell_type": "code",
   "execution_count": 33,
   "metadata": {
    "slideshow": {
     "slide_type": "fragment"
    }
   },
   "outputs": [
    {
     "data": {
      "text/plain": [
       "(array([[ 0.00665493,  0.03256128,  0.04222364, ...,  0.        ,\n",
       "          0.        ,  0.        ],\n",
       "        [-0.01416209, -0.09516268, -0.07190211, ..., -0.        ,\n",
       "         -0.        , -0.        ],\n",
       "        [ 0.00272632, -0.01096908, -0.04264879, ..., -0.        ,\n",
       "         -0.        , -0.        ],\n",
       "        ...,\n",
       "        [ 0.00187947, -0.02347853, -0.03315914, ...,  0.        ,\n",
       "          0.        ,  0.        ],\n",
       "        [-0.00620184, -0.00432701, -0.02925785, ...,  0.        ,\n",
       "          0.        ,  0.        ],\n",
       "        [-0.01207391,  0.01487358, -0.0851066 , ..., -0.        ,\n",
       "         -0.        , -0.        ]]),\n",
       " (10, 10681))"
      ]
     },
     "execution_count": 33,
     "metadata": {},
     "output_type": "execute_result"
    }
   ],
   "source": [
    "VT, VT.shape"
   ]
  },
  {
   "cell_type": "code",
   "execution_count": 34,
   "metadata": {
    "slideshow": {
     "slide_type": "fragment"
    }
   },
   "outputs": [
    {
     "data": {
      "text/plain": [
       "(10, 10681)"
      ]
     },
     "execution_count": 34,
     "metadata": {},
     "output_type": "execute_result"
    }
   ],
   "source": [
    "VT.shape"
   ]
  },
  {
   "cell_type": "markdown",
   "metadata": {
    "slideshow": {
     "slide_type": "slide"
    }
   },
   "source": [
    "### Computing a prediction\n",
    "\n",
    "So, how do we transform the matrices $U_t$, $\\Sigma_t$, $V^T_t$ into something that we can use for recommendation? \n",
    "\n",
    "Remember, $\\widehat{URM} = U_t \\Sigma_t V^T_t$."
   ]
  },
  {
   "cell_type": "markdown",
   "metadata": {
    "slideshow": {
     "slide_type": "slide"
    }
   },
   "source": [
    "#### Matrix Factorization Approach (PureSVDRecommender)\n",
    "\n",
    "Consider the following matrices $W = U_t \\Sigma_t$, and $H = V^T_t$, then we just have a Matrix Factorization recommender where $\\widehat{URM} = WH$, where $W$ represents the user factors and $H$ are the item factors."
   ]
  },
  {
   "cell_type": "code",
   "execution_count": 35,
   "metadata": {
    "slideshow": {
     "slide_type": "fragment"
    }
   },
   "outputs": [],
   "source": [
    "import scipy.sparse as sps\n",
    "\n",
    "# Store an intermediate pre-multiplied matrix\n",
    "user_factors = U * sps.diags(Sigma)\n",
    "item_factors = VT"
   ]
  },
  {
   "cell_type": "markdown",
   "metadata": {
    "slideshow": {
     "slide_type": "fragment"
    }
   },
   "source": [
    "Let's now predict if Bob would like Toy Story or not..."
   ]
  },
  {
   "cell_type": "code",
   "execution_count": 36,
   "metadata": {
    "scrolled": true,
    "slideshow": {
     "slide_type": "fragment"
    }
   },
   "outputs": [
    {
     "name": "stdout",
     "output_type": "stream",
     "text": [
      "Prediction is -0.48\n"
     ]
    }
   ],
   "source": [
    "prediction = user_factors[user_index, :].dot(item_factors[:,item_index])\n",
    "\n",
    "print(\"Prediction is {:.2f}\".format(prediction))"
   ]
  },
  {
   "cell_type": "markdown",
   "metadata": {
    "slideshow": {
     "slide_type": "fragment"
    }
   },
   "source": [
    "And with this we calculate the score of all items for Bob."
   ]
  },
  {
   "cell_type": "code",
   "execution_count": 37,
   "metadata": {
    "slideshow": {
     "slide_type": "fragment"
    }
   },
   "outputs": [
    {
     "data": {
      "text/plain": [
       "array([-0.1753825 , -0.090922  , -0.97740691, ...,  0.        ,\n",
       "        0.        ,  0.        ])"
      ]
     },
     "execution_count": 37,
     "metadata": {},
     "output_type": "execute_result"
    }
   ],
   "source": [
    "item_scores = user_factors[user_index, :].dot(item_factors)\n",
    "item_scores"
   ]
  },
  {
   "cell_type": "code",
   "execution_count": 38,
   "metadata": {
    "slideshow": {
     "slide_type": "fragment"
    }
   },
   "outputs": [
    {
     "data": {
      "text/plain": [
       "(10681,)"
      ]
     },
     "execution_count": 38,
     "metadata": {},
     "output_type": "execute_result"
    }
   ],
   "source": [
    "item_scores.shape"
   ]
  },
  {
   "cell_type": "markdown",
   "metadata": {
    "slideshow": {
     "slide_type": "fragment"
    }
   },
   "source": [
    "So, which are the best 20 items for Bob?"
   ]
  },
  {
   "cell_type": "code",
   "execution_count": 39,
   "metadata": {
    "slideshow": {
     "slide_type": "fragment"
    }
   },
   "outputs": [
    {
     "data": {
      "text/plain": [
       "array([ 145,  219,  170,  133,  218,  167,  148,  166,  146,   44,  144,\n",
       "        176,  163, 1073,  220,  150,  193,  147,  402,  227])"
      ]
     },
     "execution_count": 39,
     "metadata": {},
     "output_type": "execute_result"
    }
   ],
   "source": [
    "best_items_for_bob = np.flip(np.argsort(item_scores))[:20]\n",
    "best_items_for_bob"
   ]
  },
  {
   "cell_type": "markdown",
   "metadata": {
    "slideshow": {
     "slide_type": "fragment"
    }
   },
   "source": [
    "Is Toy story inside that list?"
   ]
  },
  {
   "cell_type": "code",
   "execution_count": 40,
   "metadata": {
    "slideshow": {
     "slide_type": "fragment"
    }
   },
   "outputs": [
    {
     "data": {
      "text/plain": [
       "False"
      ]
     },
     "execution_count": 40,
     "metadata": {},
     "output_type": "execute_result"
    }
   ],
   "source": [
    "item_index in best_items_for_bob"
   ]
  },
  {
   "cell_type": "markdown",
   "metadata": {
    "slideshow": {
     "slide_type": "slide"
    }
   },
   "source": [
    "#### Item-Based Approach (PureSVDItemRecommender)\n",
    "\n",
    "Consider the following matrix $P = U_t \\Sigma_t$.\n",
    "\n",
    "As $U$ and $V^T$ are orthogonal (meaning $UU^T = U^TU = I$), then \n",
    "\n",
    "$$ \\widehat{URM} = U_t \\Sigma_t V^T_t $$\n",
    "$$ \\widehat{URM}V = U_t \\Sigma_t V^T_t V $$\n",
    "$$ \\widehat{URM}V = U_t \\Sigma_t $$\n",
    "\n",
    "Re-arranging the equations\n",
    "\n",
    "$$ P = U_t \\Sigma_t = URMV $$\n",
    "\n",
    "With this, if we define $r_u$ as the $u$-th row in the URM and $v^T_i$ as the $i$-th column in $V^T$ then we calculate any $\\hat{r}_{u,i}$ as \n",
    "\n",
    "$$\\hat{r}_{u,i} = r_u V v^T_i$$\n",
    "\n",
    "Which is equivalent to having a similarity matrix."
   ]
  },
  {
   "cell_type": "code",
   "execution_count": 41,
   "metadata": {
    "scrolled": true,
    "slideshow": {
     "slide_type": "fragment"
    }
   },
   "outputs": [],
   "source": [
    "# BEWARE: This consumes A LOT of memory\n",
    "item_weights = np.dot(VT.T, VT)"
   ]
  },
  {
   "cell_type": "code",
   "execution_count": 42,
   "metadata": {
    "slideshow": {
     "slide_type": "skip"
    }
   },
   "outputs": [
    {
     "name": "stdout",
     "output_type": "stream",
     "text": [
      "CPU times: user 7.66 s, sys: 980 ms, total: 8.64 s\n",
      "Wall time: 2.43 s\n"
     ]
    }
   ],
   "source": [
    "%%time\n",
    "\n",
    "ITEM_factors = VT.T\n",
    "topK = 100\n",
    "\n",
    "n_items, n_factors = ITEM_factors.shape\n",
    "\n",
    "block_size = 100\n",
    "\n",
    "start_item = 0\n",
    "end_item = 0\n",
    "\n",
    "values = []\n",
    "rows = []\n",
    "cols = []\n",
    "\n",
    "# Compute all similarities for each item using vectorization\n",
    "while start_item < n_items:\n",
    "\n",
    "    end_item = min(n_items, start_item + block_size)\n",
    "\n",
    "    this_block_weight = np.dot(ITEM_factors[start_item:end_item, :], ITEM_factors.T)\n",
    "\n",
    "    for col_index_in_block in range(this_block_weight.shape[0]):\n",
    "\n",
    "        this_column_weights = this_block_weight[col_index_in_block, :]\n",
    "        item_original_index = start_item + col_index_in_block\n",
    "\n",
    "        # Sort indices and select TopK\n",
    "        # Sorting is done in three steps. Faster then plain np.argsort for higher number of items\n",
    "        # - Partition the data to extract the set of relevant items\n",
    "        # - Sort only the relevant items\n",
    "        # - Get the original item index\n",
    "        relevant_items_partition = (-this_column_weights).argpartition(topK-1)[0:topK]\n",
    "        relevant_items_partition_sorting = np.argsort(-this_column_weights[relevant_items_partition])\n",
    "        top_k_idx = relevant_items_partition[relevant_items_partition_sorting]\n",
    "\n",
    "        # Incrementally build sparse matrix, do not add zeros\n",
    "        notZerosMask = this_column_weights[top_k_idx] != 0.0\n",
    "        numNotZeros = np.sum(notZerosMask)\n",
    "\n",
    "        values.extend(this_column_weights[top_k_idx][notZerosMask])\n",
    "        rows.extend(top_k_idx[notZerosMask])\n",
    "        cols.extend(np.ones(numNotZeros) * item_original_index)\n",
    "\n",
    "\n",
    "\n",
    "    start_item += block_size\n",
    "\n",
    "item_weights = sps.csr_matrix((values, (rows, cols)),\n",
    "                          shape=(n_items, n_items),\n",
    "                          dtype=np.float32)\n",
    "\n"
   ]
  },
  {
   "cell_type": "code",
   "execution_count": 43,
   "metadata": {
    "slideshow": {
     "slide_type": "fragment"
    }
   },
   "outputs": [
    {
     "data": {
      "text/plain": [
       "(<10681x10681 sparse matrix of type '<class 'numpy.float32'>'\n",
       " \twith 1064800 stored elements in Compressed Sparse Row format>,\n",
       " (10681, 10681))"
      ]
     },
     "execution_count": 43,
     "metadata": {},
     "output_type": "execute_result"
    }
   ],
   "source": [
    "item_weights, item_weights.shape"
   ]
  },
  {
   "cell_type": "code",
   "execution_count": 44,
   "metadata": {
    "scrolled": true,
    "slideshow": {
     "slide_type": "fragment"
    }
   },
   "outputs": [
    {
     "data": {
      "text/plain": [
       "<1x10681 sparse matrix of type '<class 'numpy.float64'>'\n",
       "\twith 10638 stored elements in Compressed Sparse Row format>"
      ]
     },
     "execution_count": 44,
     "metadata": {},
     "output_type": "execute_result"
    }
   ],
   "source": [
    "item_scores = URM_train[user_index, :].dot(item_weights)\n",
    "item_scores"
   ]
  },
  {
   "cell_type": "code",
   "execution_count": 45,
   "metadata": {
    "slideshow": {
     "slide_type": "fragment"
    }
   },
   "outputs": [
    {
     "data": {
      "text/plain": [
       "(1, 10681)"
      ]
     },
     "execution_count": 45,
     "metadata": {},
     "output_type": "execute_result"
    }
   ],
   "source": [
    "item_scores.shape"
   ]
  },
  {
   "cell_type": "markdown",
   "metadata": {
    "slideshow": {
     "slide_type": "fragment"
    }
   },
   "source": [
    "So, which are the best 20 items for Bob?"
   ]
  },
  {
   "cell_type": "code",
   "execution_count": 46,
   "metadata": {
    "slideshow": {
     "slide_type": "fragment"
    }
   },
   "outputs": [
    {
     "data": {
      "text/plain": [
       "array([0])"
      ]
     },
     "execution_count": 46,
     "metadata": {},
     "output_type": "execute_result"
    }
   ],
   "source": [
    "best_items_for_bob = np.flip(np.argsort(item_scores))[:20]\n",
    "best_items_for_bob"
   ]
  },
  {
   "cell_type": "markdown",
   "metadata": {
    "slideshow": {
     "slide_type": "fragment"
    }
   },
   "source": [
    "Is Toy story inside that list?"
   ]
  },
  {
   "cell_type": "code",
   "execution_count": 47,
   "metadata": {
    "slideshow": {
     "slide_type": "fragment"
    }
   },
   "outputs": [
    {
     "data": {
      "text/plain": [
       "False"
      ]
     },
     "execution_count": 47,
     "metadata": {},
     "output_type": "execute_result"
    }
   ],
   "source": [
    "item_index in best_items_for_bob"
   ]
  },
  {
   "cell_type": "markdown",
   "metadata": {
    "slideshow": {
     "slide_type": "slide"
    }
   },
   "source": [
    "## Comparison: BPR, FunkSVD, PureSVD (MF and Item-Based)"
   ]
  },
  {
   "cell_type": "code",
   "execution_count": 48,
   "metadata": {
    "slideshow": {
     "slide_type": "fragment"
    }
   },
   "outputs": [],
   "source": [
    "from MatrixFactorization.Cython.MatrixFactorization_Cython import MatrixFactorization_BPR_Cython, MatrixFactorization_FunkSVD_Cython\n",
    "from MatrixFactorization.PureSVDRecommender import PureSVDRecommender, PureSVDItemRecommender\n",
    "\n",
    "from Base.Evaluation.Evaluator import EvaluatorHoldout\n",
    "\n",
    "evaluator_test = EvaluatorHoldout(URM_test, cutoff_list=[5, 20])\n",
    "\n",
    "evaluator_validation_early_stopping = EvaluatorHoldout(URM_train, cutoff_list=[5], exclude_seen = False)\n"
   ]
  },
  {
   "cell_type": "code",
   "execution_count": 49,
   "metadata": {
    "slideshow": {
     "slide_type": "fragment"
    }
   },
   "outputs": [
    {
     "name": "stdout",
     "output_type": "stream",
     "text": [
      "PureSVDRecommender: URM Detected 33 (0.31 %) cold items.\n",
      "PureSVDRecommender: Computing SVD decomposition...\n",
      "PureSVDRecommender: Computing SVD decomposition... Done!\n",
      "EvaluatorHoldout: Processed 44000 ( 63.03% ) in 30.49 sec. Users per second: 1443\n",
      "EvaluatorHoldout: Processed 69803 ( 100.00% ) in 48.18 sec. Users per second: 1449\n",
      "CPU times: user 1min 38s, sys: 8.31 s, total: 1min 47s\n",
      "Wall time: 53.5 s\n"
     ]
    }
   ],
   "source": [
    "%%time\n",
    "\n",
    "recommender = PureSVDRecommender(URM_train)\n",
    "recommender.fit()\n",
    "\n",
    "result_dict_puresvd, _ = evaluator_test.evaluateRecommender(recommender)"
   ]
  },
  {
   "cell_type": "code",
   "execution_count": 50,
   "metadata": {
    "slideshow": {
     "slide_type": "skip"
    }
   },
   "outputs": [
    {
     "data": {
      "text/plain": [
       "{5: {'ROC_AUC': 0.4907131498646188,\n",
       "  'PRECISION': 0.3585232726387919,\n",
       "  'PRECISION_RECALL_MIN_DEN': 0.36568199074544744,\n",
       "  'RECALL': 0.11205379809581532,\n",
       "  'MAP': 0.2908562072308327,\n",
       "  'MRR': 0.5755698179161338,\n",
       "  'NDCG': 0.16214389689210662,\n",
       "  'F1': 0.1707431020478902,\n",
       "  'HIT_RATE': 1.792616363193559,\n",
       "  'ARHR': 0.9060976366822434,\n",
       "  'NOVELTY': 0.004572539681567628,\n",
       "  'AVERAGE_POPULARITY': 0.35280487304654207,\n",
       "  'DIVERSITY_MEAN_INTER_LIST': 0.9781827662222584,\n",
       "  'DIVERSITY_HERFINDAHL': 0.9956337505489623,\n",
       "  'COVERAGE_ITEM': 0.07986143619511282,\n",
       "  'COVERAGE_ITEM_CORRECT': 0.07705271042037262,\n",
       "  'COVERAGE_USER': 0.9989267008214316,\n",
       "  'COVERAGE_USER_CORRECT': 0.75402844958356,\n",
       "  'DIVERSITY_GINI': 0.02093318483864437,\n",
       "  'SHANNON_ENTROPY': 8.235601384528998},\n",
       " 20: {'ROC_AUC': 0.5852421238762558,\n",
       "  'PRECISION': 0.23956849992118892,\n",
       "  'PRECISION_RECALL_MIN_DEN': 0.3470634589364914,\n",
       "  'RECALL': 0.2564381082965113,\n",
       "  'MAP': 0.2016018822331344,\n",
       "  'MRR': 0.5910400399762046,\n",
       "  'NDCG': 0.2526585972481661,\n",
       "  'F1': 0.24771642921442144,\n",
       "  'HIT_RATE': 4.791369998424137,\n",
       "  'ARHR': 1.1862117057132338,\n",
       "  'NOVELTY': 0.0187059486296652,\n",
       "  'AVERAGE_POPULARITY': 0.31237217378782506,\n",
       "  'DIVERSITY_MEAN_INTER_LIST': 0.9456655139452139,\n",
       "  'DIVERSITY_HERFINDAHL': 0.9972825983155479,\n",
       "  'COVERAGE_ITEM': 0.1304185001404363,\n",
       "  'COVERAGE_ITEM_CORRECT': 0.126205411478326,\n",
       "  'COVERAGE_USER': 0.9989267008214316,\n",
       "  'COVERAGE_USER_CORRECT': 0.8959758436131544,\n",
       "  'DIVERSITY_GINI': 0.033205741078532074,\n",
       "  'SHANNON_ENTROPY': 8.90314237683328}}"
      ]
     },
     "execution_count": 50,
     "metadata": {},
     "output_type": "execute_result"
    }
   ],
   "source": [
    "result_dict_puresvd"
   ]
  },
  {
   "cell_type": "code",
   "execution_count": 51,
   "metadata": {
    "slideshow": {
     "slide_type": "fragment"
    }
   },
   "outputs": [
    {
     "name": "stdout",
     "output_type": "stream",
     "text": [
      "PureSVDItemRecommender: URM Detected 33 (0.31 %) cold items.\n",
      "PureSVDItemRecommender: Computing SVD decomposition...\n",
      "PureSVDItemRecommender: Computing SVD decomposition... Done!\n",
      "EvaluatorHoldout: Processed 11000 ( 15.76% ) in 32.10 sec. Users per second: 343\n",
      "EvaluatorHoldout: Processed 22000 ( 31.52% ) in 1.06 min. Users per second: 347\n",
      "EvaluatorHoldout: Processed 33000 ( 47.28% ) in 1.59 min. Users per second: 345\n",
      "EvaluatorHoldout: Processed 44000 ( 63.03% ) in 2.13 min. Users per second: 345\n",
      "EvaluatorHoldout: Processed 55000 ( 78.79% ) in 2.64 min. Users per second: 347\n",
      "EvaluatorHoldout: Processed 66000 ( 94.55% ) in 3.16 min. Users per second: 348\n",
      "EvaluatorHoldout: Processed 69803 ( 100.00% ) in 3.35 min. Users per second: 347\n",
      "CPU times: user 5min 55s, sys: 43.1 s, total: 6min 38s\n",
      "Wall time: 5min 37s\n"
     ]
    }
   ],
   "source": [
    "%%time\n",
    "recommender = PureSVDItemRecommender(URM_train)\n",
    "recommender.fit()\n",
    "\n",
    "result_dict_puresvditem, _ = evaluator_test.evaluateRecommender(recommender)"
   ]
  },
  {
   "cell_type": "code",
   "execution_count": 52,
   "metadata": {
    "slideshow": {
     "slide_type": "skip"
    }
   },
   "outputs": [
    {
     "data": {
      "text/plain": [
       "{5: {'ROC_AUC': 0.4894691727671675,\n",
       "  'PRECISION': 0.3579244445081975,\n",
       "  'PRECISION_RECALL_MIN_DEN': 0.365026813556312,\n",
       "  'RECALL': 0.11168162912625752,\n",
       "  'MAP': 0.2900190735196128,\n",
       "  'MRR': 0.5740429016899917,\n",
       "  'NDCG': 0.16174004638219114,\n",
       "  'F1': 0.17024304970085205,\n",
       "  'HIT_RATE': 1.7896222225405785,\n",
       "  'ARHR': 0.9040096175426611,\n",
       "  'NOVELTY': 0.00457410934466472,\n",
       "  'AVERAGE_POPULARITY': 0.35186234142945894,\n",
       "  'DIVERSITY_MEAN_INTER_LIST': 0.9780195876256764,\n",
       "  'DIVERSITY_HERFINDAHL': 0.9956011152971863,\n",
       "  'COVERAGE_ITEM': 0.0805168055425522,\n",
       "  'COVERAGE_ITEM_CORRECT': 0.07752083138282932,\n",
       "  'COVERAGE_USER': 0.9989267008214316,\n",
       "  'COVERAGE_USER_CORRECT': 0.7535991299121326,\n",
       "  'DIVERSITY_GINI': 0.020833980353991824,\n",
       "  'SHANNON_ENTROPY': 8.229504693208586},\n",
       " 20: {'ROC_AUC': 0.5849750400244088,\n",
       "  'PRECISION': 0.23906493990227787,\n",
       "  'PRECISION_RECALL_MIN_DEN': 0.3461693273877278,\n",
       "  'RECALL': 0.2555831833944352,\n",
       "  'MAP': 0.20090907186102447,\n",
       "  'MRR': 0.5894354105022049,\n",
       "  'NDCG': 0.25195547052646294,\n",
       "  'F1': 0.24704825713681033,\n",
       "  'HIT_RATE': 4.781298798045929,\n",
       "  'ARHR': 1.1836161559198781,\n",
       "  'NOVELTY': 0.018716134872559267,\n",
       "  'AVERAGE_POPULARITY': 0.3111039589084757,\n",
       "  'DIVERSITY_MEAN_INTER_LIST': 0.9457179455962346,\n",
       "  'DIVERSITY_HERFINDAHL': 0.9972852198605421,\n",
       "  'COVERAGE_ITEM': 0.13013762756296227,\n",
       "  'COVERAGE_ITEM_CORRECT': 0.126205411478326,\n",
       "  'COVERAGE_USER': 0.9989267008214316,\n",
       "  'COVERAGE_USER_CORRECT': 0.8949884083688715,\n",
       "  'DIVERSITY_GINI': 0.03326228987716609,\n",
       "  'SHANNON_ENTROPY': 8.905704013028894}}"
      ]
     },
     "execution_count": 52,
     "metadata": {},
     "output_type": "execute_result"
    }
   ],
   "source": [
    "result_dict_puresvditem"
   ]
  },
  {
   "cell_type": "code",
   "execution_count": 53,
   "metadata": {
    "slideshow": {
     "slide_type": "fragment"
    }
   },
   "outputs": [
    {
     "name": "stdout",
     "output_type": "stream",
     "text": [
      "MatrixFactorization_BPR_Cython_Recommender: URM Detected 33 (0.31 %) cold items.\n",
      "MF_BPR: Processed 69000 ( 98.57% ) in 0.67 seconds. BPR loss 1.01E-02. Sample per second: 102730\n",
      "MF_BPR: Epoch 1 of 300. Elapsed time 0.44 sec\n",
      "MF_BPR: Processed 69000 ( 98.57% ) in 1.12 seconds. BPR loss 1.02E-02. Sample per second: 61717\n",
      "MF_BPR: Epoch 2 of 300. Elapsed time 0.88 sec\n",
      "MF_BPR: Processed 69000 ( 98.57% ) in 0.57 seconds. BPR loss 1.00E-02. Sample per second: 121887\n",
      "MF_BPR: Epoch 3 of 300. Elapsed time 1.33 sec\n",
      "MF_BPR: Processed 69000 ( 98.57% ) in 1.02 seconds. BPR loss 1.02E-02. Sample per second: 67393\n",
      "MF_BPR: Epoch 4 of 300. Elapsed time 1.79 sec\n",
      "MF_BPR: Processed 69000 ( 98.57% ) in 0.48 seconds. BPR loss 1.01E-02. Sample per second: 144737\n",
      "MF_BPR: Epoch 5 of 300. Elapsed time 2.24 sec\n",
      "MF_BPR: Processed 69000 ( 98.57% ) in 0.93 seconds. BPR loss 1.01E-02. Sample per second: 74304\n",
      "MF_BPR: Epoch 6 of 300. Elapsed time 2.69 sec\n",
      "MF_BPR: Processed 69000 ( 98.57% ) in 1.38 seconds. BPR loss 1.02E-02. Sample per second: 50052\n",
      "MF_BPR: Epoch 7 of 300. Elapsed time 3.14 sec\n",
      "MF_BPR: Processed 69000 ( 98.57% ) in 0.83 seconds. BPR loss 1.01E-02. Sample per second: 83174\n",
      "MF_BPR: Epoch 8 of 300. Elapsed time 3.60 sec\n",
      "MF_BPR: Processed 69000 ( 98.57% ) in 1.28 seconds. BPR loss 1.01E-02. Sample per second: 53904\n",
      "MF_BPR: Epoch 9 of 300. Elapsed time 4.05 sec\n",
      "MF_BPR: Processed 69000 ( 98.57% ) in 0.72 seconds. BPR loss 1.00E-02. Sample per second: 95381\n",
      "MF_BPR: Validation begins...\n",
      "EvaluatorHoldout: Processed 65000 ( 93.02% ) in 30.19 sec. Users per second: 2153\n",
      "EvaluatorHoldout: Processed 69878 ( 100.00% ) in 32.43 sec. Users per second: 2155\n",
      "MF_BPR: CUTOFF: 5 - ROC_AUC: 0.0243639, PRECISION: 0.0104096, PRECISION_RECALL_MIN_DEN: 0.0104096, RECALL: 0.0004444, MAP: 0.0049466, MRR: 0.0228649, NDCG: 0.0009204, F1: 0.0008524, HIT_RATE: 0.0520479, ARHR: 0.0237671, NOVELTY: 0.0075154, AVERAGE_POPULARITY: 0.0252752, DIVERSITY_MEAN_INTER_LIST: 0.9987401, DIVERSITY_HERFINDAHL: 0.9997452, COVERAGE_ITEM: 0.9426084, COVERAGE_ITEM_CORRECT: 0.1350997, COVERAGE_USER: 1.0000000, COVERAGE_USER_CORRECT: 0.0487707, DIVERSITY_GINI: 0.4052797, SHANNON_ENTROPY: 12.4757960, \n",
      "\n",
      "MF_BPR: New best model found! Updating.\n",
      "MF_BPR: Epoch 10 of 300. Elapsed time 36.98 sec\n",
      "MF_BPR: Processed 69000 ( 98.57% ) in 0.67 seconds. BPR loss 1.01E-02. Sample per second: 103097\n",
      "MF_BPR: Epoch 11 of 300. Elapsed time 37.44 sec\n",
      "MF_BPR: Processed 69000 ( 98.57% ) in 1.12 seconds. BPR loss 1.01E-02. Sample per second: 61845\n",
      "MF_BPR: Epoch 12 of 300. Elapsed time 37.88 sec\n",
      "MF_BPR: Processed 69000 ( 98.57% ) in 0.56 seconds. BPR loss 1.01E-02. Sample per second: 122325\n",
      "MF_BPR: Epoch 13 of 300. Elapsed time 38.33 sec\n",
      "MF_BPR: Processed 69000 ( 98.57% ) in 1.01 seconds. BPR loss 1.01E-02. Sample per second: 68427\n",
      "MF_BPR: Epoch 14 of 300. Elapsed time 38.77 sec\n",
      "MF_BPR: Processed 69000 ( 98.57% ) in 0.45 seconds. BPR loss 1.02E-02. Sample per second: 154286\n",
      "MF_BPR: Epoch 15 of 300. Elapsed time 39.21 sec\n",
      "MF_BPR: Processed 69000 ( 98.57% ) in 0.90 seconds. BPR loss 1.01E-02. Sample per second: 76597\n",
      "MF_BPR: Epoch 16 of 300. Elapsed time 39.67 sec\n",
      "MF_BPR: Processed 69000 ( 98.57% ) in 1.35 seconds. BPR loss 1.02E-02. Sample per second: 51205\n",
      "MF_BPR: Epoch 17 of 300. Elapsed time 40.11 sec\n",
      "MF_BPR: Processed 69000 ( 98.57% ) in 0.80 seconds. BPR loss 1.02E-02. Sample per second: 86543\n",
      "MF_BPR: Epoch 18 of 300. Elapsed time 40.56 sec\n",
      "MF_BPR: Processed 69000 ( 98.57% ) in 1.25 seconds. BPR loss 1.01E-02. Sample per second: 55216\n",
      "MF_BPR: Epoch 19 of 300. Elapsed time 41.02 sec\n",
      "MF_BPR: Processed 69000 ( 98.57% ) in 0.70 seconds. BPR loss 1.01E-02. Sample per second: 99146\n",
      "MF_BPR: Validation begins...\n",
      "EvaluatorHoldout: Processed 65000 ( 93.02% ) in 30.09 sec. Users per second: 2160\n",
      "EvaluatorHoldout: Processed 69878 ( 100.00% ) in 32.40 sec. Users per second: 2157\n",
      "MF_BPR: CUTOFF: 5 - ROC_AUC: 0.0243639, PRECISION: 0.0104096, PRECISION_RECALL_MIN_DEN: 0.0104096, RECALL: 0.0004444, MAP: 0.0049466, MRR: 0.0228649, NDCG: 0.0009204, F1: 0.0008524, HIT_RATE: 0.0520479, ARHR: 0.0237671, NOVELTY: 0.0075154, AVERAGE_POPULARITY: 0.0252748, DIVERSITY_MEAN_INTER_LIST: 0.9987401, DIVERSITY_HERFINDAHL: 0.9997452, COVERAGE_ITEM: 0.9426084, COVERAGE_ITEM_CORRECT: 0.1350997, COVERAGE_USER: 1.0000000, COVERAGE_USER_CORRECT: 0.0487707, DIVERSITY_GINI: 0.4052772, SHANNON_ENTROPY: 12.4757823, \n",
      "\n",
      "MF_BPR: Epoch 20 of 300. Elapsed time 1.23 min\n",
      "MF_BPR: Processed 69000 ( 98.57% ) in 0.59 seconds. BPR loss 1.02E-02. Sample per second: 117921\n",
      "MF_BPR: Epoch 21 of 300. Elapsed time 1.24 min\n",
      "MF_BPR: Processed 69000 ( 98.57% ) in 1.04 seconds. BPR loss 1.01E-02. Sample per second: 66605\n",
      "MF_BPR: Epoch 22 of 300. Elapsed time 1.25 min\n",
      "MF_BPR: Processed 69000 ( 98.57% ) in 0.49 seconds. BPR loss 1.01E-02. Sample per second: 141536\n",
      "MF_BPR: Epoch 23 of 300. Elapsed time 1.25 min\n",
      "MF_BPR: Processed 69000 ( 98.57% ) in 0.94 seconds. BPR loss 9.97E-03. Sample per second: 73772\n",
      "MF_BPR: Epoch 24 of 300. Elapsed time 1.26 min\n",
      "MF_BPR: Processed 69000 ( 98.57% ) in 1.38 seconds. BPR loss 1.01E-02. Sample per second: 49826\n",
      "MF_BPR: Epoch 25 of 300. Elapsed time 1.27 min\n",
      "MF_BPR: Processed 69000 ( 98.57% ) in 0.83 seconds. BPR loss 1.02E-02. Sample per second: 83300\n",
      "MF_BPR: Epoch 26 of 300. Elapsed time 1.28 min\n",
      "MF_BPR: Processed 69000 ( 98.57% ) in 1.27 seconds. BPR loss 1.01E-02. Sample per second: 54231\n",
      "MF_BPR: Epoch 27 of 300. Elapsed time 1.28 min\n",
      "MF_BPR: Processed 69000 ( 98.57% ) in 0.75 seconds. BPR loss 1.01E-02. Sample per second: 92176\n",
      "MF_BPR: Epoch 28 of 300. Elapsed time 1.29 min\n",
      "MF_BPR: Processed 69000 ( 98.57% ) in 1.19 seconds. BPR loss 1.01E-02. Sample per second: 57844\n",
      "MF_BPR: Epoch 29 of 300. Elapsed time 1.30 min\n",
      "MF_BPR: Processed 69000 ( 98.57% ) in 0.64 seconds. BPR loss 1.02E-02. Sample per second: 107503\n",
      "MF_BPR: Validation begins...\n",
      "EvaluatorHoldout: Processed 65000 ( 93.02% ) in 30.06 sec. Users per second: 2162\n",
      "EvaluatorHoldout: Processed 69878 ( 100.00% ) in 32.29 sec. Users per second: 2164\n",
      "MF_BPR: CUTOFF: 5 - ROC_AUC: 0.0243639, PRECISION: 0.0104096, PRECISION_RECALL_MIN_DEN: 0.0104096, RECALL: 0.0004444, MAP: 0.0049466, MRR: 0.0228649, NDCG: 0.0009204, F1: 0.0008524, HIT_RATE: 0.0520479, ARHR: 0.0237671, NOVELTY: 0.0075154, AVERAGE_POPULARITY: 0.0252745, DIVERSITY_MEAN_INTER_LIST: 0.9987401, DIVERSITY_HERFINDAHL: 0.9997452, COVERAGE_ITEM: 0.9426084, COVERAGE_ITEM_CORRECT: 0.1350997, COVERAGE_USER: 1.0000000, COVERAGE_USER_CORRECT: 0.0487707, DIVERSITY_GINI: 0.4052824, SHANNON_ENTROPY: 12.4757983, \n",
      "\n",
      "MF_BPR: Epoch 30 of 300. Elapsed time 1.85 min\n",
      "MF_BPR: Processed 69000 ( 98.57% ) in 1.44 seconds. BPR loss 1.01E-02. Sample per second: 47780\n",
      "MF_BPR: Epoch 31 of 300. Elapsed time 1.85 min\n",
      "MF_BPR: Processed 69000 ( 98.57% ) in 0.90 seconds. BPR loss 1.02E-02. Sample per second: 77058\n",
      "MF_BPR: Epoch 32 of 300. Elapsed time 1.86 min\n",
      "MF_BPR: Processed 69000 ( 98.57% ) in 1.35 seconds. BPR loss 1.02E-02. Sample per second: 51093\n",
      "MF_BPR: Epoch 33 of 300. Elapsed time 1.87 min\n",
      "MF_BPR: Processed 69000 ( 98.57% ) in 0.81 seconds. BPR loss 1.02E-02. Sample per second: 85123\n",
      "MF_BPR: Epoch 34 of 300. Elapsed time 1.88 min\n",
      "MF_BPR: Processed 69000 ( 98.57% ) in 1.28 seconds. BPR loss 1.01E-02. Sample per second: 53835\n",
      "MF_BPR: Epoch 35 of 300. Elapsed time 1.88 min\n",
      "MF_BPR: Processed 69000 ( 98.57% ) in 0.75 seconds. BPR loss 1.01E-02. Sample per second: 91735\n",
      "MF_BPR: Epoch 36 of 300. Elapsed time 1.89 min\n",
      "MF_BPR: Processed 69000 ( 98.57% ) in 1.21 seconds. BPR loss 1.02E-02. Sample per second: 57069\n",
      "MF_BPR: Epoch 37 of 300. Elapsed time 1.90 min\n",
      "MF_BPR: Processed 69000 ( 98.57% ) in 0.67 seconds. BPR loss 1.02E-02. Sample per second: 103046\n",
      "MF_BPR: Epoch 38 of 300. Elapsed time 1.91 min\n",
      "MF_BPR: Processed 69000 ( 98.57% ) in 1.13 seconds. BPR loss 1.01E-02. Sample per second: 61177\n",
      "MF_BPR: Epoch 39 of 300. Elapsed time 1.91 min\n",
      "MF_BPR: Processed 69000 ( 98.57% ) in 0.60 seconds. BPR loss 1.02E-02. Sample per second: 115270\n",
      "MF_BPR: Validation begins...\n",
      "EvaluatorHoldout: Processed 67000 ( 95.88% ) in 30.43 sec. Users per second: 2202\n",
      "EvaluatorHoldout: Processed 69878 ( 100.00% ) in 31.77 sec. Users per second: 2199\n",
      "MF_BPR: CUTOFF: 5 - ROC_AUC: 0.0243639, PRECISION: 0.0104096, PRECISION_RECALL_MIN_DEN: 0.0104096, RECALL: 0.0004444, MAP: 0.0049466, MRR: 0.0228649, NDCG: 0.0009204, F1: 0.0008524, HIT_RATE: 0.0520479, ARHR: 0.0237671, NOVELTY: 0.0075154, AVERAGE_POPULARITY: 0.0252745, DIVERSITY_MEAN_INTER_LIST: 0.9987401, DIVERSITY_HERFINDAHL: 0.9997452, COVERAGE_ITEM: 0.9426084, COVERAGE_ITEM_CORRECT: 0.1350997, COVERAGE_USER: 1.0000000, COVERAGE_USER_CORRECT: 0.0487707, DIVERSITY_GINI: 0.4052718, SHANNON_ENTROPY: 12.4757614, \n",
      "\n",
      "MF_BPR: Epoch 40 of 300. Elapsed time 2.45 min\n"
     ]
    },
    {
     "name": "stdout",
     "output_type": "stream",
     "text": [
      "MF_BPR: Processed 69000 ( 98.57% ) in 0.88 seconds. BPR loss 1.01E-02. Sample per second: 78751\n",
      "MF_BPR: Epoch 41 of 300. Elapsed time 2.46 min\n",
      "MF_BPR: Processed 69000 ( 98.57% ) in 1.32 seconds. BPR loss 1.01E-02. Sample per second: 52278\n",
      "MF_BPR: Epoch 42 of 300. Elapsed time 2.47 min\n",
      "MF_BPR: Processed 69000 ( 98.57% ) in 0.77 seconds. BPR loss 1.01E-02. Sample per second: 89963\n",
      "MF_BPR: Epoch 43 of 300. Elapsed time 2.48 min\n",
      "MF_BPR: Processed 69000 ( 98.57% ) in 1.21 seconds. BPR loss 1.01E-02. Sample per second: 56882\n",
      "MF_BPR: Epoch 44 of 300. Elapsed time 2.48 min\n",
      "MF_BPR: Processed 69000 ( 98.57% ) in 0.65 seconds. BPR loss 1.00E-02. Sample per second: 105721\n",
      "MF_BPR: Epoch 45 of 300. Elapsed time 2.49 min\n",
      "MF_BPR: Processed 69000 ( 98.57% ) in 1.10 seconds. BPR loss 1.01E-02. Sample per second: 62797\n",
      "MF_BPR: Epoch 46 of 300. Elapsed time 2.50 min\n",
      "MF_BPR: Processed 69000 ( 98.57% ) in 0.54 seconds. BPR loss 1.01E-02. Sample per second: 128327\n",
      "MF_BPR: Epoch 47 of 300. Elapsed time 2.51 min\n",
      "MF_BPR: Processed 69000 ( 98.57% ) in 0.99 seconds. BPR loss 1.01E-02. Sample per second: 69957\n",
      "MF_BPR: Epoch 48 of 300. Elapsed time 2.51 min\n",
      "MF_BPR: Processed 69000 ( 98.57% ) in 1.43 seconds. BPR loss 1.02E-02. Sample per second: 48277\n",
      "MF_BPR: Epoch 49 of 300. Elapsed time 2.52 min\n",
      "MF_BPR: Processed 69000 ( 98.57% ) in 0.87 seconds. BPR loss 1.03E-02. Sample per second: 79369\n",
      "MF_BPR: Validation begins...\n",
      "EvaluatorHoldout: Processed 66000 ( 94.45% ) in 30.39 sec. Users per second: 2171\n",
      "EvaluatorHoldout: Processed 69878 ( 100.00% ) in 32.15 sec. Users per second: 2174\n",
      "MF_BPR: CUTOFF: 5 - ROC_AUC: 0.0243639, PRECISION: 0.0104096, PRECISION_RECALL_MIN_DEN: 0.0104096, RECALL: 0.0004444, MAP: 0.0049466, MRR: 0.0228649, NDCG: 0.0009204, F1: 0.0008524, HIT_RATE: 0.0520479, ARHR: 0.0237671, NOVELTY: 0.0075154, AVERAGE_POPULARITY: 0.0252745, DIVERSITY_MEAN_INTER_LIST: 0.9987401, DIVERSITY_HERFINDAHL: 0.9997452, COVERAGE_ITEM: 0.9426084, COVERAGE_ITEM_CORRECT: 0.1350997, COVERAGE_USER: 1.0000000, COVERAGE_USER_CORRECT: 0.0487707, DIVERSITY_GINI: 0.4052762, SHANNON_ENTROPY: 12.4757785, \n",
      "\n",
      "MF_BPR: Epoch 50 of 300. Elapsed time 3.06 min\n",
      "MF_BPR: Processed 69000 ( 98.57% ) in 0.50 seconds. BPR loss 1.01E-02. Sample per second: 137578\n",
      "MF_BPR: Epoch 51 of 300. Elapsed time 3.07 min\n",
      "MF_BPR: Processed 69000 ( 98.57% ) in 0.94 seconds. BPR loss 1.01E-02. Sample per second: 73106\n",
      "MF_BPR: Epoch 52 of 300. Elapsed time 3.08 min\n",
      "MF_BPR: Processed 69000 ( 98.57% ) in 1.41 seconds. BPR loss 1.01E-02. Sample per second: 48975\n",
      "MF_BPR: Epoch 53 of 300. Elapsed time 3.09 min\n",
      "MF_BPR: Processed 69000 ( 98.57% ) in 0.85 seconds. BPR loss 1.01E-02. Sample per second: 81009\n",
      "MF_BPR: Epoch 54 of 300. Elapsed time 3.09 min\n",
      "MF_BPR: Processed 69000 ( 98.57% ) in 1.29 seconds. BPR loss 1.01E-02. Sample per second: 53444\n",
      "MF_BPR: Epoch 55 of 300. Elapsed time 3.10 min\n",
      "MF_BPR: Processed 69000 ( 98.57% ) in 0.74 seconds. BPR loss 1.02E-02. Sample per second: 93720\n",
      "MF_BPR: Epoch 56 of 300. Elapsed time 3.11 min\n",
      "MF_BPR: Processed 69000 ( 98.57% ) in 1.18 seconds. BPR loss 1.01E-02. Sample per second: 58709\n",
      "MF_BPR: Epoch 57 of 300. Elapsed time 3.12 min\n",
      "MF_BPR: Processed 69000 ( 98.57% ) in 0.61 seconds. BPR loss 1.00E-02. Sample per second: 112354\n",
      "MF_BPR: Epoch 58 of 300. Elapsed time 3.12 min\n",
      "MF_BPR: Processed 69000 ( 98.57% ) in 1.06 seconds. BPR loss 1.00E-02. Sample per second: 65180\n",
      "MF_BPR: Epoch 59 of 300. Elapsed time 3.13 min\n",
      "MF_BPR: Processed 69000 ( 98.57% ) in 0.51 seconds. BPR loss 1.01E-02. Sample per second: 134356\n",
      "MF_BPR: Validation begins...\n",
      "EvaluatorHoldout: Processed 66000 ( 94.45% ) in 30.26 sec. Users per second: 2181\n",
      "EvaluatorHoldout: Processed 69878 ( 100.00% ) in 32.06 sec. Users per second: 2180\n",
      "MF_BPR: CUTOFF: 5 - ROC_AUC: 0.0243603, PRECISION: 0.0104096, PRECISION_RECALL_MIN_DEN: 0.0104096, RECALL: 0.0004444, MAP: 0.0049452, MRR: 0.0228577, NDCG: 0.0009198, F1: 0.0008524, HIT_RATE: 0.0520479, ARHR: 0.0237600, NOVELTY: 0.0075154, AVERAGE_POPULARITY: 0.0252735, DIVERSITY_MEAN_INTER_LIST: 0.9987401, DIVERSITY_HERFINDAHL: 0.9997452, COVERAGE_ITEM: 0.9425147, COVERAGE_ITEM_CORRECT: 0.1350997, COVERAGE_USER: 1.0000000, COVERAGE_USER_CORRECT: 0.0487707, DIVERSITY_GINI: 0.4052752, SHANNON_ENTROPY: 12.4757791, \n",
      "\n",
      "MF_BPR: Convergence reached! Terminating at epoch 60. Best value for 'MAP' at epoch 10 is 0.0049. Elapsed time 3.67 min\n",
      "MF_BPR: Epoch 60 of 300. Elapsed time 3.67 min\n",
      "EvaluatorHoldout: Processed 45000 ( 64.47% ) in 30.65 sec. Users per second: 1468\n",
      "EvaluatorHoldout: Processed 69803 ( 100.00% ) in 47.30 sec. Users per second: 1476\n",
      "CPU times: user 8min 43s, sys: 48.4 s, total: 9min 32s\n",
      "Wall time: 4min 28s\n"
     ]
    }
   ],
   "source": [
    "%%time\n",
    "\n",
    "recommender = MatrixFactorization_BPR_Cython(URM_train)\n",
    "recommender.fit(num_factors = 50, \n",
    "                validation_every_n = 10, \n",
    "                stop_on_validation = True, \n",
    "                evaluator_object = evaluator_validation_early_stopping,\n",
    "                lower_validations_allowed = 5, \n",
    "                validation_metric = \"MAP\")\n",
    "\n",
    "result_dict_bpr, _ = evaluator_test.evaluateRecommender(recommender)"
   ]
  },
  {
   "cell_type": "code",
   "execution_count": 54,
   "metadata": {
    "slideshow": {
     "slide_type": "skip"
    }
   },
   "outputs": [
    {
     "data": {
      "text/plain": [
       "{5: {'ROC_AUC': 0.006298678662330655,\n",
       "  'PRECISION': 0.0026703723335672978,\n",
       "  'PRECISION_RECALL_MIN_DEN': 0.002688996174949474,\n",
       "  'RECALL': 0.00045018322789655454,\n",
       "  'MAP': 0.0012063712638902843,\n",
       "  'MRR': 0.005866987569779682,\n",
       "  'NDCG': 0.0005662338696154817,\n",
       "  'F1': 0.0007704761624222125,\n",
       "  'HIT_RATE': 0.013351861667836626,\n",
       "  'ARHR': 0.005930499644236844,\n",
       "  'NOVELTY': 0.007538826337208619,\n",
       "  'AVERAGE_POPULARITY': 0.023392033169291004,\n",
       "  'DIVERSITY_MEAN_INTER_LIST': 0.9987419011100199,\n",
       "  'DIVERSITY_HERFINDAHL': 0.9997455186203504,\n",
       "  'COVERAGE_ITEM': 0.9429828667727741,\n",
       "  'COVERAGE_ITEM_CORRECT': 0.056736260649751895,\n",
       "  'COVERAGE_USER': 0.9989267008214316,\n",
       "  'COVERAGE_USER_CORRECT': 0.013079939322819771,\n",
       "  'DIVERSITY_GINI': 0.40581474346520174,\n",
       "  'SHANNON_ENTROPY': 12.477497994423809},\n",
       " 20: {'ROC_AUC': 0.02371310761236453,\n",
       "  'PRECISION': 0.0025858487457559843,\n",
       "  'PRECISION_RECALL_MIN_DEN': 0.003148296977930475,\n",
       "  'RECALL': 0.0017183472765755644,\n",
       "  'MAP': 0.000589259737620268,\n",
       "  'MRR': 0.008893915279358055,\n",
       "  'NDCG': 0.0013720621975409155,\n",
       "  'F1': 0.0020646764816715703,\n",
       "  'HIT_RATE': 0.051716974915118265,\n",
       "  'ARHR': 0.009297131022725143,\n",
       "  'NOVELTY': 0.0301340763563415,\n",
       "  'AVERAGE_POPULARITY': 0.023701644804162925,\n",
       "  'DIVERSITY_MEAN_INTER_LIST': 0.996374803822468,\n",
       "  'DIVERSITY_HERFINDAHL': 0.9998180264862656,\n",
       "  'COVERAGE_ITEM': 0.9970040258402771,\n",
       "  'COVERAGE_ITEM_CORRECT': 0.1495178354086696,\n",
       "  'COVERAGE_USER': 0.9989267008214316,\n",
       "  'COVERAGE_USER_CORRECT': 0.04696757205415152,\n",
       "  'DIVERSITY_GINI': 0.5121910504799015,\n",
       "  'SHANNON_ENTROPY': 12.805386919155065}}"
      ]
     },
     "execution_count": 54,
     "metadata": {},
     "output_type": "execute_result"
    }
   ],
   "source": [
    "result_dict_bpr"
   ]
  },
  {
   "cell_type": "code",
   "execution_count": 55,
   "metadata": {
    "slideshow": {
     "slide_type": "fragment"
    }
   },
   "outputs": [
    {
     "name": "stdout",
     "output_type": "stream",
     "text": [
      "MatrixFactorization_FunkSVD_Cython_Recommender: URM Detected 33 (0.31 %) cold items.\n",
      "FUNK_SVD: Processed 8000000 ( 99.99% ) in 33.80 seconds. MSE loss 1.95E+00. Sample per second: 236663\n",
      "FUNK_SVD: Epoch 1 of 300. Elapsed time 33.27 sec\n",
      "FUNK_SVD: Processed 8000000 ( 99.99% ) in 34.66 seconds. MSE loss 1.13E+00. Sample per second: 230838\n",
      "FUNK_SVD: Epoch 2 of 300. Elapsed time 1.12 min\n",
      "FUNK_SVD: Processed 8000000 ( 99.99% ) in 34.50 seconds. MSE loss 1.13E+00. Sample per second: 231896\n",
      "FUNK_SVD: Epoch 3 of 300. Elapsed time 1.68 min\n",
      "FUNK_SVD: Processed 8000000 ( 99.99% ) in 34.28 seconds. MSE loss 1.13E+00. Sample per second: 233351\n",
      "FUNK_SVD: Epoch 4 of 300. Elapsed time 2.25 min\n",
      "FUNK_SVD: Processed 8000000 ( 99.99% ) in 34.33 seconds. MSE loss 1.13E+00. Sample per second: 233029\n",
      "FUNK_SVD: Epoch 5 of 300. Elapsed time 2.81 min\n",
      "FUNK_SVD: Processed 8000000 ( 99.99% ) in 34.07 seconds. MSE loss 1.12E+00. Sample per second: 234816\n",
      "FUNK_SVD: Epoch 6 of 300. Elapsed time 3.38 min\n",
      "FUNK_SVD: Processed 8000000 ( 99.99% ) in 33.71 seconds. MSE loss 1.12E+00. Sample per second: 237329\n",
      "FUNK_SVD: Epoch 7 of 300. Elapsed time 3.94 min\n",
      "FUNK_SVD: Processed 8000000 ( 99.99% ) in 34.37 seconds. MSE loss 1.12E+00. Sample per second: 232783\n",
      "FUNK_SVD: Epoch 8 of 300. Elapsed time 4.50 min\n",
      "FUNK_SVD: Processed 8000000 ( 99.99% ) in 34.22 seconds. MSE loss 1.11E+00. Sample per second: 233787\n",
      "FUNK_SVD: Epoch 9 of 300. Elapsed time 5.06 min\n",
      "FUNK_SVD: Processed 8000000 ( 99.99% ) in 33.91 seconds. MSE loss 1.11E+00. Sample per second: 235918\n",
      "FUNK_SVD: Validation begins...\n",
      "EvaluatorHoldout: Processed 61000 ( 87.29% ) in 30.32 sec. Users per second: 2012\n",
      "EvaluatorHoldout: Processed 69878 ( 100.00% ) in 34.77 sec. Users per second: 2010\n",
      "FUNK_SVD: CUTOFF: 5 - ROC_AUC: 0.4065335, PRECISION: 0.2471937, PRECISION_RECALL_MIN_DEN: 0.2471937, RECALL: 0.0188649, MAP: 0.1813554, MRR: 0.4523295, NDCG: 0.0560618, F1: 0.0350545, HIT_RATE: 1.2359684, ARHR: 0.6430558, NOVELTY: 0.0048812, AVERAGE_POPULARITY: 0.6164805, DIVERSITY_MEAN_INTER_LIST: 0.7033548, DIVERSITY_HERFINDAHL: 0.9406690, COVERAGE_ITEM: 0.7500234, COVERAGE_ITEM_CORRECT: 0.0539275, COVERAGE_USER: 1.0000000, COVERAGE_USER_CORRECT: 0.6416326, DIVERSITY_GINI: 0.0810413, SHANNON_ENTROPY: 6.8368469, \n",
      "\n",
      "FUNK_SVD: New best model found! Updating.\n",
      "FUNK_SVD: Epoch 10 of 300. Elapsed time 6.20 min\n",
      "FUNK_SVD: Processed 8000000 ( 99.99% ) in 34.68 seconds. MSE loss 1.11E+00. Sample per second: 230661\n",
      "FUNK_SVD: Epoch 11 of 300. Elapsed time 6.77 min\n",
      "FUNK_SVD: Processed 8000000 ( 99.99% ) in 34.43 seconds. MSE loss 1.10E+00. Sample per second: 232336\n",
      "FUNK_SVD: Epoch 12 of 300. Elapsed time 7.33 min\n",
      "FUNK_SVD: Processed 8000000 ( 99.99% ) in 34.29 seconds. MSE loss 1.10E+00. Sample per second: 233272\n",
      "FUNK_SVD: Epoch 13 of 300. Elapsed time 7.90 min\n",
      "FUNK_SVD: Processed 8000000 ( 99.99% ) in 33.85 seconds. MSE loss 1.10E+00. Sample per second: 236317\n",
      "FUNK_SVD: Epoch 14 of 300. Elapsed time 8.46 min\n",
      "FUNK_SVD: Processed 8000000 ( 99.99% ) in 36.75 seconds. MSE loss 1.10E+00. Sample per second: 217701\n",
      "FUNK_SVD: Epoch 15 of 300. Elapsed time 9.05 min\n",
      "FUNK_SVD: Processed 8000000 ( 99.99% ) in 35.32 seconds. MSE loss 1.10E+00. Sample per second: 226469\n",
      "FUNK_SVD: Epoch 16 of 300. Elapsed time 9.63 min\n",
      "FUNK_SVD: Processed 8000000 ( 99.99% ) in 36.09 seconds. MSE loss 1.10E+00. Sample per second: 221698\n",
      "FUNK_SVD: Epoch 17 of 300. Elapsed time 10.23 min\n",
      "FUNK_SVD: Processed 8000000 ( 99.99% ) in 33.85 seconds. MSE loss 1.09E+00. Sample per second: 236319\n",
      "FUNK_SVD: Epoch 18 of 300. Elapsed time 10.79 min\n",
      "FUNK_SVD: Processed 8000000 ( 99.99% ) in 36.03 seconds. MSE loss 1.09E+00. Sample per second: 222049\n",
      "FUNK_SVD: Epoch 19 of 300. Elapsed time 11.37 min\n",
      "FUNK_SVD: Processed 8000000 ( 99.99% ) in 34.67 seconds. MSE loss 1.09E+00. Sample per second: 230772\n",
      "FUNK_SVD: Validation begins...\n",
      "EvaluatorHoldout: Processed 60000 ( 85.86% ) in 30.10 sec. Users per second: 1993\n",
      "EvaluatorHoldout: Processed 69878 ( 100.00% ) in 35.16 sec. Users per second: 1987\n",
      "FUNK_SVD: CUTOFF: 5 - ROC_AUC: 0.3901204, PRECISION: 0.3325825, PRECISION_RECALL_MIN_DEN: 0.3325825, RECALL: 0.0254010, MAP: 0.2434253, MRR: 0.4898261, NDCG: 0.0716670, F1: 0.0471973, HIT_RATE: 1.6629125, ARHR: 0.7764234, NOVELTY: 0.0039638, AVERAGE_POPULARITY: 0.8302792, DIVERSITY_MEAN_INTER_LIST: 0.4186622, DIVERSITY_HERFINDAHL: 0.8837312, COVERAGE_ITEM: 0.0764910, COVERAGE_ITEM_CORRECT: 0.0078644, COVERAGE_USER: 1.0000000, COVERAGE_USER_CORRECT: 0.7180944, DIVERSITY_GINI: 0.0010894, SHANNON_ENTROPY: 3.5403092, \n",
      "\n",
      "FUNK_SVD: New best model found! Updating.\n",
      "FUNK_SVD: Epoch 20 of 300. Elapsed time 12.54 min\n",
      "FUNK_SVD: Processed 8000000 ( 99.99% ) in 34.80 seconds. MSE loss 1.09E+00. Sample per second: 229878\n",
      "FUNK_SVD: Epoch 21 of 300. Elapsed time 13.10 min\n",
      "FUNK_SVD: Processed 8000000 ( 99.99% ) in 34.78 seconds. MSE loss 1.09E+00. Sample per second: 229996\n",
      "FUNK_SVD: Epoch 22 of 300. Elapsed time 13.67 min\n",
      "FUNK_SVD: Processed 8000000 ( 99.99% ) in 34.65 seconds. MSE loss 1.08E+00. Sample per second: 230863\n",
      "FUNK_SVD: Epoch 23 of 300. Elapsed time 14.24 min\n",
      "FUNK_SVD: Processed 8000000 ( 99.99% ) in 34.40 seconds. MSE loss 1.08E+00. Sample per second: 232584\n",
      "FUNK_SVD: Epoch 24 of 300. Elapsed time 14.80 min\n",
      "FUNK_SVD: Processed 8000000 ( 99.99% ) in 34.25 seconds. MSE loss 1.08E+00. Sample per second: 233588\n",
      "FUNK_SVD: Epoch 25 of 300. Elapsed time 15.36 min\n",
      "FUNK_SVD: Processed 8000000 ( 99.99% ) in 34.04 seconds. MSE loss 1.08E+00. Sample per second: 235051\n",
      "FUNK_SVD: Epoch 26 of 300. Elapsed time 15.92 min\n",
      "FUNK_SVD: Processed 8000000 ( 99.99% ) in 33.78 seconds. MSE loss 1.08E+00. Sample per second: 236823\n",
      "FUNK_SVD: Epoch 27 of 300. Elapsed time 16.49 min\n",
      "FUNK_SVD: Processed 8000000 ( 99.99% ) in 34.55 seconds. MSE loss 1.08E+00. Sample per second: 231539\n",
      "FUNK_SVD: Epoch 28 of 300. Elapsed time 17.05 min\n",
      "FUNK_SVD: Processed 8000000 ( 99.99% ) in 34.06 seconds. MSE loss 1.07E+00. Sample per second: 234853\n",
      "FUNK_SVD: Epoch 29 of 300. Elapsed time 17.61 min\n",
      "FUNK_SVD: Processed 8000000 ( 99.99% ) in 33.65 seconds. MSE loss 1.07E+00. Sample per second: 237774\n",
      "FUNK_SVD: Validation begins...\n",
      "EvaluatorHoldout: Processed 60000 ( 85.86% ) in 30.32 sec. Users per second: 1979\n",
      "EvaluatorHoldout: Processed 69878 ( 100.00% ) in 35.27 sec. Users per second: 1981\n",
      "FUNK_SVD: CUTOFF: 5 - ROC_AUC: 0.3859655, PRECISION: 0.3294857, PRECISION_RECALL_MIN_DEN: 0.3294857, RECALL: 0.0249799, MAP: 0.2404371, MRR: 0.4876785, NDCG: 0.0715188, F1: 0.0464391, HIT_RATE: 1.6474284, ARHR: 0.7694136, NOVELTY: 0.0039608, AVERAGE_POPULARITY: 0.8227909, DIVERSITY_MEAN_INTER_LIST: 0.3547154, DIVERSITY_HERFINDAHL: 0.8709421, COVERAGE_ITEM: 0.0069282, COVERAGE_ITEM_CORRECT: 0.0036513, COVERAGE_USER: 1.0000000, COVERAGE_USER_CORRECT: 0.7166347, DIVERSITY_GINI: 0.0007803, SHANNON_ENTROPY: 3.2861137, \n",
      "\n",
      "FUNK_SVD: Epoch 30 of 300. Elapsed time 18.76 min\n",
      "FUNK_SVD: Processed 8000000 ( 99.99% ) in 34.68 seconds. MSE loss 1.07E+00. Sample per second: 230701\n",
      "FUNK_SVD: Epoch 31 of 300. Elapsed time 19.32 min\n",
      "FUNK_SVD: Processed 8000000 ( 99.99% ) in 34.21 seconds. MSE loss 1.07E+00. Sample per second: 233879\n",
      "FUNK_SVD: Epoch 32 of 300. Elapsed time 19.88 min\n",
      "FUNK_SVD: Processed 8000000 ( 99.99% ) in 33.90 seconds. MSE loss 1.07E+00. Sample per second: 235978\n",
      "FUNK_SVD: Epoch 33 of 300. Elapsed time 20.44 min\n",
      "FUNK_SVD: Processed 8000000 ( 99.99% ) in 34.48 seconds. MSE loss 1.07E+00. Sample per second: 232013\n",
      "FUNK_SVD: Epoch 34 of 300. Elapsed time 21.00 min\n",
      "FUNK_SVD: Processed 8000000 ( 99.99% ) in 34.14 seconds. MSE loss 1.07E+00. Sample per second: 234300\n",
      "FUNK_SVD: Epoch 35 of 300. Elapsed time 21.56 min\n",
      "FUNK_SVD: Processed 8000000 ( 99.99% ) in 33.71 seconds. MSE loss 1.07E+00. Sample per second: 237339\n",
      "FUNK_SVD: Epoch 36 of 300. Elapsed time 22.12 min\n",
      "FUNK_SVD: Processed 8000000 ( 99.99% ) in 34.18 seconds. MSE loss 1.07E+00. Sample per second: 234024\n",
      "FUNK_SVD: Epoch 37 of 300. Elapsed time 22.68 min\n",
      "FUNK_SVD: Processed 8000000 ( 99.99% ) in 33.83 seconds. MSE loss 1.06E+00. Sample per second: 236462\n",
      "FUNK_SVD: Epoch 38 of 300. Elapsed time 23.24 min\n",
      "FUNK_SVD: Processed 8000000 ( 99.99% ) in 34.32 seconds. MSE loss 1.06E+00. Sample per second: 233124\n",
      "FUNK_SVD: Epoch 39 of 300. Elapsed time 23.80 min\n"
     ]
    },
    {
     "name": "stdout",
     "output_type": "stream",
     "text": [
      "FUNK_SVD: Processed 8000000 ( 99.99% ) in 33.91 seconds. MSE loss 1.06E+00. Sample per second: 235928\n",
      "FUNK_SVD: Validation begins...\n",
      "EvaluatorHoldout: Processed 60000 ( 85.86% ) in 30.04 sec. Users per second: 1997\n",
      "EvaluatorHoldout: Processed 69878 ( 100.00% ) in 34.97 sec. Users per second: 1998\n",
      "FUNK_SVD: CUTOFF: 5 - ROC_AUC: 0.3849066, PRECISION: 0.3234723, PRECISION_RECALL_MIN_DEN: 0.3234723, RECALL: 0.0243075, MAP: 0.2355767, MRR: 0.4847434, NDCG: 0.0706417, F1: 0.0452172, HIT_RATE: 1.6173617, ARHR: 0.7587622, NOVELTY: 0.0039732, AVERAGE_POPULARITY: 0.8082288, DIVERSITY_MEAN_INTER_LIST: 0.3158171, DIVERSITY_HERFINDAHL: 0.8631625, COVERAGE_ITEM: 0.0044940, COVERAGE_ITEM_CORRECT: 0.0032768, COVERAGE_USER: 1.0000000, COVERAGE_USER_CORRECT: 0.7131572, DIVERSITY_GINI: 0.0007336, SHANNON_ENTROPY: 3.1800817, \n",
      "\n",
      "FUNK_SVD: Epoch 40 of 300. Elapsed time 24.94 min\n",
      "FUNK_SVD: Processed 8000000 ( 99.99% ) in 34.66 seconds. MSE loss 1.06E+00. Sample per second: 230832\n",
      "FUNK_SVD: Epoch 41 of 300. Elapsed time 25.50 min\n",
      "FUNK_SVD: Processed 8000000 ( 99.99% ) in 34.14 seconds. MSE loss 1.06E+00. Sample per second: 234341\n",
      "FUNK_SVD: Epoch 42 of 300. Elapsed time 26.06 min\n",
      "FUNK_SVD: Processed 8000000 ( 99.99% ) in 33.65 seconds. MSE loss 1.06E+00. Sample per second: 237708\n",
      "FUNK_SVD: Epoch 43 of 300. Elapsed time 26.62 min\n",
      "FUNK_SVD: Processed 8000000 ( 99.99% ) in 34.11 seconds. MSE loss 1.06E+00. Sample per second: 234506\n",
      "FUNK_SVD: Epoch 44 of 300. Elapsed time 27.18 min\n",
      "FUNK_SVD: Processed 8000000 ( 99.99% ) in 33.80 seconds. MSE loss 1.06E+00. Sample per second: 236678\n",
      "FUNK_SVD: Epoch 45 of 300. Elapsed time 27.74 min\n",
      "FUNK_SVD: Processed 8000000 ( 99.99% ) in 34.64 seconds. MSE loss 1.06E+00. Sample per second: 230931\n",
      "FUNK_SVD: Epoch 46 of 300. Elapsed time 28.30 min\n",
      "FUNK_SVD: Processed 8000000 ( 99.99% ) in 34.67 seconds. MSE loss 1.06E+00. Sample per second: 230777\n",
      "FUNK_SVD: Epoch 47 of 300. Elapsed time 28.87 min\n",
      "FUNK_SVD: Processed 8000000 ( 99.99% ) in 34.29 seconds. MSE loss 1.06E+00. Sample per second: 233306\n",
      "FUNK_SVD: Epoch 48 of 300. Elapsed time 29.43 min\n",
      "FUNK_SVD: Processed 8000000 ( 99.99% ) in 34.38 seconds. MSE loss 1.05E+00. Sample per second: 232693\n",
      "FUNK_SVD: Epoch 49 of 300. Elapsed time 30.00 min\n",
      "FUNK_SVD: Processed 8000000 ( 99.99% ) in 33.98 seconds. MSE loss 1.05E+00. Sample per second: 235428\n",
      "FUNK_SVD: Validation begins...\n",
      "EvaluatorHoldout: Processed 61000 ( 87.29% ) in 30.32 sec. Users per second: 2012\n",
      "EvaluatorHoldout: Processed 69878 ( 100.00% ) in 34.85 sec. Users per second: 2005\n",
      "FUNK_SVD: CUTOFF: 5 - ROC_AUC: 0.3826479, PRECISION: 0.3176021, PRECISION_RECALL_MIN_DEN: 0.3176021, RECALL: 0.0236154, MAP: 0.2307333, MRR: 0.4814179, NDCG: 0.0694911, F1: 0.0439621, HIT_RATE: 1.5880105, ARHR: 0.7479414, NOVELTY: 0.0039857, AVERAGE_POPULARITY: 0.7940646, DIVERSITY_MEAN_INTER_LIST: 0.2875948, DIVERSITY_HERFINDAHL: 0.8575181, COVERAGE_ITEM: 0.0039322, COVERAGE_ITEM_CORRECT: 0.0030896, COVERAGE_USER: 1.0000000, COVERAGE_USER_CORRECT: 0.7085206, DIVERSITY_GINI: 0.0007105, SHANNON_ENTROPY: 3.1059436, \n",
      "\n",
      "FUNK_SVD: Epoch 50 of 300. Elapsed time 31.14 min\n",
      "FUNK_SVD: Processed 8000000 ( 99.99% ) in 34.58 seconds. MSE loss 1.05E+00. Sample per second: 231351\n",
      "FUNK_SVD: Epoch 51 of 300. Elapsed time 31.70 min\n",
      "FUNK_SVD: Processed 8000000 ( 99.99% ) in 34.15 seconds. MSE loss 1.05E+00. Sample per second: 234265\n",
      "FUNK_SVD: Epoch 52 of 300. Elapsed time 32.26 min\n",
      "FUNK_SVD: Processed 8000000 ( 99.99% ) in 33.65 seconds. MSE loss 1.05E+00. Sample per second: 237732\n",
      "FUNK_SVD: Epoch 53 of 300. Elapsed time 32.82 min\n",
      "FUNK_SVD: Processed 8000000 ( 99.99% ) in 35.09 seconds. MSE loss 1.05E+00. Sample per second: 227999\n",
      "FUNK_SVD: Epoch 54 of 300. Elapsed time 33.39 min\n",
      "FUNK_SVD: Processed 8000000 ( 99.99% ) in 33.70 seconds. MSE loss 1.05E+00. Sample per second: 237382\n",
      "FUNK_SVD: Epoch 55 of 300. Elapsed time 33.95 min\n",
      "FUNK_SVD: Processed 8000000 ( 99.99% ) in 34.28 seconds. MSE loss 1.05E+00. Sample per second: 233344\n",
      "FUNK_SVD: Epoch 56 of 300. Elapsed time 34.51 min\n",
      "FUNK_SVD: Processed 8000000 ( 99.99% ) in 33.86 seconds. MSE loss 1.05E+00. Sample per second: 236301\n",
      "FUNK_SVD: Epoch 57 of 300. Elapsed time 35.07 min\n",
      "FUNK_SVD: Processed 8000000 ( 99.99% ) in 34.40 seconds. MSE loss 1.05E+00. Sample per second: 232571\n",
      "FUNK_SVD: Epoch 58 of 300. Elapsed time 35.63 min\n",
      "FUNK_SVD: Processed 8000000 ( 99.99% ) in 33.78 seconds. MSE loss 1.05E+00. Sample per second: 236799\n",
      "FUNK_SVD: Epoch 59 of 300. Elapsed time 36.19 min\n",
      "FUNK_SVD: Processed 8000000 ( 99.99% ) in 34.04 seconds. MSE loss 1.05E+00. Sample per second: 235043\n",
      "FUNK_SVD: Validation begins...\n",
      "EvaluatorHoldout: Processed 60000 ( 85.86% ) in 30.27 sec. Users per second: 1982\n",
      "EvaluatorHoldout: Processed 69878 ( 100.00% ) in 35.24 sec. Users per second: 1983\n",
      "FUNK_SVD: CUTOFF: 5 - ROC_AUC: 0.3810272, PRECISION: 0.3125075, PRECISION_RECALL_MIN_DEN: 0.3125075, RECALL: 0.0230510, MAP: 0.2266951, MRR: 0.4786578, NDCG: 0.0685223, F1: 0.0429351, HIT_RATE: 1.5625376, ARHR: 0.7389007, NOVELTY: 0.0039968, AVERAGE_POPULARITY: 0.7816051, DIVERSITY_MEAN_INTER_LIST: 0.2670543, DIVERSITY_HERFINDAHL: 0.8534101, COVERAGE_ITEM: 0.0038386, COVERAGE_ITEM_CORRECT: 0.0030896, COVERAGE_USER: 1.0000000, COVERAGE_USER_CORRECT: 0.7039698, DIVERSITY_GINI: 0.0006952, SHANNON_ENTROPY: 3.0540235, \n",
      "\n",
      "FUNK_SVD: Epoch 60 of 300. Elapsed time 37.33 min\n",
      "FUNK_SVD: Processed 8000000 ( 99.99% ) in 33.90 seconds. MSE loss 1.04E+00. Sample per second: 235992\n",
      "FUNK_SVD: Epoch 61 of 300. Elapsed time 37.89 min\n",
      "FUNK_SVD: Processed 8000000 ( 99.99% ) in 34.53 seconds. MSE loss 1.04E+00. Sample per second: 231658\n",
      "FUNK_SVD: Epoch 62 of 300. Elapsed time 38.45 min\n",
      "FUNK_SVD: Processed 8000000 ( 99.99% ) in 34.05 seconds. MSE loss 1.04E+00. Sample per second: 234938\n",
      "FUNK_SVD: Epoch 63 of 300. Elapsed time 39.01 min\n",
      "FUNK_SVD: Processed 8000000 ( 99.99% ) in 34.23 seconds. MSE loss 1.04E+00. Sample per second: 233739\n",
      "FUNK_SVD: Epoch 64 of 300. Elapsed time 39.58 min\n",
      "FUNK_SVD: Processed 8000000 ( 99.99% ) in 33.86 seconds. MSE loss 1.04E+00. Sample per second: 236268\n",
      "FUNK_SVD: Epoch 65 of 300. Elapsed time 40.14 min\n",
      "FUNK_SVD: Processed 8000000 ( 99.99% ) in 35.07 seconds. MSE loss 1.04E+00. Sample per second: 228098\n",
      "FUNK_SVD: Epoch 66 of 300. Elapsed time 40.71 min\n",
      "FUNK_SVD: Processed 8000000 ( 99.99% ) in 34.22 seconds. MSE loss 1.04E+00. Sample per second: 233785\n",
      "FUNK_SVD: Epoch 67 of 300. Elapsed time 41.28 min\n",
      "FUNK_SVD: Processed 8000000 ( 99.99% ) in 33.83 seconds. MSE loss 1.04E+00. Sample per second: 236450\n",
      "FUNK_SVD: Epoch 68 of 300. Elapsed time 41.84 min\n",
      "FUNK_SVD: Processed 8000000 ( 99.99% ) in 34.40 seconds. MSE loss 1.04E+00. Sample per second: 232577\n",
      "FUNK_SVD: Epoch 69 of 300. Elapsed time 42.40 min\n",
      "FUNK_SVD: Processed 8000000 ( 99.99% ) in 34.06 seconds. MSE loss 1.04E+00. Sample per second: 234854\n",
      "FUNK_SVD: Validation begins...\n",
      "EvaluatorHoldout: Processed 61000 ( 87.29% ) in 30.44 sec. Users per second: 2004\n",
      "EvaluatorHoldout: Processed 69878 ( 100.00% ) in 34.86 sec. Users per second: 2005\n",
      "FUNK_SVD: CUTOFF: 5 - ROC_AUC: 0.3794041, PRECISION: 0.3082687, PRECISION_RECALL_MIN_DEN: 0.3082687, RECALL: 0.0225665, MAP: 0.2232030, MRR: 0.4758532, NDCG: 0.0675795, F1: 0.0420544, HIT_RATE: 1.5413435, ARHR: 0.7307185, NOVELTY: 0.0040063, AVERAGE_POPULARITY: 0.7710777, DIVERSITY_MEAN_INTER_LIST: 0.2533008, DIVERSITY_HERFINDAHL: 0.8506594, COVERAGE_ITEM: 0.0038386, COVERAGE_ITEM_CORRECT: 0.0033705, COVERAGE_USER: 1.0000000, COVERAGE_USER_CORRECT: 0.7004780, DIVERSITY_GINI: 0.0006851, SHANNON_ENTROPY: 3.0279982, \n",
      "\n",
      "FUNK_SVD: Convergence reached! Terminating at epoch 70. Best value for 'MAP' at epoch 20 is 0.2434. Elapsed time 43.54 min\n",
      "FUNK_SVD: Epoch 70 of 300. Elapsed time 43.54 min\n",
      "EvaluatorHoldout: Processed 41000 ( 58.74% ) in 30.20 sec. Users per second: 1357\n",
      "EvaluatorHoldout: Processed 69803 ( 100.00% ) in 51.09 sec. Users per second: 1366\n",
      "CPU times: user 49min 6s, sys: 1min 7s, total: 50min 13s\n",
      "Wall time: 44min 24s\n"
     ]
    }
   ],
   "source": [
    "%%time\n",
    "\n",
    "recommender = MatrixFactorization_FunkSVD_Cython(URM_train)\n",
    "recommender.fit(num_factors = 50, \n",
    "                validation_every_n = 10, \n",
    "                stop_on_validation = True, \n",
    "                evaluator_object = evaluator_validation_early_stopping,\n",
    "                lower_validations_allowed = 5, \n",
    "                validation_metric = \"MAP\")\n",
    "\n",
    "result_dict_funksvd, _ = evaluator_test.evaluateRecommender(recommender)"
   ]
  },
  {
   "cell_type": "code",
   "execution_count": 56,
   "metadata": {
    "slideshow": {
     "slide_type": "skip"
    }
   },
   "outputs": [
    {
     "data": {
      "text/plain": [
       "{5: {'ROC_AUC': 0.2654530130032621,\n",
       "  'PRECISION': 0.14195664942766612,\n",
       "  'PRECISION_RECALL_MIN_DEN': 0.14389114125944263,\n",
       "  'RECALL': 0.0365105324081565,\n",
       "  'MAP': 0.09662308369427074,\n",
       "  'MRR': 0.2806352640049056,\n",
       "  'NDCG': 0.06729604729148968,\n",
       "  'F1': 0.0580825314342671,\n",
       "  'HIT_RATE': 0.7097832471383752,\n",
       "  'ARHR': 0.36594033685275834,\n",
       "  'NOVELTY': 0.004175236408101917,\n",
       "  'AVERAGE_POPULARITY': 0.7488661628631547,\n",
       "  'DIVERSITY_MEAN_INTER_LIST': 0.645703056083121,\n",
       "  'DIVERSITY_HERFINDAHL': 0.9291387611441171,\n",
       "  'COVERAGE_ITEM': 0.4740192865836532,\n",
       "  'COVERAGE_ITEM_CORRECT': 0.020690946540586088,\n",
       "  'COVERAGE_USER': 0.9989267008214316,\n",
       "  'COVERAGE_USER_CORRECT': 0.44184149517730903,\n",
       "  'DIVERSITY_GINI': 0.013964418755806101,\n",
       "  'SHANNON_ENTROPY': 4.846064379237325},\n",
       " 20: {'ROC_AUC': 0.44565230128784655,\n",
       "  'PRECISION': 0.06810738793463679,\n",
       "  'PRECISION_RECALL_MIN_DEN': 0.09814053472325876,\n",
       "  'RECALL': 0.0728104413750122,\n",
       "  'MAP': 0.04298732355130356,\n",
       "  'MRR': 0.3010988610112028,\n",
       "  'NDCG': 0.09462993384393704,\n",
       "  'F1': 0.07038043377071145,\n",
       "  'HIT_RATE': 1.3621477586923199,\n",
       "  'ARHR': 0.43307066811434763,\n",
       "  'NOVELTY': 0.02116343331546037,\n",
       "  'AVERAGE_POPULARITY': 0.4480704406239842,\n",
       "  'DIVERSITY_MEAN_INTER_LIST': 0.7353432080008269,\n",
       "  'DIVERSITY_HERFINDAHL': 0.986766633672531,\n",
       "  'COVERAGE_ITEM': 0.9506600505570639,\n",
       "  'COVERAGE_ITEM_CORRECT': 0.09549667634116656,\n",
       "  'COVERAGE_USER': 0.9989267008214316,\n",
       "  'COVERAGE_USER_CORRECT': 0.6298978219182003,\n",
       "  'DIVERSITY_GINI': 0.14816692038888926,\n",
       "  'SHANNON_ENTROPY': 8.861934661333688}}"
      ]
     },
     "execution_count": 56,
     "metadata": {},
     "output_type": "execute_result"
    }
   ],
   "source": [
    "result_dict_funksvd"
   ]
  },
  {
   "cell_type": "markdown",
   "metadata": {
    "slideshow": {
     "slide_type": "fragment"
    }
   },
   "source": [
    "What about the performance of these recommenders?"
   ]
  },
  {
   "cell_type": "code",
   "execution_count": 57,
   "metadata": {
    "slideshow": {
     "slide_type": "fragment"
    }
   },
   "outputs": [
    {
     "name": "stdout",
     "output_type": "stream",
     "text": [
      "Results for MAP\n",
      "PureSVD\t|PureSVD-ItemBased\t|BPRMF\t|FunkSVD\n",
      "0.20\t|0.20\t|0.00\t|0.04\n"
     ]
    }
   ],
   "source": [
    "# MAP@20\n",
    "\n",
    "puresvd = result_dict_puresvd[20]['MAP']\n",
    "puresvd_i = result_dict_puresvditem[20]['MAP']\n",
    "bpr = result_dict_bpr[20]['MAP']\n",
    "funksvd = result_dict_funksvd[20]['MAP']\n",
    "\n",
    "print(\"Results for MAP\")\n",
    "print(\"PureSVD\\t|PureSVD-ItemBased\\t|BPRMF\\t|FunkSVD\")\n",
    "print(f\"{puresvd:.2f}\\t|{puresvd_i:.2f}\\t|{bpr:.2f}\\t|{funksvd:.2f}\")"
   ]
  },
  {
   "cell_type": "code",
   "execution_count": 58,
   "metadata": {
    "slideshow": {
     "slide_type": "fragment"
    }
   },
   "outputs": [
    {
     "name": "stdout",
     "output_type": "stream",
     "text": [
      "Results for PRECISION\n",
      "PureSVD\t|PureSVD-ItemBased\t|BPRMF\t|FunkSVD\n",
      "0.24\t|0.24\t|0.00\t|0.07\n"
     ]
    }
   ],
   "source": [
    "# Precision@20\n",
    "\n",
    "puresvd = result_dict_puresvd[20]['PRECISION']\n",
    "puresvd_i = result_dict_puresvditem[20]['PRECISION']\n",
    "bpr = result_dict_bpr[20]['PRECISION']\n",
    "funksvd = result_dict_funksvd[20]['PRECISION']\n",
    "\n",
    "print(\"Results for PRECISION\")\n",
    "print(\"PureSVD\\t|PureSVD-ItemBased\\t|BPRMF\\t|FunkSVD\")\n",
    "print(f\"{puresvd:.2f}\\t|{puresvd_i:.2f}\\t|{bpr:.2f}\\t|{funksvd:.2f}\")"
   ]
  },
  {
   "cell_type": "code",
   "execution_count": 59,
   "metadata": {
    "slideshow": {
     "slide_type": "fragment"
    }
   },
   "outputs": [
    {
     "name": "stdout",
     "output_type": "stream",
     "text": [
      "Results for RECALL\n",
      "PureSVD\t|PureSVD-ItemBased\t|BPRMF\t|FunkSVD\n",
      "0.26\t|0.26\t|0.00\t|0.07\n"
     ]
    }
   ],
   "source": [
    "# Recall@20\n",
    "\n",
    "puresvd = result_dict_puresvd[20]['RECALL']\n",
    "puresvd_i = result_dict_puresvditem[20]['RECALL']\n",
    "bpr = result_dict_bpr[20]['RECALL']\n",
    "funksvd = result_dict_funksvd[20]['RECALL']\n",
    "\n",
    "print(\"Results for RECALL\")\n",
    "print(\"PureSVD\\t|PureSVD-ItemBased\\t|BPRMF\\t|FunkSVD\")\n",
    "print(f\"{puresvd:.2f}\\t|{puresvd_i:.2f}\\t|{bpr:.2f}\\t|{funksvd:.2f}\")"
   ]
  },
  {
   "cell_type": "markdown",
   "metadata": {
    "slideshow": {
     "slide_type": "slide"
    }
   },
   "source": [
    "## Extra\n",
    "\n",
    "This section is for you to practice and analyze different aspects of what you saw in the notebook.\n",
    "\n",
    "1. We briefly mentioned early stopping. Research on how to use it and when to use it. Implement it in models that might require it.\n",
    "\n",
    "2. The comparison we did was not fair in terms of parameters and their tuning. Run a hyperparameter tuning of the algorithms presented in the notebook and compare the best performant ones.\n",
    "\n",
    "3. Read about these other Matrix Factorization techniques:\n",
    " * Non Negative Matrix Factorization Recommender (NMFRecommender)\n",
    " * Binary/Implicit Alternating Least Squares (IALS) (IALSRecommender in the material)\n",
    " \n",
    " Familiarize yourself with these and compare them with what you've already know (BPR MF, FunkSVD, PureSVD, MF with PyTorch). What are the differences and similarities with what you've already seen?\n",
    "\n"
   ]
  },
  {
   "cell_type": "code",
   "execution_count": null,
   "metadata": {},
   "outputs": [],
   "source": []
  }
 ],
 "metadata": {
  "anaconda-cloud": {},
  "celltoolbar": "Slideshow",
  "kernelspec": {
   "display_name": "Python 3",
   "language": "python",
   "name": "python3"
  },
  "language_info": {
   "codemirror_mode": {
    "name": "ipython",
    "version": 3
   },
   "file_extension": ".py",
   "mimetype": "text/x-python",
   "name": "python",
   "nbconvert_exporter": "python",
   "pygments_lexer": "ipython3",
   "version": "3.6.10"
  }
 },
 "nbformat": 4,
 "nbformat_minor": 1
}
